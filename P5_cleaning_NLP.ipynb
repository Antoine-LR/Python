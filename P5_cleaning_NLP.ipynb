{
 "cells": [
  {
   "attachments": {
    "t%C3%A9l%C3%A9chargement.png": {
     "image/png": "[encoded data removed]"
    }
   },
   "cell_type": "markdown",
   "metadata": {},
   "source": [
    "![t%C3%A9l%C3%A9chargement.png](attachment:t%C3%A9l%C3%A9chargement.png)"
   ]
  },
  {
   "cell_type": "markdown",
   "metadata": {},
   "source": [
    "# Compréhension des données"
   ]
  },
  {
   "cell_type": "code",
   "execution_count": 1,
   "metadata": {},
   "outputs": [
    {
     "name": "stderr",
     "output_type": "stream",
     "text": [
      "[nltk_data] Downloading package punkt to\n",
      "[nltk_data]     C:\\Users\\perso\\AppData\\Roaming\\nltk_data...\n",
      "[nltk_data]   Package punkt is already up-to-date!\n",
      "[nltk_data] Downloading package wordnet to\n",
      "[nltk_data]     C:\\Users\\perso\\AppData\\Roaming\\nltk_data...\n",
      "[nltk_data]   Package wordnet is already up-to-date!\n",
      "[nltk_data] Downloading package stopwords to\n",
      "[nltk_data]     C:\\Users\\perso\\AppData\\Roaming\\nltk_data...\n",
      "[nltk_data]   Package stopwords is already up-to-date!\n"
     ]
    },
    {
     "data": {
      "text/plain": [
       "True"
      ]
     },
     "execution_count": 1,
     "metadata": {},
     "output_type": "execute_result"
    }
   ],
   "source": [
    "import warnings\n",
    "warnings.filterwarnings(\"ignore\")\n",
    "\n",
    "import pandas as pd\n",
    "import numpy as np\n",
    "import matplotlib.pyplot as plt\n",
    "import seaborn as sns\n",
    "import time as time\n",
    "\n",
    "from nltk.tokenize import ToktokTokenizer\n",
    "from nltk.stem.wordnet import WordNetLemmatizer\n",
    "from nltk.stem import PorterStemmer\n",
    "from nltk.corpus import wordnet\n",
    "from nltk.corpus import stopwords\n",
    "from nltk.tag.util import untag\n",
    "\n",
    "from collections import defaultdict, Counter\n",
    "import nltk\n",
    "from nltk.corpus import stopwords\n",
    "from nltk.stem import WordNetLemmatizer\n",
    "from nltk.tokenize import word_tokenize\n",
    "import string\n",
    "import gc\n",
    "from langdetect import detect\n",
    "import re\n",
    "from bs4 import BeautifulSoup\n",
    "# Download the required NLTK data\n",
    "nltk.download('punkt')\n",
    "nltk.download('wordnet')\n",
    "nltk.download('stopwords')"
   ]
  },
  {
   "cell_type": "code",
   "execution_count": 2,
   "metadata": {},
   "outputs": [
    {
     "name": "stdout",
     "output_type": "stream",
     "text": [
      "(50000, 8)\n"
     ]
    }
   ],
   "source": [
    "df = pd.read_csv(\"QueryResults.csv\")\n",
    "print(df.shape)"
   ]
  },
  {
   "cell_type": "code",
   "execution_count": 3,
   "metadata": {},
   "outputs": [
    {
     "data": {
      "text/html": [
       "<div>\n",
       "<style scoped>\n",
       "    .dataframe tbody tr th:only-of-type {\n",
       "        vertical-align: middle;\n",
       "    }\n",
       "\n",
       "    .dataframe tbody tr th {\n",
       "        vertical-align: top;\n",
       "    }\n",
       "\n",
       "    .dataframe thead th {\n",
       "        text-align: right;\n",
       "    }\n",
       "</style>\n",
       "<table border=\"1\" class=\"dataframe\">\n",
       "  <thead>\n",
       "    <tr style=\"text-align: right;\">\n",
       "      <th></th>\n",
       "      <th>Title</th>\n",
       "      <th>Body</th>\n",
       "      <th>Tags</th>\n",
       "      <th>Id</th>\n",
       "      <th>Score</th>\n",
       "      <th>ViewCount</th>\n",
       "      <th>FavoriteCount</th>\n",
       "      <th>AnswerCount</th>\n",
       "    </tr>\n",
       "  </thead>\n",
       "  <tbody>\n",
       "    <tr>\n",
       "      <th>0</th>\n",
       "      <td>Multilingual Android Sdk Documentation</td>\n",
       "      <td>&lt;p&gt;We have a social responsibility project aim...</td>\n",
       "      <td>&lt;android&gt;&lt;documentation&gt;&lt;translation&gt;&lt;javadoc&gt;...</td>\n",
       "      <td>19186586</td>\n",
       "      <td>6</td>\n",
       "      <td>201</td>\n",
       "      <td>NaN</td>\n",
       "      <td>1</td>\n",
       "    </tr>\n",
       "    <tr>\n",
       "      <th>1</th>\n",
       "      <td>how can I use animation in cocos2d?</td>\n",
       "      <td>&lt;p&gt;I am trying to develop a Roulette game for ...</td>\n",
       "      <td>&lt;iphone&gt;&lt;objective-c&gt;&lt;cocoa-touch&gt;&lt;animation&gt;&lt;...</td>\n",
       "      <td>486609</td>\n",
       "      <td>16</td>\n",
       "      <td>25784</td>\n",
       "      <td>0.0</td>\n",
       "      <td>4</td>\n",
       "    </tr>\n",
       "    <tr>\n",
       "      <th>2</th>\n",
       "      <td>How to extract \"original\" content by xml-signe...</td>\n",
       "      <td>&lt;p&gt;I'm dealing with XML-signature. As you know...</td>\n",
       "      <td>&lt;java&gt;&lt;xml&gt;&lt;digital-signature&gt;&lt;xml-signature&gt;&lt;...</td>\n",
       "      <td>40418710</td>\n",
       "      <td>6</td>\n",
       "      <td>3651</td>\n",
       "      <td>0.0</td>\n",
       "      <td>2</td>\n",
       "    </tr>\n",
       "    <tr>\n",
       "      <th>3</th>\n",
       "      <td>Are there any \"gotchas\" in deploying a Cassand...</td>\n",
       "      <td>&lt;p&gt;I am learning about the Apache Cassandra da...</td>\n",
       "      <td>&lt;database&gt;&lt;nosql&gt;&lt;cassandra&gt;&lt;vps&gt;&lt;linode&gt;</td>\n",
       "      <td>2291442</td>\n",
       "      <td>11</td>\n",
       "      <td>3031</td>\n",
       "      <td>0.0</td>\n",
       "      <td>1</td>\n",
       "    </tr>\n",
       "    <tr>\n",
       "      <th>4</th>\n",
       "      <td>Swing: Change cursor to wait cursor</td>\n",
       "      <td>&lt;p&gt;See also &lt;a href=\"https://stackoverflow.com...</td>\n",
       "      <td>&lt;java&gt;&lt;swing&gt;&lt;jframe&gt;&lt;event-dispatch-thread&gt;&lt;m...</td>\n",
       "      <td>21014861</td>\n",
       "      <td>7</td>\n",
       "      <td>38833</td>\n",
       "      <td>0.0</td>\n",
       "      <td>5</td>\n",
       "    </tr>\n",
       "  </tbody>\n",
       "</table>\n",
       "</div>"
      ],
      "text/plain": [
       "                                               Title  \\\n",
       "0             Multilingual Android Sdk Documentation   \n",
       "1                how can I use animation in cocos2d?   \n",
       "2  How to extract \"original\" content by xml-signe...   \n",
       "3  Are there any \"gotchas\" in deploying a Cassand...   \n",
       "4                Swing: Change cursor to wait cursor   \n",
       "\n",
       "                                                Body  \\\n",
       "0  <p>We have a social responsibility project aim...   \n",
       "1  <p>I am trying to develop a Roulette game for ...   \n",
       "2  <p>I'm dealing with XML-signature. As you know...   \n",
       "3  <p>I am learning about the Apache Cassandra da...   \n",
       "4  <p>See also <a href=\"https://stackoverflow.com...   \n",
       "\n",
       "                                                Tags        Id  Score  \\\n",
       "0  <android><documentation><translation><javadoc>...  19186586      6   \n",
       "1  <iphone><objective-c><cocoa-touch><animation><...    486609     16   \n",
       "2  <java><xml><digital-signature><xml-signature><...  40418710      6   \n",
       "3          <database><nosql><cassandra><vps><linode>   2291442     11   \n",
       "4  <java><swing><jframe><event-dispatch-thread><m...  21014861      7   \n",
       "\n",
       "   ViewCount  FavoriteCount  AnswerCount  \n",
       "0        201            NaN            1  \n",
       "1      25784            0.0            4  \n",
       "2       3651            0.0            2  \n",
       "3       3031            0.0            1  \n",
       "4      38833            0.0            5  "
      ]
     },
     "execution_count": 3,
     "metadata": {},
     "output_type": "execute_result"
    }
   ],
   "source": [
    "df.head()"
   ]
  },
  {
   "cell_type": "code",
   "execution_count": 4,
   "metadata": {},
   "outputs": [
    {
     "name": "stdout",
     "output_type": "stream",
     "text": [
      "<class 'pandas.core.frame.DataFrame'>\n",
      "RangeIndex: 50000 entries, 0 to 49999\n",
      "Data columns (total 8 columns):\n",
      " #   Column         Non-Null Count  Dtype  \n",
      "---  ------         --------------  -----  \n",
      " 0   Title          50000 non-null  object \n",
      " 1   Body           50000 non-null  object \n",
      " 2   Tags           50000 non-null  object \n",
      " 3   Id             50000 non-null  int64  \n",
      " 4   Score          50000 non-null  int64  \n",
      " 5   ViewCount      50000 non-null  int64  \n",
      " 6   FavoriteCount  43578 non-null  float64\n",
      " 7   AnswerCount    50000 non-null  int64  \n",
      "dtypes: float64(1), int64(4), object(3)\n",
      "memory usage: 3.1+ MB\n"
     ]
    }
   ],
   "source": [
    "df.info()"
   ]
  },
  {
   "cell_type": "code",
   "execution_count": 5,
   "metadata": {},
   "outputs": [
    {
     "data": {
      "text/plain": [
       "Title            49999\n",
       "Body             50000\n",
       "Tags             49082\n",
       "Id               50000\n",
       "Score              832\n",
       "ViewCount        27954\n",
       "FavoriteCount        3\n",
       "AnswerCount         69\n",
       "dtype: int64"
      ]
     },
     "execution_count": 5,
     "metadata": {},
     "output_type": "execute_result"
    }
   ],
   "source": [
    "df.nunique()"
   ]
  },
  {
   "cell_type": "code",
   "execution_count": 6,
   "metadata": {},
   "outputs": [],
   "source": [
    "# copy\n",
    "data = df.copy()"
   ]
  },
  {
   "cell_type": "markdown",
   "metadata": {},
   "source": [
    "## Prétraitement du texte"
   ]
  },
  {
   "cell_type": "code",
   "execution_count": 7,
   "metadata": {},
   "outputs": [
    {
     "data": {
      "text/html": [
       "<div>\n",
       "<style scoped>\n",
       "    .dataframe tbody tr th:only-of-type {\n",
       "        vertical-align: middle;\n",
       "    }\n",
       "\n",
       "    .dataframe tbody tr th {\n",
       "        vertical-align: top;\n",
       "    }\n",
       "\n",
       "    .dataframe thead th {\n",
       "        text-align: right;\n",
       "    }\n",
       "</style>\n",
       "<table border=\"1\" class=\"dataframe\">\n",
       "  <thead>\n",
       "    <tr style=\"text-align: right;\">\n",
       "      <th></th>\n",
       "      <th>Title</th>\n",
       "      <th>Body</th>\n",
       "      <th>Tags</th>\n",
       "    </tr>\n",
       "  </thead>\n",
       "  <tbody>\n",
       "    <tr>\n",
       "      <th>0</th>\n",
       "      <td>Multilingual Android Sdk Documentation</td>\n",
       "      <td>&lt;p&gt;We have a social responsibility project aim...</td>\n",
       "      <td>&lt;android&gt;&lt;documentation&gt;&lt;translation&gt;&lt;javadoc&gt;...</td>\n",
       "    </tr>\n",
       "    <tr>\n",
       "      <th>1</th>\n",
       "      <td>how can I use animation in cocos2d?</td>\n",
       "      <td>&lt;p&gt;I am trying to develop a Roulette game for ...</td>\n",
       "      <td>&lt;iphone&gt;&lt;objective-c&gt;&lt;cocoa-touch&gt;&lt;animation&gt;&lt;...</td>\n",
       "    </tr>\n",
       "    <tr>\n",
       "      <th>2</th>\n",
       "      <td>How to extract \"original\" content by xml-signe...</td>\n",
       "      <td>&lt;p&gt;I'm dealing with XML-signature. As you know...</td>\n",
       "      <td>&lt;java&gt;&lt;xml&gt;&lt;digital-signature&gt;&lt;xml-signature&gt;&lt;...</td>\n",
       "    </tr>\n",
       "    <tr>\n",
       "      <th>3</th>\n",
       "      <td>Are there any \"gotchas\" in deploying a Cassand...</td>\n",
       "      <td>&lt;p&gt;I am learning about the Apache Cassandra da...</td>\n",
       "      <td>&lt;database&gt;&lt;nosql&gt;&lt;cassandra&gt;&lt;vps&gt;&lt;linode&gt;</td>\n",
       "    </tr>\n",
       "    <tr>\n",
       "      <th>4</th>\n",
       "      <td>Swing: Change cursor to wait cursor</td>\n",
       "      <td>&lt;p&gt;See also &lt;a href=\"https://stackoverflow.com...</td>\n",
       "      <td>&lt;java&gt;&lt;swing&gt;&lt;jframe&gt;&lt;event-dispatch-thread&gt;&lt;m...</td>\n",
       "    </tr>\n",
       "  </tbody>\n",
       "</table>\n",
       "</div>"
      ],
      "text/plain": [
       "                                               Title  \\\n",
       "0             Multilingual Android Sdk Documentation   \n",
       "1                how can I use animation in cocos2d?   \n",
       "2  How to extract \"original\" content by xml-signe...   \n",
       "3  Are there any \"gotchas\" in deploying a Cassand...   \n",
       "4                Swing: Change cursor to wait cursor   \n",
       "\n",
       "                                                Body  \\\n",
       "0  <p>We have a social responsibility project aim...   \n",
       "1  <p>I am trying to develop a Roulette game for ...   \n",
       "2  <p>I'm dealing with XML-signature. As you know...   \n",
       "3  <p>I am learning about the Apache Cassandra da...   \n",
       "4  <p>See also <a href=\"https://stackoverflow.com...   \n",
       "\n",
       "                                                Tags  \n",
       "0  <android><documentation><translation><javadoc>...  \n",
       "1  <iphone><objective-c><cocoa-touch><animation><...  \n",
       "2  <java><xml><digital-signature><xml-signature><...  \n",
       "3          <database><nosql><cassandra><vps><linode>  \n",
       "4  <java><swing><jframe><event-dispatch-thread><m...  "
      ]
     },
     "execution_count": 7,
     "metadata": {},
     "output_type": "execute_result"
    }
   ],
   "source": [
    "data = data[['Title', 'Body', 'Tags']]\n",
    "data.head()"
   ]
  },
  {
   "cell_type": "code",
   "execution_count": 8,
   "metadata": {},
   "outputs": [
    {
     "data": {
      "text/plain": [
       "Title    0\n",
       "Body     0\n",
       "Tags     0\n",
       "dtype: int64"
      ]
     },
     "execution_count": 8,
     "metadata": {},
     "output_type": "execute_result"
    }
   ],
   "source": [
    "data.isna().sum()"
   ]
  },
  {
   "cell_type": "code",
   "execution_count": 9,
   "metadata": {},
   "outputs": [
    {
     "name": "stdout",
     "output_type": "stream",
     "text": [
      "<class 'pandas.core.frame.DataFrame'>\n",
      "RangeIndex: 50000 entries, 0 to 49999\n",
      "Data columns (total 3 columns):\n",
      " #   Column  Non-Null Count  Dtype \n",
      "---  ------  --------------  ----- \n",
      " 0   Title   50000 non-null  object\n",
      " 1   Body    50000 non-null  object\n",
      " 2   Tags    50000 non-null  object\n",
      "dtypes: object(3)\n",
      "memory usage: 1.1+ MB\n"
     ]
    }
   ],
   "source": [
    "data.info()"
   ]
  },
  {
   "cell_type": "markdown",
   "metadata": {},
   "source": [
    "### Filtre Langue"
   ]
  },
  {
   "cell_type": "code",
   "execution_count": 10,
   "metadata": {},
   "outputs": [
    {
     "name": "stdout",
     "output_type": "stream",
     "text": [
      "Wall time: 8min 44s\n"
     ]
    },
    {
     "data": {
      "text/plain": [
       "en    46807\n",
       "fr      495\n",
       "it      391\n",
       "ca      353\n",
       "nl      259\n",
       "ro      250\n",
       "da      249\n",
       "de      211\n",
       "af      211\n",
       "no      170\n",
       "tl      126\n",
       "es       97\n",
       "sv       85\n",
       "pt       73\n",
       "et       64\n",
       "id       41\n",
       "hr       27\n",
       "cy       24\n",
       "sl       16\n",
       "pl       12\n",
       "fi       11\n",
       "sq        8\n",
       "cs        4\n",
       "sk        3\n",
       "so        3\n",
       "tr        2\n",
       "lv        2\n",
       "hu        2\n",
       "lt        2\n",
       "vi        1\n",
       "sw        1\n",
       "Name: lang_title, dtype: int64"
      ]
     },
     "execution_count": 10,
     "metadata": {},
     "output_type": "execute_result"
    }
   ],
   "source": [
    "%%time\n",
    "for index in data.index:\n",
    "    data.loc[index,'lang_title'] = detect(data.loc[index,'Title']) \n",
    "\n",
    "data['lang_title'].value_counts()"
   ]
  },
  {
   "cell_type": "code",
   "execution_count": 11,
   "metadata": {},
   "outputs": [],
   "source": [
    "# Filtre Anglais\n",
    "data = data[data['lang_title']=='en']"
   ]
  },
  {
   "cell_type": "markdown",
   "metadata": {},
   "source": [
    "## Traitements"
   ]
  },
  {
   "cell_type": "code",
   "execution_count": null,
   "metadata": {},
   "outputs": [],
   "source": [
    "%%time\n",
    "\n",
    "data['Body'] = data['Body'].apply(\n",
    "    lambda x: BeautifulSoup(x, 'html.parser').get_text())\n",
    "data['Title'] = data['Title'].apply(\n",
    "    lambda x: BeautifulSoup(x, 'html.parser').get_text())"
   ]
  },
  {
   "cell_type": "code",
   "execution_count": null,
   "metadata": {},
   "outputs": [],
   "source": [
    "data['Body'][0]"
   ]
  },
  {
   "cell_type": "code",
   "execution_count": null,
   "metadata": {},
   "outputs": [],
   "source": [
    "def clean_text(text):\n",
    "    text = re.sub(r\"\\'\", \" \", text) \n",
    "    text = re.sub(r\"\\n\", \" \", text) \n",
    "    text = re.sub(r\"\\xa0\", \" \", text) \n",
    "    text = re.sub('\\s+', ' ', text)\n",
    "    text = text.strip(' ')\n",
    "    return text"
   ]
  },
  {
   "cell_type": "code",
   "execution_count": null,
   "metadata": {},
   "outputs": [],
   "source": [
    "%%time\n",
    "\n",
    "data['Title'] = data['Title'].apply(lambda x: clean_text(x)) \n",
    "data['Body'] = data['Body'].apply(lambda x: clean_text(x))"
   ]
  },
  {
   "cell_type": "code",
   "execution_count": null,
   "metadata": {},
   "outputs": [],
   "source": [
    "data['Body'][0]"
   ]
  },
  {
   "cell_type": "code",
   "execution_count": null,
   "metadata": {},
   "outputs": [],
   "source": [
    "%%time\n",
    "\n",
    "data['Title'] = data['Title'].str.lower()\n",
    "data['Body'] = data['Body'].str.lower()"
   ]
  },
  {
   "cell_type": "code",
   "execution_count": null,
   "metadata": {},
   "outputs": [],
   "source": [
    "charac = '!\"#$%&\\'()*+,-./:;<=>?@[\\\\]^_`{|}~0123456789'\n",
    "\n",
    "def remove_non_alphabetical_character(text):\n",
    "    \"\"\"remove all non-alphabetical character\"\"\"\n",
    "    text = re.sub(\"[^a-z]+\", \" \", text) # remove all non-alphabetical character\n",
    "    text = re.sub(\"\\s+\", \" \", text) # remove whitespaces left after the last operation\n",
    "    return text"
   ]
  },
  {
   "cell_type": "code",
   "execution_count": null,
   "metadata": {},
   "outputs": [],
   "source": [
    "%%time\n",
    "\n",
    "data['Title'] = data['Title'].apply(lambda x: remove_non_alphabetical_character(x))\n",
    "data['Body'] = data['Body'].apply(lambda x: remove_non_alphabetical_character(x)) "
   ]
  },
  {
   "cell_type": "code",
   "execution_count": null,
   "metadata": {},
   "outputs": [],
   "source": [
    "data['Body'][0]"
   ]
  },
  {
   "cell_type": "markdown",
   "metadata": {},
   "source": [
    "### Stopwords"
   ]
  },
  {
   "cell_type": "code",
   "execution_count": null,
   "metadata": {},
   "outputs": [],
   "source": [
    "token = ToktokTokenizer()\n",
    "stop_words = set(stopwords.words(\"english\"))\n",
    "\n",
    "def remove_stopwords(text):\n",
    "    \"\"\"remove common words in english by using nltk.corpus's list\"\"\"\n",
    "    words = token.tokenize(text)\n",
    "    filtered = [w for w in words if not w in stop_words]\n",
    "    \n",
    "    return ' '.join(map(str, filtered)) # Return the text untokenize"
   ]
  },
  {
   "cell_type": "code",
   "execution_count": null,
   "metadata": {},
   "outputs": [],
   "source": [
    "%%time\n",
    "\n",
    "data['Title'] = data['Title'].apply(lambda x: remove_stopwords(x))\n",
    "data['Body'] = data['Body'].apply(lambda x: remove_stopwords(x)) "
   ]
  },
  {
   "cell_type": "code",
   "execution_count": null,
   "metadata": {},
   "outputs": [],
   "source": [
    "data['Body'][0]"
   ]
  },
  {
   "cell_type": "markdown",
   "metadata": {},
   "source": [
    "### Pos tag"
   ]
  },
  {
   "cell_type": "code",
   "execution_count": null,
   "metadata": {},
   "outputs": [],
   "source": [
    "lemmatizer = WordNetLemmatizer()\n",
    "\n",
    "def lemmatize_text(text):\n",
    "    \"\"\"Lemmatize the text by using tag \"\"\"\n",
    "    \n",
    "    tokens_tagged = nltk.pos_tag(nltk.word_tokenize(text))  # tokenize the text then return a list of tuple (token, nltk_tag)\n",
    "    lemmatized_text = []\n",
    "    for word, tag in tokens_tagged:\n",
    "        if tag.startswith('J'):\n",
    "            lemmatized_text.append(lemmatizer.lemmatize(word,'a')) # Lemmatisze adjectives. Not doing anything since we remove all adjective\n",
    "        elif tag.startswith('V'):\n",
    "            lemmatized_text.append(lemmatizer.lemmatize(word,'v')) # Lemmatisze verbs\n",
    "        elif tag.startswith('N'):\n",
    "            lemmatized_text.append(lemmatizer.lemmatize(word,'n')) # Lemmatisze nouns\n",
    "        elif tag.startswith('R'):\n",
    "            lemmatized_text.append(lemmatizer.lemmatize(word,'r')) # Lemmatisze adverbs\n",
    "        else:\n",
    "            lemmatized_text.append(lemmatizer.lemmatize(word)) # If no tags has been found, perform a non specific lemmatization\n",
    "    return \" \".join(lemmatized_text) # Return the text untokenize"
   ]
  },
  {
   "cell_type": "code",
   "execution_count": null,
   "metadata": {},
   "outputs": [],
   "source": [
    "%%time\n",
    "\n",
    "data['Title'] = data['Title'].apply(lambda x: lemmatize_text(x))\n",
    "data['Body'] = data['Body'].apply(lambda x: lemmatize_text(x))"
   ]
  },
  {
   "cell_type": "code",
   "execution_count": null,
   "metadata": {},
   "outputs": [],
   "source": [
    "data['Body'][0]"
   ]
  },
  {
   "cell_type": "markdown",
   "metadata": {},
   "source": [
    "## Fusion des Titles & Body"
   ]
  },
  {
   "cell_type": "code",
   "execution_count": null,
   "metadata": {},
   "outputs": [],
   "source": [
    "data['Texte_clean'] = data['Title'] + ' ' + data['Body'] "
   ]
  },
  {
   "cell_type": "code",
   "execution_count": null,
   "metadata": {},
   "outputs": [],
   "source": [
    "data.to_csv('QueryResults_explored.csv', index=False, header=True)"
   ]
  }
 ],
 "metadata": {
  "kernelspec": {
   "display_name": "Python 3",
   "language": "python",
   "name": "python3"
  },
  "language_info": {
   "codemirror_mode": {
    "name": "ipython",
    "version": 3
   },
   "file_extension": ".py",
   "mimetype": "text/x-python",
   "name": "python",
   "nbconvert_exporter": "python",
   "pygments_lexer": "ipython3",
   "version": "3.8.8"
  },
  "toc": {
   "base_numbering": 1,
   "nav_menu": {},
   "number_sections": true,
   "sideBar": true,
   "skip_h1_title": false,
   "title_cell": "Table of Contents",
   "title_sidebar": "Contents",
   "toc_cell": false,
   "toc_position": {
    "height": "calc(100% - 180px)",
    "left": "10px",
    "top": "150px",
    "width": "255.966px"
   },
   "toc_section_display": true,
   "toc_window_display": true
  }
 },
 "nbformat": 4,
 "nbformat_minor": 2
}
