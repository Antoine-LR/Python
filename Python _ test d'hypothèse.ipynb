{
 "cells": [
  {
   "cell_type": "code",
   "execution_count": 24,
   "id": "1f8c9c5b",
   "metadata": {},
   "outputs": [],
   "source": [
    "import math\n",
    "import io"
   ]
  },
  {
   "cell_type": "code",
   "execution_count": 5,
   "id": "2e06e3ed",
   "metadata": {},
   "outputs": [],
   "source": [
    "import numpy as np\n",
    "import pandas as pd\n",
    "\n",
    "import matplotlib.pyplot as plt\n",
    "\n",
    "%matplotlib inline"
   ]
  },
  {
   "cell_type": "code",
   "execution_count": 6,
   "id": "41e6cc13",
   "metadata": {},
   "outputs": [],
   "source": [
    "import scipy.stats\n",
    "from scipy.stats import ttest_1samp as ttest1"
   ]
  },
  {
   "cell_type": "code",
   "execution_count": 10,
   "id": "28725200",
   "metadata": {},
   "outputs": [],
   "source": [
    "def Echantillon(n):\n",
    "    return pd.DataFrame({'Valeur':np.random.rand(n)})"
   ]
  },
  {
   "cell_type": "code",
   "execution_count": 11,
   "id": "f9243d08",
   "metadata": {},
   "outputs": [],
   "source": [
    "np.random.seed(1)\n",
    "population = Echantillon(1000000)"
   ]
  },
  {
   "cell_type": "code",
   "execution_count": 12,
   "id": "be9111d9",
   "metadata": {},
   "outputs": [
    {
     "data": {
      "text/plain": [
       "<AxesSubplot:>"
      ]
     },
     "execution_count": 12,
     "metadata": {},
     "output_type": "execute_result"
    },
    {
     "data": {
      "image/png": "[encoded data removed]",
      "text/plain": [
       "<Figure size 432x288 with 1 Axes>"
      ]
     },
     "metadata": {
      "needs_background": "light"
     },
     "output_type": "display_data"
    }
   ],
   "source": [
    "population.Valeur.hist(histtype='step',bins=60)"
   ]
  },
  {
   "cell_type": "code",
   "execution_count": 13,
   "id": "a6f7070b",
   "metadata": {},
   "outputs": [
    {
     "data": {
      "text/plain": [
       "0.4999482541286725"
      ]
     },
     "execution_count": 13,
     "metadata": {},
     "output_type": "execute_result"
    }
   ],
   "source": [
    "population.Valeur.mean()"
   ]
  },
  {
   "cell_type": "code",
   "execution_count": 14,
   "id": "d5c7fbd2",
   "metadata": {},
   "outputs": [],
   "source": [
    "ech1= np.random.choice(population.Valeur,100)"
   ]
  },
  {
   "cell_type": "code",
   "execution_count": 15,
   "id": "f11334e1",
   "metadata": {},
   "outputs": [
    {
     "data": {
      "text/plain": [
       "0.4489592682466618"
      ]
     },
     "execution_count": 15,
     "metadata": {},
     "output_type": "execute_result"
    }
   ],
   "source": [
    "np.mean(ech1)"
   ]
  },
  {
   "cell_type": "code",
   "execution_count": 16,
   "id": "2d7e3280",
   "metadata": {},
   "outputs": [
    {
     "data": {
      "text/plain": [
       "Ttest_1sampResult(statistic=-1.8365637131529968, pvalue=0.06927492027996687)"
      ]
     },
     "execution_count": 16,
     "metadata": {},
     "output_type": "execute_result"
    }
   ],
   "source": [
    "ttest1(ech1,population.Valeur.mean())"
   ]
  },
  {
   "cell_type": "code",
   "execution_count": 17,
   "id": "914b9bc5",
   "metadata": {},
   "outputs": [],
   "source": [
    "s,p_value = ttest1(ech1,population.Valeur.mean())"
   ]
  },
  {
   "cell_type": "code",
   "execution_count": 18,
   "id": "2a1f69f0",
   "metadata": {},
   "outputs": [
    {
     "data": {
      "text/plain": [
       "0.06927492027996687"
      ]
     },
     "execution_count": 18,
     "metadata": {},
     "output_type": "execute_result"
    }
   ],
   "source": [
    "p_value"
   ]
  },
  {
   "cell_type": "code",
   "execution_count": 19,
   "id": "b32d3374",
   "metadata": {},
   "outputs": [
    {
     "data": {
      "text/plain": [
       "-1.8365637131529968"
      ]
     },
     "execution_count": 19,
     "metadata": {},
     "output_type": "execute_result"
    }
   ],
   "source": [
    "s"
   ]
  },
  {
   "cell_type": "code",
   "execution_count": 20,
   "id": "352fcaa9",
   "metadata": {},
   "outputs": [
    {
     "name": "stdout",
     "output_type": "stream",
     "text": [
      "on refuse l'hypothèse nulle\n"
     ]
    }
   ],
   "source": [
    "if p_value>0.5:\n",
    "    print(\"on accepte l'hypothèse nulle\")\n",
    "else :\n",
    "    print(\"on refuse l'hypothèse nulle\")"
   ]
  },
  {
   "cell_type": "code",
   "execution_count": null,
   "id": "0635d428",
   "metadata": {},
   "outputs": [],
   "source": []
  }
 ],
 "metadata": {
  "kernelspec": {
   "display_name": "Python 3",
   "language": "python",
   "name": "python3"
  },
  "language_info": {
   "codemirror_mode": {
    "name": "ipython",
    "version": 3
   },
   "file_extension": ".py",
   "mimetype": "text/x-python",
   "name": "python",
   "nbconvert_exporter": "python",
   "pygments_lexer": "ipython3",
   "version": "3.8.8"
  }
 },
 "nbformat": 4,
 "nbformat_minor": 5
}
