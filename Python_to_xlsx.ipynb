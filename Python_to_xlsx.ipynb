{
  "cells": [
    {
      "cell_type": "markdown",
      "metadata": {
        "id": "view-in-github",
        "colab_type": "text"
      },
      "source": [
        "<a href=\"https://colab.research.google.com/github/Wonderingleon/Python/blob/main/Python_to_xlsx.ipynb\" target=\"_parent\"><img src=\"https://colab.research.google.com/assets/colab-badge.svg\" alt=\"Open In Colab\"/></a>"
      ]
    },
    {
      "cell_type": "code",
      "execution_count": null,
      "id": "cf7f56d7",
      "metadata": {
        "id": "cf7f56d7",
        "outputId": "3833afa2-177a-474c-8d1f-e5bbc9852f15"
      },
      "outputs": [
        {
          "name": "stdout",
          "output_type": "stream",
          "text": [
            "Requirement already satisfied: openpyxl in c:\\users\\perso\\anaconda3\\lib\\site-packages (3.0.7)\n",
            "Requirement already satisfied: et-xmlfile in c:\\users\\perso\\anaconda3\\lib\\site-packages (from openpyxl) (1.0.1)\n"
          ]
        }
      ],
      "source": [
        "import  sys\n",
        "!{sys.executable} -m pip install openpyxl"
      ]
    },
    {
      "cell_type": "code",
      "execution_count": null,
      "id": "e43f1ce2",
      "metadata": {
        "id": "e43f1ce2"
      },
      "outputs": [],
      "source": [
        "import openpyxl"
      ]
    },
    {
      "cell_type": "code",
      "execution_count": null,
      "id": "fa9783ce",
      "metadata": {
        "id": "fa9783ce"
      },
      "outputs": [],
      "source": [
        "from openpyxl import Workbook"
      ]
    },
    {
      "cell_type": "code",
      "execution_count": null,
      "id": "ea4a840d",
      "metadata": {
        "id": "ea4a840d"
      },
      "outputs": [],
      "source": [
        "Classeur = Workbook()"
      ]
    },
    {
      "cell_type": "code",
      "execution_count": null,
      "id": "7697b6b3",
      "metadata": {
        "id": "7697b6b3"
      },
      "outputs": [],
      "source": [
        "Feuille = Classeur.active"
      ]
    },
    {
      "cell_type": "code",
      "execution_count": null,
      "id": "13f7ddb0",
      "metadata": {
        "id": "13f7ddb0"
      },
      "outputs": [],
      "source": [
        "Feuille['A1']= 42"
      ]
    },
    {
      "cell_type": "code",
      "execution_count": null,
      "id": "0c063753",
      "metadata": {
        "id": "0c063753"
      },
      "outputs": [],
      "source": [
        "Feuille.append([1,2,3])"
      ]
    },
    {
      "cell_type": "code",
      "execution_count": null,
      "id": "aa73b17d",
      "metadata": {
        "id": "aa73b17d"
      },
      "outputs": [],
      "source": [
        "Classeur.save(\"exemple_1.xlsx\")"
      ]
    },
    {
      "cell_type": "code",
      "execution_count": null,
      "id": "7e47cec1",
      "metadata": {
        "id": "7e47cec1"
      },
      "outputs": [],
      "source": [
        "from openpyxl.chart import(\n",
        "   Reference,\n",
        "   BarChart,\n",
        ")"
      ]
    },
    {
      "cell_type": "code",
      "execution_count": null,
      "id": "c1dee8fc",
      "metadata": {
        "id": "c1dee8fc"
      },
      "outputs": [],
      "source": [
        "Classeur_Clients=Workbook()\n",
        "Ventes_Clients = Classeur_Clients.active"
      ]
    },
    {
      "cell_type": "code",
      "execution_count": null,
      "id": "9d3f28ec",
      "metadata": {
        "id": "9d3f28ec"
      },
      "outputs": [],
      "source": [
        "Lignes=[\n",
        "    (None, 2019,2020),\n",
        "    (\"C_1\",10000,8500),\n",
        "    (\"C_2\",12000,12500),\n",
        "    (\"C_3\", 5000,7000)\n",
        "]"
      ]
    },
    {
      "cell_type": "code",
      "execution_count": null,
      "id": "d65daadd",
      "metadata": {
        "id": "d65daadd"
      },
      "outputs": [],
      "source": [
        "for l in Lignes:\n",
        "    Ventes_Clients.append(l)"
      ]
    },
    {
      "cell_type": "code",
      "execution_count": null,
      "id": "2d1299d7",
      "metadata": {
        "id": "2d1299d7"
      },
      "outputs": [],
      "source": [
        "Diagramme = BarChart()\n",
        "Diagramme.type = \"col\"\n",
        "Diagramme.style = 10\n",
        "Diagramme.title = \"Vente 2019/2020 par catégorie\"\n",
        "Diagramme.y_axis.title = \"Nombre de vente\"\n",
        "Diagramme.x_axis.title = \"Catégorie\"\n",
        "données = Reference(Ventes_Clients, min_col=2, min_row=1, max_row=4, max_col=3)\n",
        "catégories = Reference(Ventes_Clients, min_col=1, min_row=2, max_row=4)\n",
        "Diagramme.add_data(données,titles_from_data=True)\n",
        "Diagramme.set_categories(catégories)\n",
        "Diagramme.sape=4\n",
        "Ventes_Clients.add_chart(Diagramme,\"A10\")"
      ]
    },
    {
      "cell_type": "code",
      "execution_count": null,
      "id": "860d067f",
      "metadata": {
        "id": "860d067f"
      },
      "outputs": [],
      "source": [
        "Classeur_Clients.save(\"Diagramme_Barres1.xlsx\")"
      ]
    },
    {
      "cell_type": "code",
      "execution_count": null,
      "id": "114ed25f",
      "metadata": {
        "id": "114ed25f"
      },
      "outputs": [],
      "source": [
        ""
      ]
    }
  ],
  "metadata": {
    "kernelspec": {
      "display_name": "Python 3",
      "language": "python",
      "name": "python3"
    },
    "language_info": {
      "codemirror_mode": {
        "name": "ipython",
        "version": 3
      },
      "file_extension": ".py",
      "mimetype": "text/x-python",
      "name": "python",
      "nbconvert_exporter": "python",
      "pygments_lexer": "ipython3",
      "version": "3.8.8"
    },
    "colab": {
      "name": "Python to xlsx.ipynb",
      "provenance": [],
      "include_colab_link": true
    }
  },
  "nbformat": 4,
  "nbformat_minor": 5
}