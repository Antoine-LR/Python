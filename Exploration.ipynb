{
 "cells": [
  {
   "attachments": {
    "15509423491012_logo.png": {
     "image/png": "[encoded data removed]"
    }
   },
   "cell_type": "markdown",
   "metadata": {},
   "source": [
    "![15509423491012_logo.png](attachment:15509423491012_logo.png)"
   ]
  },
  {
   "cell_type": "code",
   "execution_count": 1,
   "metadata": {},
   "outputs": [],
   "source": [
    "import pandas as pd\n",
    "import seaborn as sns\n",
    "import matplotlib.pyplot as plt\n",
    "import numpy as np\n",
    "from datetime import datetime, date\n",
    "import warnings\n",
    "warnings.filterwarnings('ignore')\n",
    "pd.set_option('display.max_column', 162)\n",
    "pd.set_option('display.max_row', 162)"
   ]
  },
  {
   "cell_type": "markdown",
   "metadata": {},
   "source": [
    "# Contexte\n",
    "L'agence **Santé publique France** a lancé un appel à projets pour trouver des idées innovantes d’applications en lien avec l'alimentation. Vous souhaitez y participer et proposer une idée d’application.\n",
    "\n",
    "\n",
    "# Objectif\n",
    "* Trouver une idée d’application : sélection des variables pertinentes\n",
    "* Traitement des données ( imputation, gestion des valeurs aberrantes / manquantes)\n",
    "* Automatisant des traitements.\n",
    "* Tests hypothèses et analyses exploratoires\n",
    "* Identifier des arguments justifiant la faisabilité (ou non) de l’application à partir des données Open Food Facts.\n",
    "* Rédiger un rapport d’exploration et pitcher votre idée durant la soutenance du projet.\n"
   ]
  },
  {
   "cell_type": "markdown",
   "metadata": {},
   "source": [
    "# Sommaire\n",
    "**Données**\n",
    "- Compréhension des données"
   ]
  },
  {
   "cell_type": "markdown",
   "metadata": {},
   "source": [
    " "
   ]
  },
  {
   "cell_type": "code",
   "execution_count": 2,
   "metadata": {},
   "outputs": [],
   "source": [
    "df = pd.read_csv('openfoodfacts.csv', sep=',') "
   ]
  },
  {
   "cell_type": "code",
   "execution_count": 3,
   "metadata": {},
   "outputs": [
    {
     "data": {
      "text/html": [
       "<div>\n",
       "<style scoped>\n",
       "    .dataframe tbody tr th:only-of-type {\n",
       "        vertical-align: middle;\n",
       "    }\n",
       "\n",
       "    .dataframe tbody tr th {\n",
       "        vertical-align: top;\n",
       "    }\n",
       "\n",
       "    .dataframe thead th {\n",
       "        text-align: right;\n",
       "    }\n",
       "</style>\n",
       "<table border=\"1\" class=\"dataframe\">\n",
       "  <thead>\n",
       "    <tr style=\"text-align: right;\">\n",
       "      <th></th>\n",
       "      <th>product_name</th>\n",
       "      <th>fat_100g</th>\n",
       "      <th>sugars_100g</th>\n",
       "      <th>energy_100g</th>\n",
       "      <th>carbohydrates_100g</th>\n",
       "      <th>saturated-fat_100g</th>\n",
       "      <th>fiber_100g</th>\n",
       "      <th>proteins_100g</th>\n",
       "      <th>salt_100g</th>\n",
       "      <th>nutrition-score-fr_100g</th>\n",
       "      <th>nutrition_grade_fr</th>\n",
       "    </tr>\n",
       "  </thead>\n",
       "  <tbody>\n",
       "    <tr>\n",
       "      <th>0</th>\n",
       "      <td>!, Chocolate Bear Crunch Popcorn</td>\n",
       "      <td>25.00</td>\n",
       "      <td>52.50</td>\n",
       "      <td>1987.0</td>\n",
       "      <td>62.50</td>\n",
       "      <td>11.25</td>\n",
       "      <td>2.5</td>\n",
       "      <td>5.00</td>\n",
       "      <td>0.79248</td>\n",
       "      <td>25.0</td>\n",
       "      <td>E</td>\n",
       "    </tr>\n",
       "    <tr>\n",
       "      <th>1</th>\n",
       "      <td>!, Chocolate Gems</td>\n",
       "      <td>21.43</td>\n",
       "      <td>61.90</td>\n",
       "      <td>1891.0</td>\n",
       "      <td>66.67</td>\n",
       "      <td>14.29</td>\n",
       "      <td>0.0</td>\n",
       "      <td>4.76</td>\n",
       "      <td>0.12192</td>\n",
       "      <td>25.0</td>\n",
       "      <td>E</td>\n",
       "    </tr>\n",
       "    <tr>\n",
       "      <th>2</th>\n",
       "      <td>!, Fresh Soda, Ginger</td>\n",
       "      <td>0.00</td>\n",
       "      <td>9.86</td>\n",
       "      <td>163.0</td>\n",
       "      <td>10.42</td>\n",
       "      <td>0.00</td>\n",
       "      <td>0.0</td>\n",
       "      <td>0.00</td>\n",
       "      <td>0.01016</td>\n",
       "      <td>2.0</td>\n",
       "      <td>B</td>\n",
       "    </tr>\n",
       "    <tr>\n",
       "      <th>3</th>\n",
       "      <td>!, Gummie Flower</td>\n",
       "      <td>0.00</td>\n",
       "      <td>47.50</td>\n",
       "      <td>1255.0</td>\n",
       "      <td>72.50</td>\n",
       "      <td>0.00</td>\n",
       "      <td>0.0</td>\n",
       "      <td>5.00</td>\n",
       "      <td>0.06350</td>\n",
       "      <td>13.0</td>\n",
       "      <td>D</td>\n",
       "    </tr>\n",
       "    <tr>\n",
       "      <th>4</th>\n",
       "      <td>!, Halloween Mix Whole Wheat Cookies</td>\n",
       "      <td>30.00</td>\n",
       "      <td>25.00</td>\n",
       "      <td>2301.0</td>\n",
       "      <td>55.00</td>\n",
       "      <td>20.00</td>\n",
       "      <td>5.0</td>\n",
       "      <td>5.00</td>\n",
       "      <td>0.82550</td>\n",
       "      <td>19.0</td>\n",
       "      <td>E</td>\n",
       "    </tr>\n",
       "    <tr>\n",
       "      <th>...</th>\n",
       "      <td>...</td>\n",
       "      <td>...</td>\n",
       "      <td>...</td>\n",
       "      <td>...</td>\n",
       "      <td>...</td>\n",
       "      <td>...</td>\n",
       "      <td>...</td>\n",
       "      <td>...</td>\n",
       "      <td>...</td>\n",
       "      <td>...</td>\n",
       "      <td>...</td>\n",
       "    </tr>\n",
       "    <tr>\n",
       "      <th>112989</th>\n",
       "      <td>Zweigle's, Hot Dog Sauce</td>\n",
       "      <td>0.00</td>\n",
       "      <td>20.00</td>\n",
       "      <td>418.0</td>\n",
       "      <td>26.67</td>\n",
       "      <td>0.00</td>\n",
       "      <td>0.0</td>\n",
       "      <td>0.00</td>\n",
       "      <td>2.54000</td>\n",
       "      <td>15.0</td>\n",
       "      <td>D</td>\n",
       "    </tr>\n",
       "    <tr>\n",
       "      <th>112990</th>\n",
       "      <td>Zwieback - Rusk</td>\n",
       "      <td>5.26</td>\n",
       "      <td>15.79</td>\n",
       "      <td>1540.0</td>\n",
       "      <td>78.95</td>\n",
       "      <td>2.63</td>\n",
       "      <td>5.3</td>\n",
       "      <td>10.53</td>\n",
       "      <td>0.73406</td>\n",
       "      <td>7.0</td>\n",
       "      <td>C</td>\n",
       "    </tr>\n",
       "    <tr>\n",
       "      <th>112991</th>\n",
       "      <td>Zwieback Snack Toast</td>\n",
       "      <td>5.00</td>\n",
       "      <td>10.00</td>\n",
       "      <td>1674.0</td>\n",
       "      <td>60.00</td>\n",
       "      <td>0.00</td>\n",
       "      <td>10.0</td>\n",
       "      <td>10.00</td>\n",
       "      <td>1.27000</td>\n",
       "      <td>6.0</td>\n",
       "      <td>C</td>\n",
       "    </tr>\n",
       "    <tr>\n",
       "      <th>112992</th>\n",
       "      <td>Zymbom, Energy Drink With Taurine</td>\n",
       "      <td>0.00</td>\n",
       "      <td>10.80</td>\n",
       "      <td>184.0</td>\n",
       "      <td>11.20</td>\n",
       "      <td>0.00</td>\n",
       "      <td>0.0</td>\n",
       "      <td>0.40</td>\n",
       "      <td>0.20320</td>\n",
       "      <td>2.0</td>\n",
       "      <td>B</td>\n",
       "    </tr>\n",
       "    <tr>\n",
       "      <th>112993</th>\n",
       "      <td>`Gravenstein Apple Juice</td>\n",
       "      <td>0.00</td>\n",
       "      <td>10.00</td>\n",
       "      <td>209.0</td>\n",
       "      <td>12.50</td>\n",
       "      <td>0.00</td>\n",
       "      <td>0.4</td>\n",
       "      <td>0.00</td>\n",
       "      <td>0.00000</td>\n",
       "      <td>2.0</td>\n",
       "      <td>B</td>\n",
       "    </tr>\n",
       "  </tbody>\n",
       "</table>\n",
       "<p>112994 rows × 11 columns</p>\n",
       "</div>"
      ],
      "text/plain": [
       "                                product_name  fat_100g  sugars_100g  \\\n",
       "0           !, Chocolate Bear Crunch Popcorn     25.00        52.50   \n",
       "1                          !, Chocolate Gems     21.43        61.90   \n",
       "2                      !, Fresh Soda, Ginger      0.00         9.86   \n",
       "3                           !, Gummie Flower      0.00        47.50   \n",
       "4       !, Halloween Mix Whole Wheat Cookies     30.00        25.00   \n",
       "...                                      ...       ...          ...   \n",
       "112989              Zweigle's, Hot Dog Sauce      0.00        20.00   \n",
       "112990                       Zwieback - Rusk      5.26        15.79   \n",
       "112991                  Zwieback Snack Toast      5.00        10.00   \n",
       "112992     Zymbom, Energy Drink With Taurine      0.00        10.80   \n",
       "112993              `Gravenstein Apple Juice      0.00        10.00   \n",
       "\n",
       "        energy_100g  carbohydrates_100g  saturated-fat_100g  fiber_100g  \\\n",
       "0            1987.0               62.50               11.25         2.5   \n",
       "1            1891.0               66.67               14.29         0.0   \n",
       "2             163.0               10.42                0.00         0.0   \n",
       "3            1255.0               72.50                0.00         0.0   \n",
       "4            2301.0               55.00               20.00         5.0   \n",
       "...             ...                 ...                 ...         ...   \n",
       "112989        418.0               26.67                0.00         0.0   \n",
       "112990       1540.0               78.95                2.63         5.3   \n",
       "112991       1674.0               60.00                0.00        10.0   \n",
       "112992        184.0               11.20                0.00         0.0   \n",
       "112993        209.0               12.50                0.00         0.4   \n",
       "\n",
       "        proteins_100g  salt_100g  nutrition-score-fr_100g nutrition_grade_fr  \n",
       "0                5.00    0.79248                     25.0                  E  \n",
       "1                4.76    0.12192                     25.0                  E  \n",
       "2                0.00    0.01016                      2.0                  B  \n",
       "3                5.00    0.06350                     13.0                  D  \n",
       "4                5.00    0.82550                     19.0                  E  \n",
       "...               ...        ...                      ...                ...  \n",
       "112989           0.00    2.54000                     15.0                  D  \n",
       "112990          10.53    0.73406                      7.0                  C  \n",
       "112991          10.00    1.27000                      6.0                  C  \n",
       "112992           0.40    0.20320                      2.0                  B  \n",
       "112993           0.00    0.00000                      2.0                  B  \n",
       "\n",
       "[112994 rows x 11 columns]"
      ]
     },
     "execution_count": 3,
     "metadata": {},
     "output_type": "execute_result"
    }
   ],
   "source": [
    "df"
   ]
  },
  {
   "cell_type": "markdown",
   "metadata": {},
   "source": [
    "# Les  données\n",
    "## Compréhension des données\n",
    "Chargement des 4 fichiers csv avec la fonction read_csv de Pandas\n",
    "<br> Utilisation des fonctions **head(),shape et describe()**"
   ]
  },
  {
   "cell_type": "markdown",
   "metadata": {},
   "source": [
    "<img src='./oc_logo.png' width=15px /> Afficher les 5 premières lignes du dataframe `df`."
   ]
  },
  {
   "cell_type": "code",
   "execution_count": 4,
   "metadata": {},
   "outputs": [
    {
     "data": {
      "text/html": [
       "<div>\n",
       "<style scoped>\n",
       "    .dataframe tbody tr th:only-of-type {\n",
       "        vertical-align: middle;\n",
       "    }\n",
       "\n",
       "    .dataframe tbody tr th {\n",
       "        vertical-align: top;\n",
       "    }\n",
       "\n",
       "    .dataframe thead th {\n",
       "        text-align: right;\n",
       "    }\n",
       "</style>\n",
       "<table border=\"1\" class=\"dataframe\">\n",
       "  <thead>\n",
       "    <tr style=\"text-align: right;\">\n",
       "      <th></th>\n",
       "      <th>product_name</th>\n",
       "      <th>fat_100g</th>\n",
       "      <th>sugars_100g</th>\n",
       "      <th>energy_100g</th>\n",
       "      <th>carbohydrates_100g</th>\n",
       "      <th>saturated-fat_100g</th>\n",
       "      <th>fiber_100g</th>\n",
       "      <th>proteins_100g</th>\n",
       "      <th>salt_100g</th>\n",
       "      <th>nutrition-score-fr_100g</th>\n",
       "      <th>nutrition_grade_fr</th>\n",
       "    </tr>\n",
       "  </thead>\n",
       "  <tbody>\n",
       "    <tr>\n",
       "      <th>0</th>\n",
       "      <td>!, Chocolate Bear Crunch Popcorn</td>\n",
       "      <td>25.00</td>\n",
       "      <td>52.50</td>\n",
       "      <td>1987.0</td>\n",
       "      <td>62.50</td>\n",
       "      <td>11.25</td>\n",
       "      <td>2.5</td>\n",
       "      <td>5.00</td>\n",
       "      <td>0.79248</td>\n",
       "      <td>25.0</td>\n",
       "      <td>E</td>\n",
       "    </tr>\n",
       "    <tr>\n",
       "      <th>1</th>\n",
       "      <td>!, Chocolate Gems</td>\n",
       "      <td>21.43</td>\n",
       "      <td>61.90</td>\n",
       "      <td>1891.0</td>\n",
       "      <td>66.67</td>\n",
       "      <td>14.29</td>\n",
       "      <td>0.0</td>\n",
       "      <td>4.76</td>\n",
       "      <td>0.12192</td>\n",
       "      <td>25.0</td>\n",
       "      <td>E</td>\n",
       "    </tr>\n",
       "    <tr>\n",
       "      <th>2</th>\n",
       "      <td>!, Fresh Soda, Ginger</td>\n",
       "      <td>0.00</td>\n",
       "      <td>9.86</td>\n",
       "      <td>163.0</td>\n",
       "      <td>10.42</td>\n",
       "      <td>0.00</td>\n",
       "      <td>0.0</td>\n",
       "      <td>0.00</td>\n",
       "      <td>0.01016</td>\n",
       "      <td>2.0</td>\n",
       "      <td>B</td>\n",
       "    </tr>\n",
       "  </tbody>\n",
       "</table>\n",
       "</div>"
      ],
      "text/plain": [
       "                       product_name  fat_100g  sugars_100g  energy_100g  \\\n",
       "0  !, Chocolate Bear Crunch Popcorn     25.00        52.50       1987.0   \n",
       "1                 !, Chocolate Gems     21.43        61.90       1891.0   \n",
       "2             !, Fresh Soda, Ginger      0.00         9.86        163.0   \n",
       "\n",
       "   carbohydrates_100g  saturated-fat_100g  fiber_100g  proteins_100g  \\\n",
       "0               62.50               11.25         2.5           5.00   \n",
       "1               66.67               14.29         0.0           4.76   \n",
       "2               10.42                0.00         0.0           0.00   \n",
       "\n",
       "   salt_100g  nutrition-score-fr_100g nutrition_grade_fr  \n",
       "0    0.79248                     25.0                  E  \n",
       "1    0.12192                     25.0                  E  \n",
       "2    0.01016                      2.0                  B  "
      ]
     },
     "execution_count": 4,
     "metadata": {},
     "output_type": "execute_result"
    }
   ],
   "source": [
    "df.head(3)"
   ]
  },
  {
   "cell_type": "markdown",
   "metadata": {},
   "source": [
    " "
   ]
  },
  {
   "cell_type": "code",
   "execution_count": 5,
   "metadata": {},
   "outputs": [
    {
     "data": {
      "text/html": [
       "<div>\n",
       "<style scoped>\n",
       "    .dataframe tbody tr th:only-of-type {\n",
       "        vertical-align: middle;\n",
       "    }\n",
       "\n",
       "    .dataframe tbody tr th {\n",
       "        vertical-align: top;\n",
       "    }\n",
       "\n",
       "    .dataframe thead th {\n",
       "        text-align: right;\n",
       "    }\n",
       "</style>\n",
       "<table border=\"1\" class=\"dataframe\">\n",
       "  <thead>\n",
       "    <tr style=\"text-align: right;\">\n",
       "      <th></th>\n",
       "      <th>fat_100g</th>\n",
       "      <th>sugars_100g</th>\n",
       "      <th>energy_100g</th>\n",
       "      <th>carbohydrates_100g</th>\n",
       "      <th>saturated-fat_100g</th>\n",
       "      <th>fiber_100g</th>\n",
       "      <th>proteins_100g</th>\n",
       "      <th>salt_100g</th>\n",
       "      <th>nutrition-score-fr_100g</th>\n",
       "    </tr>\n",
       "  </thead>\n",
       "  <tbody>\n",
       "    <tr>\n",
       "      <th>count</th>\n",
       "      <td>112994.000000</td>\n",
       "      <td>112994.000000</td>\n",
       "      <td>112994.000000</td>\n",
       "      <td>112994.000000</td>\n",
       "      <td>112994.000000</td>\n",
       "      <td>112994.000000</td>\n",
       "      <td>112994.000000</td>\n",
       "      <td>112994.000000</td>\n",
       "      <td>112994.000000</td>\n",
       "    </tr>\n",
       "    <tr>\n",
       "      <th>mean</th>\n",
       "      <td>12.029515</td>\n",
       "      <td>17.107087</td>\n",
       "      <td>1144.296463</td>\n",
       "      <td>35.336524</td>\n",
       "      <td>4.241426</td>\n",
       "      <td>2.427976</td>\n",
       "      <td>6.851555</td>\n",
       "      <td>1.768504</td>\n",
       "      <td>9.455339</td>\n",
       "    </tr>\n",
       "    <tr>\n",
       "      <th>std</th>\n",
       "      <td>16.118110</td>\n",
       "      <td>21.949690</td>\n",
       "      <td>771.327282</td>\n",
       "      <td>29.684162</td>\n",
       "      <td>7.002032</td>\n",
       "      <td>4.291831</td>\n",
       "      <td>8.132915</td>\n",
       "      <td>6.499003</td>\n",
       "      <td>8.723027</td>\n",
       "    </tr>\n",
       "    <tr>\n",
       "      <th>min</th>\n",
       "      <td>0.000000</td>\n",
       "      <td>0.000000</td>\n",
       "      <td>0.000000</td>\n",
       "      <td>0.000000</td>\n",
       "      <td>0.000000</td>\n",
       "      <td>0.000000</td>\n",
       "      <td>0.000000</td>\n",
       "      <td>0.000000</td>\n",
       "      <td>-10.000000</td>\n",
       "    </tr>\n",
       "    <tr>\n",
       "      <th>25%</th>\n",
       "      <td>0.000000</td>\n",
       "      <td>1.180000</td>\n",
       "      <td>412.854167</td>\n",
       "      <td>7.140000</td>\n",
       "      <td>0.000000</td>\n",
       "      <td>0.000000</td>\n",
       "      <td>0.000000</td>\n",
       "      <td>0.068580</td>\n",
       "      <td>1.000000</td>\n",
       "    </tr>\n",
       "    <tr>\n",
       "      <th>50%</th>\n",
       "      <td>5.000000</td>\n",
       "      <td>6.670000</td>\n",
       "      <td>1197.000000</td>\n",
       "      <td>27.270000</td>\n",
       "      <td>0.755000</td>\n",
       "      <td>0.700000</td>\n",
       "      <td>4.350000</td>\n",
       "      <td>0.635000</td>\n",
       "      <td>10.000000</td>\n",
       "    </tr>\n",
       "    <tr>\n",
       "      <th>75%</th>\n",
       "      <td>20.000000</td>\n",
       "      <td>26.670000</td>\n",
       "      <td>1674.000000</td>\n",
       "      <td>62.134375</td>\n",
       "      <td>6.250000</td>\n",
       "      <td>3.300000</td>\n",
       "      <td>10.000000</td>\n",
       "      <td>1.470660</td>\n",
       "      <td>16.000000</td>\n",
       "    </tr>\n",
       "    <tr>\n",
       "      <th>max</th>\n",
       "      <td>100.000000</td>\n",
       "      <td>100.000000</td>\n",
       "      <td>3766.000000</td>\n",
       "      <td>100.000000</td>\n",
       "      <td>100.000000</td>\n",
       "      <td>100.000000</td>\n",
       "      <td>100.000000</td>\n",
       "      <td>99.905820</td>\n",
       "      <td>37.000000</td>\n",
       "    </tr>\n",
       "  </tbody>\n",
       "</table>\n",
       "</div>"
      ],
      "text/plain": [
       "            fat_100g    sugars_100g    energy_100g  carbohydrates_100g  \\\n",
       "count  112994.000000  112994.000000  112994.000000       112994.000000   \n",
       "mean       12.029515      17.107087    1144.296463           35.336524   \n",
       "std        16.118110      21.949690     771.327282           29.684162   \n",
       "min         0.000000       0.000000       0.000000            0.000000   \n",
       "25%         0.000000       1.180000     412.854167            7.140000   \n",
       "50%         5.000000       6.670000    1197.000000           27.270000   \n",
       "75%        20.000000      26.670000    1674.000000           62.134375   \n",
       "max       100.000000     100.000000    3766.000000          100.000000   \n",
       "\n",
       "       saturated-fat_100g     fiber_100g  proteins_100g      salt_100g  \\\n",
       "count       112994.000000  112994.000000  112994.000000  112994.000000   \n",
       "mean             4.241426       2.427976       6.851555       1.768504   \n",
       "std              7.002032       4.291831       8.132915       6.499003   \n",
       "min              0.000000       0.000000       0.000000       0.000000   \n",
       "25%              0.000000       0.000000       0.000000       0.068580   \n",
       "50%              0.755000       0.700000       4.350000       0.635000   \n",
       "75%              6.250000       3.300000      10.000000       1.470660   \n",
       "max            100.000000     100.000000     100.000000      99.905820   \n",
       "\n",
       "       nutrition-score-fr_100g  \n",
       "count            112994.000000  \n",
       "mean                  9.455339  \n",
       "std                   8.723027  \n",
       "min                 -10.000000  \n",
       "25%                   1.000000  \n",
       "50%                  10.000000  \n",
       "75%                  16.000000  \n",
       "max                  37.000000  "
      ]
     },
     "execution_count": 5,
     "metadata": {},
     "output_type": "execute_result"
    }
   ],
   "source": [
    "df.describe()"
   ]
  },
  {
   "cell_type": "code",
   "execution_count": 6,
   "metadata": {},
   "outputs": [
    {
     "data": {
      "text/plain": [
       "Index(['product_name', 'fat_100g', 'sugars_100g', 'energy_100g',\n",
       "       'carbohydrates_100g', 'saturated-fat_100g', 'fiber_100g',\n",
       "       'proteins_100g', 'salt_100g', 'nutrition-score-fr_100g',\n",
       "       'nutrition_grade_fr'],\n",
       "      dtype='object')"
      ]
     },
     "execution_count": 6,
     "metadata": {},
     "output_type": "execute_result"
    }
   ],
   "source": [
    "df.columns"
   ]
  },
  {
   "cell_type": "code",
   "execution_count": 7,
   "metadata": {},
   "outputs": [
    {
     "name": "stdout",
     "output_type": "stream",
     "text": [
      "<class 'pandas.core.frame.DataFrame'>\n",
      "RangeIndex: 112994 entries, 0 to 112993\n",
      "Data columns (total 11 columns):\n",
      " #   Column                   Non-Null Count   Dtype  \n",
      "---  ------                   --------------   -----  \n",
      " 0   product_name             112994 non-null  object \n",
      " 1   fat_100g                 112994 non-null  float64\n",
      " 2   sugars_100g              112994 non-null  float64\n",
      " 3   energy_100g              112994 non-null  float64\n",
      " 4   carbohydrates_100g       112994 non-null  float64\n",
      " 5   saturated-fat_100g       112994 non-null  float64\n",
      " 6   fiber_100g               112994 non-null  float64\n",
      " 7   proteins_100g            112994 non-null  float64\n",
      " 8   salt_100g                112994 non-null  float64\n",
      " 9   nutrition-score-fr_100g  112994 non-null  float64\n",
      " 10  nutrition_grade_fr       112994 non-null  object \n",
      "dtypes: float64(9), object(2)\n",
      "memory usage: 9.5+ MB\n"
     ]
    }
   ],
   "source": [
    "df.info()"
   ]
  },
  {
   "cell_type": "markdown",
   "metadata": {},
   "source": [
    " "
   ]
  },
  {
   "cell_type": "markdown",
   "metadata": {},
   "source": [
    "### Analyse Univariée\n"
   ]
  },
  {
   "cell_type": "code",
   "execution_count": 8,
   "metadata": {},
   "outputs": [],
   "source": [
    "from scipy import stats\n",
    "from scipy.stats import norm\n",
    "import statsmodels.api as sm"
   ]
  },
  {
   "cell_type": "markdown",
   "metadata": {},
   "source": [
    "Tests de normalité"
   ]
  },
  {
   "cell_type": "code",
   "execution_count": 9,
   "metadata": {},
   "outputs": [
    {
     "data": {
      "image/png": "[encoded data removed]",
      "text/plain": [
       "<Figure size 432x288 with 1 Axes>"
      ]
     },
     "metadata": {
      "needs_background": "light"
     },
     "output_type": "display_data"
    },
    {
     "data": {
      "image/png": "[encoded data removed]",
      "text/plain": [
       "<Figure size 432x288 with 1 Axes>"
      ]
     },
     "metadata": {
      "needs_background": "light"
     },
     "output_type": "display_data"
    },
    {
     "data": {
      "image/png": "[encoded data removed]",
      "text/plain": [
       "<Figure size 432x288 with 1 Axes>"
      ]
     },
     "metadata": {
      "needs_background": "light"
     },
     "output_type": "display_data"
    },
    {
     "data": {
      "image/png": "[encoded data removed]",
      "text/plain": [
       "<Figure size 432x288 with 1 Axes>"
      ]
     },
     "metadata": {
      "needs_background": "light"
     },
     "output_type": "display_data"
    },
    {
     "data": {
      "image/png": "[encoded data removed]",
      "text/plain": [
       "<Figure size 432x288 with 1 Axes>"
      ]
     },
     "metadata": {
      "needs_background": "light"
     },
     "output_type": "display_data"
    },
    {
     "data": {
      "image/png": "[encoded data removed]",
      "text/plain": [
       "<Figure size 432x288 with 1 Axes>"
      ]
     },
     "metadata": {
      "needs_background": "light"
     },
     "output_type": "display_data"
    },
    {
     "data": {
      "image/png": "[encoded data removed]",
      "text/plain": [
       "<Figure size 432x288 with 1 Axes>"
      ]
     },
     "metadata": {
      "needs_background": "light"
     },
     "output_type": "display_data"
    },
    {
     "data": {
      "image/png": "[encoded data removed]",
      "text/plain": [
       "<Figure size 432x288 with 1 Axes>"
      ]
     },
     "metadata": {
      "needs_background": "light"
     },
     "output_type": "display_data"
    },
    {
     "data": {
      "image/png": "[encoded data removed]",
      "text/plain": [
       "<Figure size 432x288 with 1 Axes>"
      ]
     },
     "metadata": {
      "needs_background": "light"
     },
     "output_type": "display_data"
    }
   ],
   "source": [
    "#distplot\n",
    "for col in df.select_dtypes('number'):\n",
    "    sns.distplot(df[col], fit=norm, kde=False)\n",
    "    plt.show()"
   ]
  },
  {
   "cell_type": "code",
   "execution_count": 10,
   "metadata": {},
   "outputs": [
    {
     "ename": "NameError",
     "evalue": "name 'st' is not defined",
     "output_type": "error",
     "traceback": [
      "\u001b[1;31m---------------------------------------------------------------------------\u001b[0m",
      "\u001b[1;31mNameError\u001b[0m                                 Traceback (most recent call last)",
      "\u001b[1;32m<ipython-input-10-4ddfa47a2e4a>\u001b[0m in \u001b[0;36m<module>\u001b[1;34m\u001b[0m\n\u001b[0;32m      3\u001b[0m \u001b[1;33m\u001b[0m\u001b[0m\n\u001b[0;32m      4\u001b[0m \u001b[1;32mfor\u001b[0m \u001b[0mcol\u001b[0m \u001b[1;32min\u001b[0m \u001b[0mdf\u001b[0m\u001b[1;33m.\u001b[0m\u001b[0mselect_dtypes\u001b[0m\u001b[1;33m(\u001b[0m\u001b[1;34m'number'\u001b[0m\u001b[1;33m)\u001b[0m\u001b[1;33m:\u001b[0m\u001b[1;33m\u001b[0m\u001b[1;33m\u001b[0m\u001b[0m\n\u001b[1;32m----> 5\u001b[1;33m     \u001b[0mw\u001b[0m\u001b[1;33m,\u001b[0m \u001b[0mpvalue\u001b[0m \u001b[1;33m=\u001b[0m \u001b[0mst\u001b[0m\u001b[1;33m.\u001b[0m\u001b[0mshapiro\u001b[0m\u001b[1;33m(\u001b[0m\u001b[0mdf\u001b[0m\u001b[1;33m[\u001b[0m\u001b[0mcol\u001b[0m\u001b[1;33m]\u001b[0m\u001b[1;33m)\u001b[0m\u001b[1;33m\u001b[0m\u001b[1;33m\u001b[0m\u001b[0m\n\u001b[0m\u001b[0;32m      6\u001b[0m     \u001b[0mprint\u001b[0m\u001b[1;33m(\u001b[0m\u001b[1;34mf'{col :-<70} {w} {pvalue}'\u001b[0m\u001b[1;33m)\u001b[0m\u001b[1;33m\u001b[0m\u001b[1;33m\u001b[0m\u001b[0m\n\u001b[0;32m      7\u001b[0m     \u001b[1;32mif\u001b[0m \u001b[0mpvalue\u001b[0m \u001b[1;33m>\u001b[0m \u001b[0mseuil\u001b[0m\u001b[1;33m:\u001b[0m\u001b[1;33m\u001b[0m\u001b[1;33m\u001b[0m\u001b[0m\n",
      "\u001b[1;31mNameError\u001b[0m: name 'st' is not defined"
     ]
    }
   ],
   "source": [
    "# test de normalité Shapiro-Wilk\n",
    "seuil = 0.05\n",
    "\n",
    "for col in df.select_dtypes('number'):\n",
    "    w, pvalue = st.shapiro(df[col])\n",
    "    print(f'{col :-<70} {w} {pvalue}')\n",
    "    if pvalue > seuil:\n",
    "        print(\"On ne peux pas rejetter H0: la distribution suit une loi normale\")\n",
    "    else:\n",
    "        print(\"On rejette H0 : la distribution ne suit pas une loi normale\")"
   ]
  },
  {
   "cell_type": "code",
   "execution_count": null,
   "metadata": {},
   "outputs": [],
   "source": [
    "#qqpolot vs. loi normale (droite de Henry)\n",
    "for col in df.select_dtypes('number'):\n",
    "    sm.qqplot(df[col],stats.t, fit=True, line=\"45\")\n",
    "    plt.title(\"Q-Q norm droite de Henry\")\n",
    "    print(col)\n",
    "    plt.show()"
   ]
  },
  {
   "cell_type": "code",
   "execution_count": null,
   "metadata": {},
   "outputs": [],
   "source": [
    "for col in df.select_dtypes('number'):\n",
    "    plt.figure(figsize=(15,6))\n",
    "    sns.boxplot(df[col])\n",
    "    plt.xticks(rotation=90)\n",
    "    plt.show()"
   ]
  },
  {
   "cell_type": "markdown",
   "metadata": {},
   "source": [
    "### Analyse Bivariée"
   ]
  },
  {
   "cell_type": "code",
   "execution_count": null,
   "metadata": {},
   "outputs": [],
   "source": [
    "# Compute the correlation matrix\n",
    "corr = df[['fat_100g', 'sugars_100g', 'energy_100g',\n",
    "       'carbohydrates_100g', 'saturated-fat_100g', 'fiber_100g',\n",
    "       'proteins_100g', 'salt_100g', 'nutrition-score-fr_100g',\n",
    "       'nutrition_grade_fr']].corr()\n",
    "\n",
    "# Generate a mask for the upper triangle\n",
    "mask = np.triu(np.ones_like(corr, dtype=bool))\n",
    "\n",
    "# Set up the matplotlib figure\n",
    "f, ax = plt.subplots(figsize=(11, 9))\n",
    "\n",
    "# Generate a custom diverging colormap\n",
    "cmap = sns.diverging_palette(230, 20, as_cmap=True)\n",
    "\n",
    "# Draw the heatmap with the mask and correct aspect ratio\n",
    "sns.heatmap(corr, mask=mask, cmap=cmap, vmax=1, center=0,\n",
    "            square=True, linewidths=.5, cbar_kws={\"shrink\": .5});"
   ]
  },
  {
   "cell_type": "code",
   "execution_count": null,
   "metadata": {},
   "outputs": [],
   "source": [
    "sns.pairplot(df)"
   ]
  },
  {
   "cell_type": "markdown",
   "metadata": {},
   "source": [
    "#### Nutrition grade _ fat_100g"
   ]
  },
  {
   "cell_type": "code",
   "execution_count": null,
   "metadata": {},
   "outputs": [],
   "source": [
    "sns.displot(data=df, x=\"fat_100g\", hue=\"nutrition_grade_fr\", kind=\"kde\", log_scale=None)"
   ]
  },
  {
   "cell_type": "code",
   "execution_count": null,
   "metadata": {},
   "outputs": [],
   "source": [
    "#Visualisation boxplot\n",
    "fig = plt.figure(figsize=[16, 8])\n",
    "sns.set(font_scale=2)\n",
    "sns.boxplot(x=\"nutrition_grade_fr\", y=\"fat_100g\", data=df, showmeans=True,color='white')\n",
    "plt.title(\"Visualisation fat_100g en fonction du nutrition grade\")\n",
    "plt.show()"
   ]
  },
  {
   "cell_type": "markdown",
   "metadata": {},
   "source": [
    "#### Nutrition grade _ sugars_100g"
   ]
  },
  {
   "cell_type": "code",
   "execution_count": null,
   "metadata": {},
   "outputs": [],
   "source": [
    "sns.displot(data=df, x=\"sugars_100g\", hue=\"nutrition_grade_fr\", kind=\"kde\", log_scale=None)"
   ]
  },
  {
   "cell_type": "code",
   "execution_count": null,
   "metadata": {},
   "outputs": [],
   "source": [
    "#Visualisation boxplot\n",
    "fig = plt.figure(figsize=[16, 8])\n",
    "sns.set(font_scale=2)\n",
    "sns.boxplot(x=\"nutrition_grade_fr\", y=\"sugars_100g\", data=df, showmeans=True,color='white')\n",
    "plt.title(\"Visualisation sugars_100g en fonction du nutrition grade\")\n",
    "plt.show()"
   ]
  },
  {
   "cell_type": "markdown",
   "metadata": {},
   "source": [
    "#### Nutrition grade _ energy_100g"
   ]
  },
  {
   "cell_type": "code",
   "execution_count": null,
   "metadata": {},
   "outputs": [],
   "source": [
    "sns.displot(data=df, x=\"energy_100g\", hue=\"nutrition_grade_fr\", kind=\"kde\", log_scale=None)"
   ]
  },
  {
   "cell_type": "code",
   "execution_count": null,
   "metadata": {},
   "outputs": [],
   "source": [
    "#Visualisation boxplot\n",
    "fig = plt.figure(figsize=[16, 8])\n",
    "sns.set(font_scale=2)\n",
    "sns.boxplot(x=\"nutrition_grade_fr\", y=\"energy_100g\", data=df, showmeans=True,color='white')\n",
    "plt.title(\"Visualisation energy_100g en fonction du nutrition grade\")\n",
    "plt.show()"
   ]
  },
  {
   "cell_type": "markdown",
   "metadata": {},
   "source": [
    "#### Nutrition grade _ carbohydrates_100g"
   ]
  },
  {
   "cell_type": "code",
   "execution_count": null,
   "metadata": {},
   "outputs": [],
   "source": [
    "sns.displot(data=df, x=\"carbohydrates_100g\", hue=\"nutrition_grade_fr\", kind=\"kde\", log_scale=None)"
   ]
  },
  {
   "cell_type": "code",
   "execution_count": null,
   "metadata": {},
   "outputs": [],
   "source": [
    "#Visualisation boxplot\n",
    "fig = plt.figure(figsize=[16, 8])\n",
    "sns.set(font_scale=2)\n",
    "sns.boxplot(x=\"nutrition_grade_fr\", y=\"carbohydrates_100g\", data=df, showmeans=True,color='white')\n",
    "plt.title(\"Visualisation carbohydrates_100g en fonction du nutrition grade\")\n",
    "plt.show()"
   ]
  },
  {
   "cell_type": "markdown",
   "metadata": {},
   "source": [
    "#### Nutrition grade _ saturated-fat_100g"
   ]
  },
  {
   "cell_type": "code",
   "execution_count": null,
   "metadata": {},
   "outputs": [],
   "source": [
    "sns.displot(data=df, x=\"saturated-fat_100g\", hue=\"nutrition_grade_fr\", kind=\"kde\", log_scale=None)"
   ]
  },
  {
   "cell_type": "code",
   "execution_count": null,
   "metadata": {},
   "outputs": [],
   "source": [
    "#Visualisation boxplot\n",
    "fig = plt.figure(figsize=[16, 8])\n",
    "sns.set(font_scale=2)\n",
    "sns.boxplot(x=\"nutrition_grade_fr\", y=\"saturated-fat_100g\", data=df, showmeans=True,color='white')\n",
    "plt.title(\"Visualisation saturated-fat_100g en fonction du nutrition grade\")\n",
    "plt.show()"
   ]
  },
  {
   "cell_type": "markdown",
   "metadata": {},
   "source": [
    "#### Nutrition grade _ fiber_100g "
   ]
  },
  {
   "cell_type": "code",
   "execution_count": null,
   "metadata": {},
   "outputs": [],
   "source": [
    "sns.displot(data=df, x=\"fiber_100g\", hue=\"nutrition_grade_fr\", kind=\"kde\", log_scale=None)"
   ]
  },
  {
   "cell_type": "code",
   "execution_count": null,
   "metadata": {},
   "outputs": [],
   "source": [
    "#Visualisation boxplot\n",
    "fig = plt.figure(figsize=[16, 8])\n",
    "sns.set(font_scale=2)\n",
    "sns.boxplot(x=\"nutrition_grade_fr\", y=\"fiber_100g\", data=df, showmeans=True,color='white')\n",
    "plt.title(\"Visualisation fiber_100g en fonction du nutrition grade\")\n",
    "plt.show()"
   ]
  },
  {
   "cell_type": "markdown",
   "metadata": {},
   "source": [
    "#### Nutrition grade _ proteins_100g   "
   ]
  },
  {
   "cell_type": "code",
   "execution_count": null,
   "metadata": {},
   "outputs": [],
   "source": [
    "sns.displot(data=df, x=\"proteins_100g\", hue=\"nutrition_grade_fr\", kind=\"kde\", log_scale=None)"
   ]
  },
  {
   "cell_type": "code",
   "execution_count": null,
   "metadata": {},
   "outputs": [],
   "source": [
    "#Visualisation boxplot\n",
    "fig = plt.figure(figsize=[16, 8])\n",
    "sns.set(font_scale=2)\n",
    "sns.boxplot(x=\"nutrition_grade_fr\", y=\"proteins_100g\", data=df, showmeans=True,color='white')\n",
    "plt.title(\"Visualisation proteins_100g en fonction du nutrition grade\")\n",
    "plt.show()"
   ]
  },
  {
   "cell_type": "markdown",
   "metadata": {},
   "source": [
    "#### Nutrition grade _ salt_100g "
   ]
  },
  {
   "cell_type": "code",
   "execution_count": null,
   "metadata": {},
   "outputs": [],
   "source": [
    "sns.displot(data=df, x=\"salt_100g\", hue=\"nutrition_grade_fr\", kind=\"kde\", log_scale=None)"
   ]
  },
  {
   "cell_type": "code",
   "execution_count": null,
   "metadata": {},
   "outputs": [],
   "source": [
    "#Visualisation boxplot\n",
    "fig = plt.figure(figsize=[16, 8])\n",
    "sns.set(font_scale=2)\n",
    "sns.boxplot(x=\"nutrition_grade_fr\", y=\"salt_100g\", data=df, showmeans=True,color='white')\n",
    "plt.title(\"Visualisation salt_100g en fonction du nutrition grade \")\n",
    "plt.show()"
   ]
  },
  {
   "cell_type": "markdown",
   "metadata": {},
   "source": [
    "#### Nutrition grade _ nutrition-score-fr_100g"
   ]
  },
  {
   "cell_type": "code",
   "execution_count": null,
   "metadata": {},
   "outputs": [],
   "source": [
    "sns.displot(data=df, x=\"nutrition-score-fr_100g\", hue=\"nutrition_grade_fr\", kind=\"kde\", log_scale=None)"
   ]
  },
  {
   "cell_type": "code",
   "execution_count": null,
   "metadata": {},
   "outputs": [],
   "source": [
    "#Visualisation boxplot\n",
    "fig = plt.figure(figsize=[16, 8])\n",
    "sns.set(font_scale=2)\n",
    "sns.boxplot(x=\"nutrition_grade_fr\", y=\"nutrition-score-fr_100g\", data=df, showmeans=True,color='white')\n",
    "plt.title(\"Visualisation nutrition-score en fonction du nutrition grade \")\n",
    "plt.show()"
   ]
  },
  {
   "cell_type": "markdown",
   "metadata": {},
   "source": [
    "## Tests d'hypothèses "
   ]
  },
  {
   "cell_type": "markdown",
   "metadata": {},
   "source": [
    "Nous utiliserons la statistique inférentielle pour interpreter nos données afin d'aquérir une meilleure connaissance\n",
    "\n",
    "Les tests parametriques :\n",
    "\n",
    "ANOVA : Comparaison de plusieurs moyennes"
   ]
  },
  {
   "cell_type": "markdown",
   "metadata": {},
   "source": [
    "Test parametrique ANOVA (puissant pour savoir si nous pouvons oui ou non rejeter H0)"
   ]
  },
  {
   "cell_type": "code",
   "execution_count": null,
   "metadata": {},
   "outputs": [],
   "source": [
    "import scipy.stats as st\n",
    "import statsmodels.api as sm\n",
    "from statsmodels.formula.api import ols"
   ]
  },
  {
   "cell_type": "code",
   "execution_count": null,
   "metadata": {},
   "outputs": [],
   "source": [
    "df.columns"
   ]
  },
  {
   "cell_type": "markdown",
   "metadata": {},
   "source": [
    "#### Les variables fat_100g d'un produit et le nutriscore"
   ]
  },
  {
   "cell_type": "code",
   "execution_count": null,
   "metadata": {},
   "outputs": [],
   "source": [
    "# Hypothèses\n",
    "# H0: l'hypothèse nulle: Les variables fat_100g d'un produit et le nutriscore obtenu sont indépendantes\n",
    "# Ha: l'hypothèse alternative: Les variables fat_100g d'un produit et le nutriscore obtenu sont corrélées"
   ]
  },
  {
   "cell_type": "code",
   "execution_count": null,
   "metadata": {},
   "outputs": [],
   "source": [
    "linear_model = ols('fat_100g ~ C(nutrition_grade_fr)', data=df).fit()\n",
    "table = sm.stats.anova_lm(linear_model, typ=2)\n",
    "# Afficher les résultats de la table d'ANOVA\n",
    "print(table)"
   ]
  },
  {
   "cell_type": "code",
   "execution_count": null,
   "metadata": {},
   "outputs": [],
   "source": [
    "pvalue = linear_model.f_pvalue\n",
    "print(\"Ici la p-value est égale à {}\".format(pvalue))"
   ]
  },
  {
   "cell_type": "code",
   "execution_count": null,
   "metadata": {},
   "outputs": [],
   "source": [
    "seuil = 0.05\n",
    "# Conclusion\n",
    "if pvalue > seuil:\n",
    "    print(\"On ne peux pas rejetter H0: il n'y a pas de corrélation\")\n",
    "else:\n",
    "    print(\"On rejette H0 : il y a une corrélation\")"
   ]
  },
  {
   "cell_type": "markdown",
   "metadata": {},
   "source": [
    "#### Les variables sugars_100g d'un produit et le nutriscore"
   ]
  },
  {
   "cell_type": "code",
   "execution_count": null,
   "metadata": {},
   "outputs": [],
   "source": [
    "# Hypothèses\n",
    "# H0: l'hypothèse nulle: Les variables sugars_100g d'un produit et le nutriscore obtenu sont indépendantes\n",
    "# Ha: l'hypothèse alternative: Les variables sugars_100g d'un produit et le nutriscore obtenu sont corrélées"
   ]
  },
  {
   "cell_type": "code",
   "execution_count": null,
   "metadata": {},
   "outputs": [],
   "source": [
    "linear_model = ols('sugars_100g ~ C(nutrition_grade_fr)', data=df).fit()\n",
    "table = sm.stats.anova_lm(linear_model, typ=2)\n",
    "# Afficher les résultats de la table d'ANOVA\n",
    "print(table)"
   ]
  },
  {
   "cell_type": "code",
   "execution_count": null,
   "metadata": {},
   "outputs": [],
   "source": [
    "pvalue = linear_model.f_pvalue\n",
    "print(\"Ici la p-value est égale à {}\".format(pvalue))"
   ]
  },
  {
   "cell_type": "code",
   "execution_count": null,
   "metadata": {},
   "outputs": [],
   "source": [
    "seuil = 0.05\n",
    "# Conclusion\n",
    "if pvalue > seuil:\n",
    "    print(\"On ne peux pas rejetter H0: il n'y a pas de corrélation\")\n",
    "else:\n",
    "    print(\"On rejette H0 : il y a une corrélation\")"
   ]
  },
  {
   "cell_type": "markdown",
   "metadata": {},
   "source": [
    "#### Les variables energy_100g d'un produit et le nutriscore"
   ]
  },
  {
   "cell_type": "code",
   "execution_count": null,
   "metadata": {},
   "outputs": [],
   "source": [
    "# Hypothèses\n",
    "# H0: l'hypothèse nulle: Les variables energy_100g d'un produit et le nutriscore obtenu sont indépendantes\n",
    "# Ha: l'hypothèse alternative: Les variables energy_100g d'un produit et le nutriscore obtenu sont corrélées"
   ]
  },
  {
   "cell_type": "code",
   "execution_count": null,
   "metadata": {},
   "outputs": [],
   "source": [
    "linear_model = ols('energy_100g ~ C(nutrition_grade_fr)', data=df).fit()\n",
    "table = sm.stats.anova_lm(linear_model, typ=2)\n",
    "# Afficher les résultats de la table d'ANOVA\n",
    "print(table)"
   ]
  },
  {
   "cell_type": "code",
   "execution_count": null,
   "metadata": {},
   "outputs": [],
   "source": [
    "pvalue = linear_model.f_pvalue\n",
    "print(\"Ici la p-value est égale à {}\".format(pvalue))"
   ]
  },
  {
   "cell_type": "code",
   "execution_count": null,
   "metadata": {},
   "outputs": [],
   "source": [
    "seuil = 0.05\n",
    "# Conclusion\n",
    "if pvalue > seuil:\n",
    "    print(\"On ne peux pas rejetter H0: il n'y a pas de corrélation\")\n",
    "else:\n",
    "    print(\"On rejette H0 : il y a une corrélation\")"
   ]
  },
  {
   "cell_type": "markdown",
   "metadata": {},
   "source": [
    "#### Les variables carbohydrates_100g d'un produit et le nutriscore"
   ]
  },
  {
   "cell_type": "code",
   "execution_count": null,
   "metadata": {},
   "outputs": [],
   "source": [
    "# Hypothèses\n",
    "# H0: l'hypothèse nulle: Les variables carbohydrates_100g d'un produit et le nutriscore obtenu sont indépendantes\n",
    "# Ha: l'hypothèse alternative: Les variables carbohydrates_100g d'un produit et le nutriscore obtenu sont corrélées"
   ]
  },
  {
   "cell_type": "code",
   "execution_count": null,
   "metadata": {},
   "outputs": [],
   "source": [
    "linear_model = ols('carbohydrates_100g ~ C(nutrition_grade_fr)', data=df).fit()\n",
    "table = sm.stats.anova_lm(linear_model, typ=2)\n",
    "# Afficher les résultats de la table d'ANOVA\n",
    "print(table)"
   ]
  },
  {
   "cell_type": "code",
   "execution_count": null,
   "metadata": {},
   "outputs": [],
   "source": [
    "pvalue = linear_model.f_pvalue\n",
    "print(\"Ici la p-value est égale à {}\".format(pvalue))"
   ]
  },
  {
   "cell_type": "code",
   "execution_count": null,
   "metadata": {},
   "outputs": [],
   "source": [
    "seuil = 0.05\n",
    "# Conclusion\n",
    "if pvalue > seuil:\n",
    "    print(\"On ne peux pas rejetter H0: il n'y a pas de corrélation\")\n",
    "else:\n",
    "    print(\"On rejette H0 : il y a une corrélation\")"
   ]
  },
  {
   "cell_type": "markdown",
   "metadata": {},
   "source": [
    "#### Les variables fiber_100g d'un produit et le nutriscore"
   ]
  },
  {
   "cell_type": "code",
   "execution_count": null,
   "metadata": {},
   "outputs": [],
   "source": [
    "# Hypothèses\n",
    "# H0: l'hypothèse nulle: Les variables fiber_100g d'un produit et le nutriscore obtenu sont indépendantes\n",
    "# Ha: l'hypothèse alternative: Les variables fiber_100g d'un produit et le nutriscore obtenu sont corrélées"
   ]
  },
  {
   "cell_type": "code",
   "execution_count": null,
   "metadata": {},
   "outputs": [],
   "source": [
    "linear_model = ols('fiber_100g ~ C(nutrition_grade_fr)', data=df).fit()\n",
    "table = sm.stats.anova_lm(linear_model, typ=2)\n",
    "# Afficher les résultats de la table d'ANOVA\n",
    "print(table)"
   ]
  },
  {
   "cell_type": "code",
   "execution_count": null,
   "metadata": {},
   "outputs": [],
   "source": [
    "pvalue = linear_model.f_pvalue\n",
    "print(\"Ici la p-value est égale à {}\".format(pvalue))"
   ]
  },
  {
   "cell_type": "code",
   "execution_count": null,
   "metadata": {},
   "outputs": [],
   "source": [
    "seuil = 0.05\n",
    "# Conclusion\n",
    "if pvalue > seuil:\n",
    "    print(\"On ne peux pas rejetter H0: il n'y a pas de corrélation\")\n",
    "else:\n",
    "    print(\"On rejette H0 : il y a une corrélation\")"
   ]
  },
  {
   "cell_type": "code",
   "execution_count": null,
   "metadata": {},
   "outputs": [],
   "source": []
  },
  {
   "cell_type": "code",
   "execution_count": null,
   "metadata": {},
   "outputs": [],
   "source": []
  },
  {
   "cell_type": "code",
   "execution_count": null,
   "metadata": {},
   "outputs": [],
   "source": []
  },
  {
   "cell_type": "code",
   "execution_count": null,
   "metadata": {},
   "outputs": [],
   "source": []
  },
  {
   "cell_type": "code",
   "execution_count": null,
   "metadata": {},
   "outputs": [],
   "source": []
  },
  {
   "cell_type": "code",
   "execution_count": null,
   "metadata": {},
   "outputs": [],
   "source": []
  },
  {
   "cell_type": "code",
   "execution_count": null,
   "metadata": {},
   "outputs": [],
   "source": [
    "#df.set_index('product_name',inplace=True)"
   ]
  },
  {
   "cell_type": "code",
   "execution_count": null,
   "metadata": {},
   "outputs": [],
   "source": [
    "df"
   ]
  },
  {
   "cell_type": "markdown",
   "metadata": {},
   "source": [
    "### Analyse en Composantes Principales "
   ]
  },
  {
   "cell_type": "markdown",
   "metadata": {},
   "source": [
    " l'ACP est une méthode statistique qui permet de représenter les données sur un graphique facilement interprétables."
   ]
  },
  {
   "cell_type": "code",
   "execution_count": null,
   "metadata": {},
   "outputs": [],
   "source": [
    "from sklearn.decomposition import PCA\n",
    "from sklearn import decomposition\n",
    "from sklearn.preprocessing import StandardScaler\n",
    "from pyensae.graphhelper import Corrplot"
   ]
  },
  {
   "cell_type": "code",
   "execution_count": null,
   "metadata": {},
   "outputs": [],
   "source": [
    "Z = df.select_dtypes('float')"
   ]
  },
  {
   "cell_type": "code",
   "execution_count": null,
   "metadata": {},
   "outputs": [],
   "source": [
    "c = Corrplot(Z)\n",
    "c.plot(figsize=(15,8))\n",
    "plt.show()"
   ]
  },
  {
   "cell_type": "code",
   "execution_count": null,
   "metadata": {},
   "outputs": [],
   "source": [
    "scaler = StandardScaler()\n",
    "\n",
    "df_acp=df.select_dtypes('float')\n",
    "df_acp=pd.DataFrame(scaler.fit_transform(df_acp), columns=df_acp.columns)\n",
    "df_acp.head()"
   ]
  },
  {
   "cell_type": "code",
   "execution_count": null,
   "metadata": {},
   "outputs": [],
   "source": [
    "pca = PCA(n_components=6)\n",
    "Principal_components=pca.fit_transform(df_acp)\n",
    "pca_df = pd.DataFrame(data = Principal_components, columns = ['PC 1', 'PC 2', 'PC 3', 'PC 4', 'PC 5', 'PC 6'])\n",
    "print(pca_df)"
   ]
  },
  {
   "cell_type": "code",
   "execution_count": null,
   "metadata": {},
   "outputs": [],
   "source": [
    "for_visual = pd.concat([pca_df, df['nutrition_grade_fr']], axis = 1)\n",
    "print(for_visual)"
   ]
  },
  {
   "cell_type": "code",
   "execution_count": null,
   "metadata": {},
   "outputs": [],
   "source": [
    "fig = plt.figure(figsize = (16,8))\n",
    "ax = fig.add_subplot(1,1,1) \n",
    "ax.set_xlabel('PC 1', fontsize = 15)\n",
    "ax.set_ylabel('PC 2', fontsize = 15)\n",
    "ax.set_title('Plot PC1 PC2 vs. Nutrition grade', fontsize = 20)\n",
    "nutrition_grade = ['A','B','C','D','E']\n",
    "colors = ['navy', 'turquoise', 'darkorange', '#d2615c', '#77cc58']\n",
    "for nutrition_grade_fr, color in zip(nutrition_grade,colors):\n",
    "    indicesToKeep = for_visual['nutrition_grade_fr'] == nutrition_grade_fr\n",
    "    ax.scatter(for_visual.loc[indicesToKeep, 'PC 1']\n",
    "               , for_visual.loc[indicesToKeep, 'PC 2']\n",
    "               , c = color\n",
    "               , s = 50)\n",
    "ax.legend(nutrition_grade)\n",
    "ax.grid()"
   ]
  },
  {
   "cell_type": "code",
   "execution_count": null,
   "metadata": {},
   "outputs": [],
   "source": [
    "fig = plt.figure(figsize = (16,8))\n",
    "ax = fig.add_subplot(1,1,1) \n",
    "ax.set_xlabel('PC 3', fontsize = 15)\n",
    "ax.set_ylabel('PC 4', fontsize = 15)\n",
    "ax.set_title('Plot PC3 PC4 vs. Nutrition grade', fontsize = 20)\n",
    "nutrition_grade = ['A','B','C','D','E']\n",
    "colors = ['navy', 'turquoise', 'darkorange', '#d2615c', '#77cc58']\n",
    "for nutrition_grade_fr, color in zip(nutrition_grade,colors):\n",
    "    indicesToKeep = for_visual['nutrition_grade_fr'] == nutrition_grade_fr\n",
    "    ax.scatter(for_visual.loc[indicesToKeep, 'PC 3']\n",
    "               , for_visual.loc[indicesToKeep, 'PC 4']\n",
    "               , c = color\n",
    "               , s = 50)\n",
    "ax.legend(nutrition_grade)\n",
    "ax.grid()"
   ]
  },
  {
   "cell_type": "markdown",
   "metadata": {},
   "source": [
    "### Diagramme éboulis des valeurs propres\n",
    "Les pourcentages d’inertie nous donnent une information sur la « structure » de nos données."
   ]
  },
  {
   "cell_type": "code",
   "execution_count": null,
   "metadata": {},
   "outputs": [],
   "source": [
    "PC_values = np.arange(pca.n_components_) + 1\n",
    "plt.plot(PC_values, pca.explained_variance_ratio_, 'ro-', linewidth=2)\n",
    "plt.title('Scree Plot')\n",
    "plt.xlabel('Principal Component')\n",
    "plt.ylabel('Proportion of Variance Explained')\n",
    "plt.show()"
   ]
  },
  {
   "cell_type": "code",
   "execution_count": null,
   "metadata": {},
   "outputs": [],
   "source": [
    "print (\"Proportion of Variance Explained : \", pca.explained_variance_ratio_)  \n",
    "    \n",
    "out_sum = np.cumsum(pca.explained_variance_ratio_)  \n",
    "print (\"Cumulative Prop. Variance Explained: \", out_sum)"
   ]
  },
  {
   "cell_type": "markdown",
   "metadata": {},
   "source": [
    "Les 4 premières composantes expliquent 83% de la variance totale des données. On peut donc dire que la dimension intrasèques de cet ensemble de données est raisonnablement égale à 4. Transformons donc la dataframe originelle en une dataframe de 4 variables"
   ]
  },
  {
   "cell_type": "code",
   "execution_count": null,
   "metadata": {},
   "outputs": [],
   "source": [
    "pca = PCA(n_components=4)\n",
    "principalComponents = pca.fit_transform(pca_df)\n",
    "principalDf = pd.DataFrame(data=principalComponents, columns=[\n",
    "                           'PCA 1', 'PCA 2', 'PCA 3', 'PCA 4'])"
   ]
  },
  {
   "cell_type": "code",
   "execution_count": null,
   "metadata": {},
   "outputs": [],
   "source": [
    "principalDf"
   ]
  },
  {
   "cell_type": "code",
   "execution_count": null,
   "metadata": {},
   "outputs": [],
   "source": [
    "finalDf = pd.concat([principalDf, df['nutrition_grade_fr']], axis=1)"
   ]
  },
  {
   "cell_type": "code",
   "execution_count": null,
   "metadata": {},
   "outputs": [],
   "source": [
    "finalDf"
   ]
  },
  {
   "cell_type": "code",
   "execution_count": null,
   "metadata": {},
   "outputs": [],
   "source": [
    " def display_circles(pcs, n_comp, pca, axis_ranks, labels=None, label_rotation=0, lims=None):\n",
    "    for d1, d2 in axis_ranks:  # On affiche les 3 premiers plans factoriels, donc les 6 premières composantes\n",
    "        if d2 < n_comp:\n",
    "\n",
    "            # initialisation de la figure\n",
    "            fig, ax = plt.subplots(figsize=(7, 6))\n",
    "\n",
    "            # détermination des limites du graphique\n",
    "            if lims is not None:\n",
    "                xmin, xmax, ymin, ymax = lims\n",
    "            elif pcs.shape[1] < 30:\n",
    "                xmin, xmax, ymin, ymax = -1, 1, -1, 1\n",
    "            else:\n",
    "                xmin, xmax, ymin, ymax = min(pcs[d1, :]), max(\n",
    "                    pcs[d1, :]), min(pcs[d2, :]), max(pcs[d2, :])\n",
    "\n",
    "            # affichage des flèches\n",
    "            # s'il y a plus de 30 flèches, on n'affiche pas le triangle à leur extrémité\n",
    "            if pcs.shape[1] < 30:\n",
    "                plt.quiver(np.zeros(pcs.shape[1]), np.zeros(pcs.shape[1]),\n",
    "                           pcs[d1, :], pcs[d2, :],\n",
    "                           angles='xy', scale_units='xy', scale=1, color=\"grey\")\n",
    "                # (voir la doc : https://matplotlib.org/api/_as_gen/matplotlib.pyplot.quiver.html)\n",
    "            else:\n",
    "                lines = [[[0, 0], [x, y]] for x, y in pcs[[d1, d2]].T]\n",
    "                ax.add_collection(LineCollection(\n",
    "                    lines, axes=ax, alpha=.1, color='black'))\n",
    "\n",
    "            # affichage des noms des variables\n",
    "            if labels is not None:\n",
    "                for i, (x, y) in enumerate(pcs[[d1, d2]].T):\n",
    "                    if x >= xmin and x <= xmax and y >= ymin and y <= ymax:\n",
    "                        plt.text(x, y, labels[i], fontsize='14', ha='center',\n",
    "                                 va='center', rotation=label_rotation, color=\"blue\", alpha=0.5)\n",
    "\n",
    "            # affichage du cercle\n",
    "            circle = plt.Circle((0, 0), 1, facecolor='none', edgecolor='b')\n",
    "            plt.gca().add_artist(circle)\n",
    "\n",
    "            # définition des limites du graphique\n",
    "            plt.xlim(xmin, xmax)\n",
    "            plt.ylim(ymin, ymax)\n",
    "\n",
    "            # affichage des lignes horizontales et verticales\n",
    "            plt.plot([-1, 1], [0, 0], color='grey', ls='--')\n",
    "            plt.plot([0, 0], [-1, 1], color='grey', ls='--')\n",
    "\n",
    "            # nom des axes, avec le pourcentage d'inertie expliqué\n",
    "            plt.xlabel('PC{} ({}%)'.format(\n",
    "                d1+1, round(100*pca.explained_variance_ratio_[d1], 1)))\n",
    "            plt.ylabel('PC{} ({}%)'.format(\n",
    "                d2+1, round(100*pca.explained_variance_ratio_[d2], 1)))\n",
    "\n",
    "            plt.title(\"Cercle des corrélations (PC{} et PC{})\".format(d1+1, d2+1))\n",
    "            plt.show(block=False)"
   ]
  },
  {
   "cell_type": "code",
   "execution_count": null,
   "metadata": {},
   "outputs": [],
   "source": [
    "features = df_acp.columns"
   ]
  },
  {
   "cell_type": "code",
   "execution_count": null,
   "metadata": {},
   "outputs": [],
   "source": [
    "n_comp = 4\n",
    "pcs = pca.components_\n",
    "fig = plt.figure(figsize=(16, 16))\n",
    "display_circles(pcs, n_comp, pca, [\n",
    "                (0, 1), (2, 3), (4, 5)], labels=np.array(features))"
   ]
  },
  {
   "cell_type": "code",
   "execution_count": null,
   "metadata": {},
   "outputs": [],
   "source": [
    "df_acp"
   ]
  },
  {
   "cell_type": "markdown",
   "metadata": {},
   "source": [
    "## Réaliser un clustering hiérarchique"
   ]
  },
  {
   "cell_type": "code",
   "execution_count": null,
   "metadata": {},
   "outputs": [],
   "source": [
    "\n",
    "metric = 'euclidean'\n",
    "method = 'ward'\n",
    "cmap = 'coolwarm'\n",
    "\n",
    "clustergrid = sns.clustermap(df_acp.T, figsize=(16, 12), metric=metric, method=method, cmap=cmap,\n",
    "                             row_cluster=True, col_cluster=True,\n",
    "                             center=0.0, vmin=-4.8, vmax=4.8)"
   ]
  },
  {
   "cell_type": "code",
   "execution_count": null,
   "metadata": {},
   "outputs": [],
   "source": []
  }
 ],
 "metadata": {
  "kernelspec": {
   "display_name": "Python 3",
   "language": "python",
   "name": "python3"
  },
  "language_info": {
   "codemirror_mode": {
    "name": "ipython",
    "version": 3
   },
   "file_extension": ".py",
   "mimetype": "text/x-python",
   "name": "python",
   "nbconvert_exporter": "python",
   "pygments_lexer": "ipython3",
   "version": "3.8.8"
  },
  "toc": {
   "base_numbering": 1,
   "nav_menu": {},
   "number_sections": true,
   "sideBar": true,
   "skip_h1_title": false,
   "title_cell": "Table of Contents",
   "title_sidebar": "Contents",
   "toc_cell": false,
   "toc_position": {
    "height": "calc(100% - 180px)",
    "left": "10px",
    "top": "150px",
    "width": "263.797px"
   },
   "toc_section_display": true,
   "toc_window_display": false
  }
 },
 "nbformat": 4,
 "nbformat_minor": 4
}
