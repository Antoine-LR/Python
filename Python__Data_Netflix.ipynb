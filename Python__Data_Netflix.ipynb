{
  "cells": [
    {
      "cell_type": "markdown",
      "metadata": {
        "id": "view-in-github",
        "colab_type": "text"
      },
      "source": [
        "<a href=\"https://colab.research.google.com/github/Wonderingleon/Python/blob/main/Python__Data_Netflix.ipynb\" target=\"_parent\"><img src=\"https://colab.research.google.com/assets/colab-badge.svg\" alt=\"Open In Colab\"/></a>"
      ]
    },
    {
      "cell_type": "code",
      "execution_count": null,
      "id": "117aca55",
      "metadata": {
        "id": "117aca55"
      },
      "outputs": [],
      "source": [
        "import pandas as pd"
      ]
    },
    {
      "cell_type": "code",
      "execution_count": null,
      "id": "89120d0e",
      "metadata": {
        "id": "89120d0e"
      },
      "outputs": [],
      "source": [
        "df = pd.read_csv(\"netflix_titles.csv\")"
      ]
    },
    {
      "cell_type": "markdown",
      "id": "4f881ccc",
      "metadata": {
        "id": "4f881ccc"
      },
      "source": [
        "# Recuperer les pays les plus importants"
      ]
    },
    {
      "cell_type": "code",
      "execution_count": null,
      "id": "e3b12579",
      "metadata": {
        "id": "e3b12579",
        "outputId": "30d1ac22-fb4e-4f1f-c6c5-f02f2ee4cf43"
      },
      "outputs": [
        {
          "data": {
            "text/plain": [
              "{'United States': 2555, 'India': 923, 'United Kingdom': 397}"
            ]
          },
          "execution_count": 32,
          "metadata": {},
          "output_type": "execute_result"
        }
      ],
      "source": [
        "df.country.value_counts()[:3].to_dict()"
      ]
    },
    {
      "cell_type": "markdown",
      "id": "0dcfb1a9",
      "metadata": {
        "id": "0dcfb1a9"
      },
      "source": [
        "# Recuperer le nombre de films par années"
      ]
    },
    {
      "cell_type": "raw",
      "id": "6dce7fd1",
      "metadata": {
        "id": "6dce7fd1"
      },
      "source": [
        "df.release_year.value_counts().sort_index(ascending=False)[:10].to_dict()"
      ]
    },
    {
      "cell_type": "markdown",
      "id": "a1c95437",
      "metadata": {
        "id": "a1c95437"
      },
      "source": [
        "# Recuperer la liste des réalisateurs"
      ]
    },
    {
      "cell_type": "code",
      "execution_count": null,
      "id": "6383ec65",
      "metadata": {
        "id": "6383ec65",
        "outputId": "88c59f60-e5c9-4ab7-b29d-52153e1c967a"
      },
      "outputs": [
        {
          "data": {
            "text/plain": [
              "['Jorge Michel Grau',\n",
              " 'Gilbert Chan',\n",
              " 'Shane Acker',\n",
              " 'Robert Luketic',\n",
              " 'Serdar Akar',\n",
              " 'Yasir Al Yasiri',\n",
              " 'Kevin Reynolds',\n",
              " 'Shravan Kumar',\n",
              " 'Vikram Bhatt',\n",
              " 'Zak Hilditch']"
            ]
          },
          "execution_count": 70,
          "metadata": {},
          "output_type": "execute_result"
        }
      ],
      "source": [
        "df.director.dropna().unique().tolist()[:10]"
      ]
    },
    {
      "cell_type": "markdown",
      "id": "d020981a",
      "metadata": {
        "id": "d020981a"
      },
      "source": [
        "# Recuperer la durée moyenne des films"
      ]
    },
    {
      "cell_type": "code",
      "execution_count": null,
      "id": "30e71107",
      "metadata": {
        "id": "30e71107"
      },
      "outputs": [],
      "source": [
        "df_duration = df[df.duration.str.contains('min')]['duration']"
      ]
    },
    {
      "cell_type": "code",
      "execution_count": null,
      "id": "0c3b446c",
      "metadata": {
        "id": "0c3b446c",
        "outputId": "5aca56b8-acd7-4165-db3f-0395d427d46d"
      },
      "outputs": [
        {
          "data": {
            "text/plain": [
              "99.30797842663195"
            ]
          },
          "execution_count": 86,
          "metadata": {},
          "output_type": "execute_result"
        }
      ],
      "source": [
        "df_duration.str.replace(\"min\",\"\").map(int).mean()"
      ]
    },
    {
      "cell_type": "code",
      "execution_count": null,
      "id": "4071a0ad",
      "metadata": {
        "id": "4071a0ad"
      },
      "outputs": [],
      "source": [
        ""
      ]
    }
  ],
  "metadata": {
    "kernelspec": {
      "display_name": "Python 3",
      "language": "python",
      "name": "python3"
    },
    "language_info": {
      "codemirror_mode": {
        "name": "ipython",
        "version": 3
      },
      "file_extension": ".py",
      "mimetype": "text/x-python",
      "name": "python",
      "nbconvert_exporter": "python",
      "pygments_lexer": "ipython3",
      "version": "3.8.8"
    },
    "colab": {
      "name": "Python_ Data Netflix.ipynb",
      "provenance": [],
      "include_colab_link": true
    }
  },
  "nbformat": 4,
  "nbformat_minor": 5
}