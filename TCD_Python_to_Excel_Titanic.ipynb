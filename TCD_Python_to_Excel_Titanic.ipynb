{
  "cells": [
    {
      "cell_type": "markdown",
      "metadata": {
        "id": "view-in-github",
        "colab_type": "text"
      },
      "source": [
        "<a href=\"https://colab.research.google.com/github/Wonderingleon/Python/blob/main/TCD_Python_to_Excel_Titanic.ipynb\" target=\"_parent\"><img src=\"https://colab.research.google.com/assets/colab-badge.svg\" alt=\"Open In Colab\"/></a>"
      ]
    },
    {
      "cell_type": "code",
      "execution_count": null,
      "id": "d01878bb",
      "metadata": {
        "id": "d01878bb"
      },
      "outputs": [],
      "source": [
        "import pandas as pd\n",
        "import numpy as np"
      ]
    },
    {
      "cell_type": "code",
      "execution_count": null,
      "id": "45a73468",
      "metadata": {
        "id": "45a73468",
        "outputId": "0d336c26-9c3f-478d-c368-4a966f335ca1"
      },
      "outputs": [
        {
          "data": {
            "text/plain": [
              "'C:\\\\Users\\\\perso'"
            ]
          },
          "execution_count": 12,
          "metadata": {},
          "output_type": "execute_result"
        }
      ],
      "source": [
        "import os\n",
        "Dossier = os.getcwd()\n",
        "Dossier"
      ]
    },
    {
      "cell_type": "code",
      "execution_count": null,
      "id": "94fcf6c9",
      "metadata": {
        "id": "94fcf6c9",
        "outputId": "1d7c776a-ab46-4cd3-bf7d-4bbb34e0208c"
      },
      "outputs": [
        {
          "data": {
            "text/html": [
              "<div>\n",
              "<style scoped>\n",
              "    .dataframe tbody tr th:only-of-type {\n",
              "        vertical-align: middle;\n",
              "    }\n",
              "\n",
              "    .dataframe tbody tr th {\n",
              "        vertical-align: top;\n",
              "    }\n",
              "\n",
              "    .dataframe thead th {\n",
              "        text-align: right;\n",
              "    }\n",
              "</style>\n",
              "<table border=\"1\" class=\"dataframe\">\n",
              "  <thead>\n",
              "    <tr style=\"text-align: right;\">\n",
              "      <th></th>\n",
              "      <th>pclass</th>\n",
              "      <th>survived</th>\n",
              "      <th>name</th>\n",
              "      <th>sex</th>\n",
              "      <th>age</th>\n",
              "      <th>sibsp</th>\n",
              "      <th>parch</th>\n",
              "      <th>ticket</th>\n",
              "      <th>fare</th>\n",
              "      <th>cabin</th>\n",
              "      <th>embarked</th>\n",
              "      <th>boat</th>\n",
              "      <th>body</th>\n",
              "      <th>home.dest</th>\n",
              "    </tr>\n",
              "  </thead>\n",
              "  <tbody>\n",
              "    <tr>\n",
              "      <th>0</th>\n",
              "      <td>1</td>\n",
              "      <td>1</td>\n",
              "      <td>Allen, Miss. Elisabeth Walton</td>\n",
              "      <td>female</td>\n",
              "      <td>29.0000</td>\n",
              "      <td>0</td>\n",
              "      <td>0</td>\n",
              "      <td>24160</td>\n",
              "      <td>211.3375</td>\n",
              "      <td>B5</td>\n",
              "      <td>S</td>\n",
              "      <td>2</td>\n",
              "      <td>NaN</td>\n",
              "      <td>St Louis, MO</td>\n",
              "    </tr>\n",
              "    <tr>\n",
              "      <th>1</th>\n",
              "      <td>1</td>\n",
              "      <td>1</td>\n",
              "      <td>Allison, Master. Hudson Trevor</td>\n",
              "      <td>male</td>\n",
              "      <td>0.9167</td>\n",
              "      <td>1</td>\n",
              "      <td>2</td>\n",
              "      <td>113781</td>\n",
              "      <td>151.5500</td>\n",
              "      <td>C22 C26</td>\n",
              "      <td>S</td>\n",
              "      <td>11</td>\n",
              "      <td>NaN</td>\n",
              "      <td>Montreal, PQ / Chesterville, ON</td>\n",
              "    </tr>\n",
              "    <tr>\n",
              "      <th>2</th>\n",
              "      <td>1</td>\n",
              "      <td>0</td>\n",
              "      <td>Allison, Miss. Helen Loraine</td>\n",
              "      <td>female</td>\n",
              "      <td>2.0000</td>\n",
              "      <td>1</td>\n",
              "      <td>2</td>\n",
              "      <td>113781</td>\n",
              "      <td>151.5500</td>\n",
              "      <td>C22 C26</td>\n",
              "      <td>S</td>\n",
              "      <td>NaN</td>\n",
              "      <td>NaN</td>\n",
              "      <td>Montreal, PQ / Chesterville, ON</td>\n",
              "    </tr>\n",
              "    <tr>\n",
              "      <th>3</th>\n",
              "      <td>1</td>\n",
              "      <td>0</td>\n",
              "      <td>Allison, Mr. Hudson Joshua Creighton</td>\n",
              "      <td>male</td>\n",
              "      <td>30.0000</td>\n",
              "      <td>1</td>\n",
              "      <td>2</td>\n",
              "      <td>113781</td>\n",
              "      <td>151.5500</td>\n",
              "      <td>C22 C26</td>\n",
              "      <td>S</td>\n",
              "      <td>NaN</td>\n",
              "      <td>135.0</td>\n",
              "      <td>Montreal, PQ / Chesterville, ON</td>\n",
              "    </tr>\n",
              "    <tr>\n",
              "      <th>4</th>\n",
              "      <td>1</td>\n",
              "      <td>0</td>\n",
              "      <td>Allison, Mrs. Hudson J C (Bessie Waldo Daniels)</td>\n",
              "      <td>female</td>\n",
              "      <td>25.0000</td>\n",
              "      <td>1</td>\n",
              "      <td>2</td>\n",
              "      <td>113781</td>\n",
              "      <td>151.5500</td>\n",
              "      <td>C22 C26</td>\n",
              "      <td>S</td>\n",
              "      <td>NaN</td>\n",
              "      <td>NaN</td>\n",
              "      <td>Montreal, PQ / Chesterville, ON</td>\n",
              "    </tr>\n",
              "  </tbody>\n",
              "</table>\n",
              "</div>"
            ],
            "text/plain": [
              "   pclass  survived                                             name     sex  \\\n",
              "0       1         1                    Allen, Miss. Elisabeth Walton  female   \n",
              "1       1         1                   Allison, Master. Hudson Trevor    male   \n",
              "2       1         0                     Allison, Miss. Helen Loraine  female   \n",
              "3       1         0             Allison, Mr. Hudson Joshua Creighton    male   \n",
              "4       1         0  Allison, Mrs. Hudson J C (Bessie Waldo Daniels)  female   \n",
              "\n",
              "       age  sibsp  parch  ticket      fare    cabin embarked boat   body  \\\n",
              "0  29.0000      0      0   24160  211.3375       B5        S    2    NaN   \n",
              "1   0.9167      1      2  113781  151.5500  C22 C26        S   11    NaN   \n",
              "2   2.0000      1      2  113781  151.5500  C22 C26        S  NaN    NaN   \n",
              "3  30.0000      1      2  113781  151.5500  C22 C26        S  NaN  135.0   \n",
              "4  25.0000      1      2  113781  151.5500  C22 C26        S  NaN    NaN   \n",
              "\n",
              "                         home.dest  \n",
              "0                     St Louis, MO  \n",
              "1  Montreal, PQ / Chesterville, ON  \n",
              "2  Montreal, PQ / Chesterville, ON  \n",
              "3  Montreal, PQ / Chesterville, ON  \n",
              "4  Montreal, PQ / Chesterville, ON  "
            ]
          },
          "execution_count": 13,
          "metadata": {},
          "output_type": "execute_result"
        }
      ],
      "source": [
        "Titanic = pd.read_excel('titanic3 (3).xls')\n",
        "Titanic.head()"
      ]
    },
    {
      "cell_type": "code",
      "execution_count": null,
      "id": "07502993",
      "metadata": {
        "id": "07502993",
        "outputId": "a366ec0c-00aa-482c-da35-a5a0fb6b453a"
      },
      "outputs": [
        {
          "data": {
            "text/html": [
              "<div>\n",
              "<style scoped>\n",
              "    .dataframe tbody tr th:only-of-type {\n",
              "        vertical-align: middle;\n",
              "    }\n",
              "\n",
              "    .dataframe tbody tr th {\n",
              "        vertical-align: top;\n",
              "    }\n",
              "\n",
              "    .dataframe thead th {\n",
              "        text-align: right;\n",
              "    }\n",
              "</style>\n",
              "<table border=\"1\" class=\"dataframe\">\n",
              "  <thead>\n",
              "    <tr style=\"text-align: right;\">\n",
              "      <th></th>\n",
              "      <th>survived</th>\n",
              "    </tr>\n",
              "    <tr>\n",
              "      <th>pclass</th>\n",
              "      <th></th>\n",
              "    </tr>\n",
              "  </thead>\n",
              "  <tbody>\n",
              "    <tr>\n",
              "      <th>1</th>\n",
              "      <td>200</td>\n",
              "    </tr>\n",
              "    <tr>\n",
              "      <th>2</th>\n",
              "      <td>119</td>\n",
              "    </tr>\n",
              "    <tr>\n",
              "      <th>3</th>\n",
              "      <td>181</td>\n",
              "    </tr>\n",
              "  </tbody>\n",
              "</table>\n",
              "</div>"
            ],
            "text/plain": [
              "        survived\n",
              "pclass          \n",
              "1            200\n",
              "2            119\n",
              "3            181"
            ]
          },
          "execution_count": 15,
          "metadata": {},
          "output_type": "execute_result"
        }
      ],
      "source": [
        "pd.pivot_table(Titanic, index=['pclass'], values=['survived'], aggfunc=np.sum)"
      ]
    },
    {
      "cell_type": "code",
      "execution_count": null,
      "id": "8d38e173",
      "metadata": {
        "id": "8d38e173"
      },
      "outputs": [],
      "source": [
        "TDC =pd.pivot_table(Titanic, index=['pclass'], columns=['sex'],values=['age','survived'], aggfunc={'age' :np.mean, 'survived': np.sum})"
      ]
    },
    {
      "cell_type": "code",
      "execution_count": null,
      "id": "c6608c22",
      "metadata": {
        "id": "c6608c22",
        "outputId": "119934dd-d4e7-452e-858a-cf27cb3d3dca"
      },
      "outputs": [
        {
          "data": {
            "text/html": [
              "<div>\n",
              "<style scoped>\n",
              "    .dataframe tbody tr th:only-of-type {\n",
              "        vertical-align: middle;\n",
              "    }\n",
              "\n",
              "    .dataframe tbody tr th {\n",
              "        vertical-align: top;\n",
              "    }\n",
              "\n",
              "    .dataframe thead tr th {\n",
              "        text-align: left;\n",
              "    }\n",
              "\n",
              "    .dataframe thead tr:last-of-type th {\n",
              "        text-align: right;\n",
              "    }\n",
              "</style>\n",
              "<table border=\"1\" class=\"dataframe\">\n",
              "  <thead>\n",
              "    <tr>\n",
              "      <th></th>\n",
              "      <th colspan=\"2\" halign=\"left\">age</th>\n",
              "      <th colspan=\"2\" halign=\"left\">survived</th>\n",
              "    </tr>\n",
              "    <tr>\n",
              "      <th>sex</th>\n",
              "      <th>female</th>\n",
              "      <th>male</th>\n",
              "      <th>female</th>\n",
              "      <th>male</th>\n",
              "    </tr>\n",
              "    <tr>\n",
              "      <th>pclass</th>\n",
              "      <th></th>\n",
              "      <th></th>\n",
              "      <th></th>\n",
              "      <th></th>\n",
              "    </tr>\n",
              "  </thead>\n",
              "  <tbody>\n",
              "    <tr>\n",
              "      <th>1</th>\n",
              "      <td>37.037594</td>\n",
              "      <td>41.029250</td>\n",
              "      <td>139</td>\n",
              "      <td>61</td>\n",
              "    </tr>\n",
              "    <tr>\n",
              "      <th>2</th>\n",
              "      <td>27.499191</td>\n",
              "      <td>30.815401</td>\n",
              "      <td>94</td>\n",
              "      <td>25</td>\n",
              "    </tr>\n",
              "    <tr>\n",
              "      <th>3</th>\n",
              "      <td>22.185307</td>\n",
              "      <td>25.962273</td>\n",
              "      <td>106</td>\n",
              "      <td>75</td>\n",
              "    </tr>\n",
              "  </tbody>\n",
              "</table>\n",
              "</div>"
            ],
            "text/plain": [
              "              age            survived     \n",
              "sex        female       male   female male\n",
              "pclass                                    \n",
              "1       37.037594  41.029250      139   61\n",
              "2       27.499191  30.815401       94   25\n",
              "3       22.185307  25.962273      106   75"
            ]
          },
          "execution_count": 18,
          "metadata": {},
          "output_type": "execute_result"
        }
      ],
      "source": [
        "TDC"
      ]
    },
    {
      "cell_type": "code",
      "execution_count": null,
      "id": "9d614ff0",
      "metadata": {
        "id": "9d614ff0"
      },
      "outputs": [],
      "source": [
        "from pandas import ExcelWriter\n",
        "Ecrire = pd.ExcelWriter('Titanic_1.xlsx')\n",
        "Titanic.to_excel(Ecrire, sheet_name='x1')\n",
        "TDC.to_excel(Ecrire, sheet_name='x2')\n",
        "Ecrire.save()"
      ]
    },
    {
      "cell_type": "code",
      "execution_count": null,
      "id": "9e245049",
      "metadata": {
        "id": "9e245049"
      },
      "outputs": [],
      "source": [
        ""
      ]
    }
  ],
  "metadata": {
    "kernelspec": {
      "display_name": "Python 3",
      "language": "python",
      "name": "python3"
    },
    "language_info": {
      "codemirror_mode": {
        "name": "ipython",
        "version": 3
      },
      "file_extension": ".py",
      "mimetype": "text/x-python",
      "name": "python",
      "nbconvert_exporter": "python",
      "pygments_lexer": "ipython3",
      "version": "3.8.8"
    },
    "colab": {
      "name": "TCD Python to Excel Titanic.ipynb",
      "provenance": [],
      "include_colab_link": true
    }
  },
  "nbformat": 4,
  "nbformat_minor": 5
}