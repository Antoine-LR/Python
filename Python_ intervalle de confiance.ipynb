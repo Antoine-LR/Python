{
 "cells": [
  {
   "cell_type": "code",
   "execution_count": 1,
   "id": "cccac57d",
   "metadata": {},
   "outputs": [],
   "source": [
    "import math\n",
    "import io"
   ]
  },
  {
   "cell_type": "code",
   "execution_count": 2,
   "id": "e8952b86",
   "metadata": {},
   "outputs": [],
   "source": [
    "import numpy as np\n",
    "import pandas as pd\n",
    "\n",
    "import matplotlib.pyplot as plt\n",
    "\n",
    "%matplotlib inline"
   ]
  },
  {
   "cell_type": "code",
   "execution_count": 3,
   "id": "0c2984b1",
   "metadata": {},
   "outputs": [],
   "source": [
    "import scipy.stats"
   ]
  },
  {
   "cell_type": "code",
   "execution_count": 4,
   "id": "aa6c63b5",
   "metadata": {},
   "outputs": [],
   "source": [
    "def Echantillon(n):\n",
    "    return pd.DataFrame({'Valeur':np.random.randn(n)})"
   ]
  },
  {
   "cell_type": "code",
   "execution_count": 5,
   "id": "73b483ab",
   "metadata": {},
   "outputs": [],
   "source": [
    "data = Echantillon(10000)"
   ]
  },
  {
   "cell_type": "code",
   "execution_count": 7,
   "id": "77abb07e",
   "metadata": {},
   "outputs": [
    {
     "data": {
      "text/plain": [
       "<AxesSubplot:>"
      ]
     },
     "execution_count": 7,
     "metadata": {},
     "output_type": "execute_result"
    },
    {
     "data": {
      "image/png": "[encoded data removed]",
      "text/plain": [
       "<Figure size 432x288 with 1 Axes>"
      ]
     },
     "metadata": {
      "needs_background": "light"
     },
     "output_type": "display_data"
    }
   ],
   "source": [
    "data.Valeur.hist(histtype='step',bins=60)"
   ]
  },
  {
   "cell_type": "code",
   "execution_count": 9,
   "id": "1f858cef",
   "metadata": {},
   "outputs": [],
   "source": [
    "def quantiles (n=1000, alpha=0.05):\n",
    "    dist=Echantillon(n)\n",
    "    return dist.Valeur.quantile(alpha/2),dist.Valeur.quantile(1-(alpha/2))"
   ]
  },
  {
   "cell_type": "code",
   "execution_count": 11,
   "id": "3232f4f4",
   "metadata": {},
   "outputs": [
    {
     "data": {
      "text/plain": [
       "(-2.087363538612933, 2.1155834213506632)"
      ]
     },
     "execution_count": 11,
     "metadata": {},
     "output_type": "execute_result"
    }
   ],
   "source": [
    "quantiles()"
   ]
  },
  {
   "cell_type": "code",
   "execution_count": null,
   "id": "d86d86ab",
   "metadata": {},
   "outputs": [],
   "source": [
    "#intervalle de confiance"
   ]
  }
 ],
 "metadata": {
  "kernelspec": {
   "display_name": "Python 3",
   "language": "python",
   "name": "python3"
  },
  "language_info": {
   "codemirror_mode": {
    "name": "ipython",
    "version": 3
   },
   "file_extension": ".py",
   "mimetype": "text/x-python",
   "name": "python",
   "nbconvert_exporter": "python",
   "pygments_lexer": "ipython3",
   "version": "3.8.8"
  }
 },
 "nbformat": 4,
 "nbformat_minor": 5
}
