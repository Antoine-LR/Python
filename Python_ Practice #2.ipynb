{
 "cells": [
  {
   "cell_type": "code",
   "execution_count": 1,
   "id": "7b763120",
   "metadata": {},
   "outputs": [
    {
     "name": "stdout",
     "output_type": "stream",
     "text": [
      "100 5050\n"
     ]
    }
   ],
   "source": [
    "s=0\n",
    "for i in range(1,101):\n",
    "    s = i+s\n",
    "print(i,s)"
   ]
  },
  {
   "cell_type": "code",
   "execution_count": 2,
   "id": "7c49d534",
   "metadata": {},
   "outputs": [
    {
     "name": "stdout",
     "output_type": "stream",
     "text": [
      "99 2500\n"
     ]
    }
   ],
   "source": [
    "s=0\n",
    "for i in range(1,100,2):\n",
    "    s = i+s\n",
    "print(i,s)"
   ]
  },
  {
   "cell_type": "code",
   "execution_count": 3,
   "id": "463256d5",
   "metadata": {},
   "outputs": [
    {
     "name": "stdout",
     "output_type": "stream",
     "text": [
      "0.2 1\n",
      "0.4 2\n",
      "0.8 3\n",
      "1.6 4\n",
      "3.2 5\n",
      "6.4 6\n",
      "12.8 7\n",
      "25.6 8\n",
      "51.2 9\n",
      "102.4 10\n",
      "204.8 11\n",
      "409.6 12\n",
      "819.2 13\n",
      "1638.4 14\n",
      "3276.8 15\n",
      "6553.6 16\n",
      "13107.2 17\n",
      "26214.4 18\n",
      "52428.8 19\n",
      "104857.6 20\n",
      "209715.2 21\n",
      "419430.4 22\n",
      "22\n"
     ]
    }
   ],
   "source": [
    "ep=0.1\n",
    "p=0\n",
    "while ep <=324000:\n",
    "    p=p+1\n",
    "    ep = ep*2\n",
    "    print(ep,p)\n",
    "print(p)"
   ]
  },
  {
   "cell_type": "code",
   "execution_count": 4,
   "id": "d1583585",
   "metadata": {
    "scrolled": true
   },
   "outputs": [],
   "source": [
    "from random import *"
   ]
  },
  {
   "cell_type": "code",
   "execution_count": 5,
   "id": "e0b063c1",
   "metadata": {},
   "outputs": [
    {
     "name": "stdout",
     "output_type": "stream",
     "text": [
      "6 4\n",
      "a*b=?24\n",
      "bravo!\n"
     ]
    }
   ],
   "source": [
    "a = randint(0,10)\n",
    "b = randint(0,10)\n",
    "print(a,b)\n",
    "c = int(input(\"a*b=?\"))\n",
    "if a*b == c:\n",
    "    print(\"bravo!\")\n",
    "else:\n",
    "    print(\"faux\")"
   ]
  },
  {
   "cell_type": "code",
   "execution_count": null,
   "id": "d6cd6997",
   "metadata": {},
   "outputs": [],
   "source": []
  },
  {
   "cell_type": "code",
   "execution_count": null,
   "id": "9b790645",
   "metadata": {},
   "outputs": [],
   "source": []
  },
  {
   "cell_type": "code",
   "execution_count": null,
   "id": "36c986b1",
   "metadata": {},
   "outputs": [],
   "source": []
  }
 ],
 "metadata": {
  "kernelspec": {
   "display_name": "Python 3",
   "language": "python",
   "name": "python3"
  },
  "language_info": {
   "codemirror_mode": {
    "name": "ipython",
    "version": 3
   },
   "file_extension": ".py",
   "mimetype": "text/x-python",
   "name": "python",
   "nbconvert_exporter": "python",
   "pygments_lexer": "ipython3",
   "version": "3.8.8"
  }
 },
 "nbformat": 4,
 "nbformat_minor": 5
}
