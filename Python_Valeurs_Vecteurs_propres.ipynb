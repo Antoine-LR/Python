{
  "cells": [
    {
      "cell_type": "markdown",
      "metadata": {
        "id": "view-in-github",
        "colab_type": "text"
      },
      "source": [
        "<a href=\"https://colab.research.google.com/github/Wonderingleon/Python/blob/main/Python_Valeurs_Vecteurs_propres.ipynb\" target=\"_parent\"><img src=\"https://colab.research.google.com/assets/colab-badge.svg\" alt=\"Open In Colab\"/></a>"
      ]
    },
    {
      "cell_type": "code",
      "execution_count": null,
      "id": "09838ee4",
      "metadata": {
        "id": "09838ee4"
      },
      "outputs": [],
      "source": [
        "import numpy as np\n",
        "import numpy.linalg as la"
      ]
    },
    {
      "cell_type": "code",
      "execution_count": null,
      "id": "768cee01",
      "metadata": {
        "id": "768cee01",
        "outputId": "ba1649d1-9e35-41ab-8820-05ef6bbe1079"
      },
      "outputs": [
        {
          "data": {
            "text/plain": [
              "matrix([[4, 5],\n",
              "        [2, 3]])"
            ]
          },
          "execution_count": 6,
          "metadata": {},
          "output_type": "execute_result"
        }
      ],
      "source": [
        "Mat = np.matrix([[4,5],[2,3]])\n",
        "Mat"
      ]
    },
    {
      "cell_type": "code",
      "execution_count": null,
      "id": "8f58d6a7",
      "metadata": {
        "id": "8f58d6a7",
        "outputId": "dc54910a-4e15-488c-ae62-aeea6847e4a4"
      },
      "outputs": [
        {
          "data": {
            "text/plain": [
              "array([6.70156212, 0.29843788])"
            ]
          },
          "execution_count": 7,
          "metadata": {},
          "output_type": "execute_result"
        }
      ],
      "source": [
        "Val_p=la.eigvals(Mat)\n",
        "Val_p"
      ]
    },
    {
      "cell_type": "code",
      "execution_count": null,
      "id": "bae26695",
      "metadata": {
        "id": "bae26695"
      },
      "outputs": [],
      "source": [
        "Val_p, Vec_p=la.eig(Mat)"
      ]
    },
    {
      "cell_type": "code",
      "execution_count": null,
      "id": "ef538e75",
      "metadata": {
        "id": "ef538e75",
        "outputId": "8e5a4030-fe77-4dd9-c3a3-db315d8ec552"
      },
      "outputs": [
        {
          "data": {
            "text/plain": [
              "(matrix([[0.87979045],\n",
              "         [0.47536171]]),\n",
              " matrix([[-0.80372182],\n",
              "         [ 0.59500525]]))"
            ]
          },
          "execution_count": 11,
          "metadata": {},
          "output_type": "execute_result"
        }
      ],
      "source": [
        "Vec_1, Vec_2 = Vec_p[:,0],Vec_p[:,1]\n",
        "Vec_1,Vec_2"
      ]
    },
    {
      "cell_type": "code",
      "execution_count": null,
      "id": "2320dbb7",
      "metadata": {
        "id": "2320dbb7",
        "outputId": "08e6ae6d-b311-4420-b4c9-3e7417cd033b"
      },
      "outputs": [
        {
          "data": {
            "text/plain": [
              "(matrix([[-0.23986104],\n",
              "         [ 0.1775721 ]]),\n",
              " matrix([[-0.23986104],\n",
              "         [ 0.1775721 ]]))"
            ]
          },
          "execution_count": 12,
          "metadata": {},
          "output_type": "execute_result"
        }
      ],
      "source": [
        "Vec_2*Val_p[1],Mat*Vec_2"
      ]
    },
    {
      "cell_type": "code",
      "execution_count": null,
      "id": "fc8a087f",
      "metadata": {
        "id": "fc8a087f"
      },
      "outputs": [],
      "source": [
        ""
      ]
    }
  ],
  "metadata": {
    "kernelspec": {
      "display_name": "Python 3",
      "language": "python",
      "name": "python3"
    },
    "language_info": {
      "codemirror_mode": {
        "name": "ipython",
        "version": 3
      },
      "file_extension": ".py",
      "mimetype": "text/x-python",
      "name": "python",
      "nbconvert_exporter": "python",
      "pygments_lexer": "ipython3",
      "version": "3.8.8"
    },
    "colab": {
      "name": "Python Valeurs Vecteurs propres.ipynb",
      "provenance": [],
      "include_colab_link": true
    }
  },
  "nbformat": 4,
  "nbformat_minor": 5
}