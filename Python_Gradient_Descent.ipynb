{
  "cells": [
    {
      "cell_type": "markdown",
      "metadata": {
        "id": "view-in-github",
        "colab_type": "text"
      },
      "source": [
        "<a href=\"https://colab.research.google.com/github/Wonderingleon/Python/blob/main/Python_Gradient_Descent.ipynb\" target=\"_parent\"><img src=\"https://colab.research.google.com/assets/colab-badge.svg\" alt=\"Open In Colab\"/></a>"
      ]
    },
    {
      "cell_type": "code",
      "execution_count": null,
      "id": "2ad48439",
      "metadata": {
        "id": "2ad48439"
      },
      "outputs": [],
      "source": [
        "import matplotlib.pyplot as plt\n",
        "from pylab import *"
      ]
    },
    {
      "cell_type": "code",
      "execution_count": null,
      "id": "f53339ea",
      "metadata": {
        "id": "f53339ea",
        "outputId": "ae4a812c-abf7-4450-c26c-b005be478ee8"
      },
      "outputs": [
        {
          "data": {
            "image/png": "[encoded data removed]",
            "text/plain": [
              "<Figure size 432x288 with 1 Axes>"
            ]
          },
          "metadata": {
            "needs_background": "light"
          },
          "output_type": "display_data"
        }
      ],
      "source": [
        "x = linspace(0,2.5*pi, 100)\n",
        "y = (x-4)**2\n",
        "plot(x,y)\n",
        "plt.show()"
      ]
    },
    {
      "cell_type": "code",
      "execution_count": null,
      "id": "ab71e5ed",
      "metadata": {
        "id": "ab71e5ed"
      },
      "outputs": [],
      "source": [
        "x_init = 1\n",
        "x_cour = x_init\n",
        "taux = 0.3\n",
        "precision = 0.000001\n",
        "ecart_etape = 1\n",
        "max_iter= 10000\n",
        "iter_c = 0\n",
        "grad = lambda x: 2*(x-4)"
      ]
    },
    {
      "cell_type": "code",
      "execution_count": null,
      "id": "1bc520a4",
      "metadata": {
        "id": "1bc520a4",
        "outputId": "b4c937b4-9077-4f8f-b939-a7f2c83c73e5"
      },
      "outputs": [
        {
          "name": "stdout",
          "output_type": "stream",
          "text": [
            "Iteration 1 \n",
            " La valeur de X est 2.8\n",
            "Iteration 2 \n",
            " La valeur de X est 3.52\n",
            "Iteration 3 \n",
            " La valeur de X est 3.808\n",
            "Iteration 4 \n",
            " La valeur de X est 3.9232\n",
            "Iteration 5 \n",
            " La valeur de X est 3.96928\n",
            "Iteration 6 \n",
            " La valeur de X est 3.987712\n",
            "Iteration 7 \n",
            " La valeur de X est 3.9950848\n",
            "Iteration 8 \n",
            " La valeur de X est 3.99803392\n",
            "Iteration 9 \n",
            " La valeur de X est 3.999213568\n",
            "Iteration 10 \n",
            " La valeur de X est 3.9996854272\n",
            "Iteration 11 \n",
            " La valeur de X est 3.99987417088\n",
            "Iteration 12 \n",
            " La valeur de X est 3.999949668352\n",
            "Iteration 13 \n",
            " La valeur de X est 3.9999798673408\n",
            "Iteration 14 \n",
            " La valeur de X est 3.99999194693632\n",
            "Iteration 15 \n",
            " La valeur de X est 3.999996778774528\n",
            "Iteration 16 \n",
            " La valeur de X est 3.9999987115098112\n",
            "Iteration 17 \n",
            " La valeur de X est 3.9999994846039244\n",
            "Le minimum est atteint en X= 3.9999994846039244\n"
          ]
        }
      ],
      "source": [
        "while ecart_etape > precision and iter_c < max_iter:\n",
        "    x_prec = x_cour\n",
        "    x_cour = x_cour - taux * grad(x_prec)\n",
        "    ecart_etape = abs(x_cour - x_prec) #change in x\n",
        "    iter_c = iter_c +1 #iteration count\n",
        "    print(\"Iteration\",iter_c,\"\\n La valeur de X est\",x_cour) #print iterations\n",
        "print(\"Le minimum est atteint en X=\", x_cour)"
      ]
    },
    {
      "cell_type": "code",
      "execution_count": null,
      "id": "b5be675b",
      "metadata": {
        "id": "b5be675b",
        "outputId": "7460105c-8c01-4022-b9e3-818dd976621b"
      },
      "outputs": [
        {
          "data": {
            "image/png": "[encoded data removed]",
            "text/plain": [
              "<Figure size 432x288 with 1 Axes>"
            ]
          },
          "metadata": {
            "needs_background": "light"
          },
          "output_type": "display_data"
        }
      ],
      "source": [
        "x = linspace(0,2.5*pi, 100)\n",
        "y = (x-4)**2\n",
        "y_init = (x_init- 4)**2\n",
        "y_cour = (x_cour- 4)**2\n",
        "plot(x_init,y_init,'go')\n",
        "plot(x_cour,y_cour,'ro')\n",
        "plot(x,y)\n",
        "plt.show()"
      ]
    },
    {
      "cell_type": "code",
      "execution_count": null,
      "id": "0d860484",
      "metadata": {
        "id": "0d860484"
      },
      "outputs": [],
      "source": [
        ""
      ]
    }
  ],
  "metadata": {
    "kernelspec": {
      "display_name": "Python 3",
      "language": "python",
      "name": "python3"
    },
    "language_info": {
      "codemirror_mode": {
        "name": "ipython",
        "version": 3
      },
      "file_extension": ".py",
      "mimetype": "text/x-python",
      "name": "python",
      "nbconvert_exporter": "python",
      "pygments_lexer": "ipython3",
      "version": "3.8.8"
    },
    "colab": {
      "name": "Python Gradient Descent.ipynb",
      "provenance": [],
      "include_colab_link": true
    }
  },
  "nbformat": 4,
  "nbformat_minor": 5
}