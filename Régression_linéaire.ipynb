{
  "cells": [
    {
      "cell_type": "markdown",
      "metadata": {
        "id": "view-in-github",
        "colab_type": "text"
      },
      "source": [
        "<a href=\"https://colab.research.google.com/github/Wonderingleon/Knn/blob/main/R%C3%A9gression_lin%C3%A9aire.ipynb\" target=\"_parent\"><img src=\"https://colab.research.google.com/assets/colab-badge.svg\" alt=\"Open In Colab\"/></a>"
      ]
    },
    {
      "cell_type": "code",
      "execution_count": null,
      "id": "d8a4f527",
      "metadata": {
        "id": "d8a4f527"
      },
      "outputs": [],
      "source": [
        "import matplotlib.pyplot as plt\n",
        "import numpy as np\n",
        "from sklearn import datasets"
      ]
    },
    {
      "cell_type": "code",
      "execution_count": null,
      "id": "70ab6555",
      "metadata": {
        "id": "70ab6555"
      },
      "outputs": [],
      "source": [
        "x = np.random.rand(50)"
      ]
    },
    {
      "cell_type": "code",
      "execution_count": null,
      "id": "d251a062",
      "metadata": {
        "id": "d251a062"
      },
      "outputs": [],
      "source": [
        "y = 7 * x -3 + np.random.rand(50)"
      ]
    },
    {
      "cell_type": "code",
      "execution_count": null,
      "id": "7b749d15",
      "metadata": {
        "id": "7b749d15",
        "outputId": "e5ccb127-ca09-453f-8d14-21dd4825ff05"
      },
      "outputs": [
        {
          "data": {
            "text/plain": [
              "<matplotlib.collections.PathCollection at 0x224dc5a8cd0>"
            ]
          },
          "execution_count": 4,
          "metadata": {},
          "output_type": "execute_result"
        },
        {
          "data": {
            "image/png": "[encoded data removed]",
            "text/plain": [
              "<Figure size 432x288 with 1 Axes>"
            ]
          },
          "metadata": {
            "needs_background": "light"
          },
          "output_type": "display_data"
        }
      ],
      "source": [
        "plt.scatter (x,y)"
      ]
    },
    {
      "cell_type": "code",
      "execution_count": null,
      "id": "807a24a6",
      "metadata": {
        "id": "807a24a6",
        "outputId": "73769e57-0ab5-4a41-d0c4-0832953ac31f"
      },
      "outputs": [
        {
          "data": {
            "text/plain": [
              "[<matplotlib.lines.Line2D at 0x224dcf6abe0>]"
            ]
          },
          "execution_count": 5,
          "metadata": {},
          "output_type": "execute_result"
        },
        {
          "data": {
            "image/png": "[encoded data removed]",
            "text/plain": [
              "<Figure size 432x288 with 1 Axes>"
            ]
          },
          "metadata": {
            "needs_background": "light"
          },
          "output_type": "display_data"
        }
      ],
      "source": [
        "from sklearn import linear_model\n",
        "linreg = linear_model.LinearRegression()\n",
        "linreg.fit(x [: ,np.newaxis], y)\n",
        "xfit = np.linspace(0,1,10)\n",
        "yfit= linreg.predict(xfit[:, np.newaxis])\n",
        "plt.scatter(x,y)\n",
        "plt.plot(xfit,yfit)"
      ]
    },
    {
      "cell_type": "code",
      "execution_count": null,
      "id": "e9ade4cf",
      "metadata": {
        "id": "e9ade4cf",
        "outputId": "20937890-42bf-4c94-b50e-ec3bba8ff068"
      },
      "outputs": [
        {
          "name": "stdout",
          "output_type": "stream",
          "text": [
            "Pente: 7.111475302461815\n",
            "Ordonné à l'origine -2.5550979351470033\n"
          ]
        }
      ],
      "source": [
        "print (\"Pente:\", linreg.coef_[0])\n",
        "print(\"Ordonné à l'origine\", linreg.intercept_)"
      ]
    },
    {
      "cell_type": "code",
      "execution_count": null,
      "id": "83345f5b",
      "metadata": {
        "id": "83345f5b"
      },
      "outputs": [],
      "source": [
        "Diabètes = datasets.load_diabetes()"
      ]
    },
    {
      "cell_type": "code",
      "execution_count": null,
      "id": "49d2ed93",
      "metadata": {
        "id": "49d2ed93",
        "outputId": "ed6641ae-5677-4ea8-ef89-84ba40f12838"
      },
      "outputs": [
        {
          "data": {
            "text/plain": [
              "['age', 'sex', 'bmi', 'bp', 's1', 's2', 's3', 's4', 's5', 's6']"
            ]
          },
          "execution_count": 9,
          "metadata": {},
          "output_type": "execute_result"
        }
      ],
      "source": [
        "Diabètes.feature_names"
      ]
    },
    {
      "cell_type": "code",
      "execution_count": null,
      "id": "009a2ff4",
      "metadata": {
        "id": "009a2ff4",
        "outputId": "91839aca-5588-4eed-abaf-073ea85ab14f"
      },
      "outputs": [
        {
          "data": {
            "text/plain": [
              "array([ 0.03807591,  0.05068012,  0.06169621,  0.02187235, -0.0442235 ,\n",
              "       -0.03482076, -0.04340085, -0.00259226,  0.01990842, -0.01764613])"
            ]
          },
          "execution_count": 12,
          "metadata": {},
          "output_type": "execute_result"
        }
      ],
      "source": [
        "Diabètes.data[0]"
      ]
    },
    {
      "cell_type": "code",
      "execution_count": null,
      "id": "99523c17",
      "metadata": {
        "id": "99523c17",
        "outputId": "99201998-c2e2-4497-efbd-7e1e2858de32"
      },
      "outputs": [
        {
          "data": {
            "text/plain": [
              "array([151.,  75., 141., 206., 135.,  97., 138.,  63., 110., 310., 101.,\n",
              "        69., 179., 185., 118., 171., 166., 144.,  97., 168.,  68.,  49.,\n",
              "        68., 245., 184., 202., 137.,  85., 131., 283., 129.,  59., 341.,\n",
              "        87.,  65., 102., 265., 276., 252.,  90., 100.,  55.,  61.,  92.,\n",
              "       259.,  53., 190., 142.,  75., 142., 155., 225.,  59., 104., 182.,\n",
              "       128.,  52.,  37., 170., 170.,  61., 144.,  52., 128.,  71., 163.,\n",
              "       150.,  97., 160., 178.,  48., 270., 202., 111.,  85.,  42., 170.,\n",
              "       200., 252., 113., 143.,  51.,  52., 210.,  65., 141.,  55., 134.,\n",
              "        42., 111.,  98., 164.,  48.,  96.,  90., 162., 150., 279.,  92.,\n",
              "        83., 128., 102., 302., 198.,  95.,  53., 134., 144., 232.,  81.,\n",
              "       104.,  59., 246., 297., 258., 229., 275., 281., 179., 200., 200.,\n",
              "       173., 180.,  84., 121., 161.,  99., 109., 115., 268., 274., 158.,\n",
              "       107.,  83., 103., 272.,  85., 280., 336., 281., 118., 317., 235.,\n",
              "        60., 174., 259., 178., 128.,  96., 126., 288.,  88., 292.,  71.,\n",
              "       197., 186.,  25.,  84.,  96., 195.,  53., 217., 172., 131., 214.,\n",
              "        59.,  70., 220., 268., 152.,  47.,  74., 295., 101., 151., 127.,\n",
              "       237., 225.,  81., 151., 107.,  64., 138., 185., 265., 101., 137.,\n",
              "       143., 141.,  79., 292., 178.,  91., 116.,  86., 122.,  72., 129.,\n",
              "       142.,  90., 158.,  39., 196., 222., 277.,  99., 196., 202., 155.,\n",
              "        77., 191.,  70.,  73.,  49.,  65., 263., 248., 296., 214., 185.,\n",
              "        78.,  93., 252., 150.,  77., 208.,  77., 108., 160.,  53., 220.,\n",
              "       154., 259.,  90., 246., 124.,  67.,  72., 257., 262., 275., 177.,\n",
              "        71.,  47., 187., 125.,  78.,  51., 258., 215., 303., 243.,  91.,\n",
              "       150., 310., 153., 346.,  63.,  89.,  50.,  39., 103., 308., 116.,\n",
              "       145.,  74.,  45., 115., 264.,  87., 202., 127., 182., 241.,  66.,\n",
              "        94., 283.,  64., 102., 200., 265.,  94., 230., 181., 156., 233.,\n",
              "        60., 219.,  80.,  68., 332., 248.,  84., 200.,  55.,  85.,  89.,\n",
              "        31., 129.,  83., 275.,  65., 198., 236., 253., 124.,  44., 172.,\n",
              "       114., 142., 109., 180., 144., 163., 147.,  97., 220., 190., 109.,\n",
              "       191., 122., 230., 242., 248., 249., 192., 131., 237.,  78., 135.,\n",
              "       244., 199., 270., 164.,  72.,  96., 306.,  91., 214.,  95., 216.,\n",
              "       263., 178., 113., 200., 139., 139.,  88., 148.,  88., 243.,  71.,\n",
              "        77., 109., 272.,  60.,  54., 221.,  90., 311., 281., 182., 321.,\n",
              "        58., 262., 206., 233., 242., 123., 167.,  63., 197.,  71., 168.,\n",
              "       140., 217., 121., 235., 245.,  40.,  52., 104., 132.,  88.,  69.,\n",
              "       219.,  72., 201., 110.,  51., 277.,  63., 118.,  69., 273., 258.,\n",
              "        43., 198., 242., 232., 175.,  93., 168., 275., 293., 281.,  72.,\n",
              "       140., 189., 181., 209., 136., 261., 113., 131., 174., 257.,  55.,\n",
              "        84.,  42., 146., 212., 233.,  91., 111., 152., 120.,  67., 310.,\n",
              "        94., 183.,  66., 173.,  72.,  49.,  64.,  48., 178., 104., 132.,\n",
              "       220.,  57.])"
            ]
          },
          "execution_count": 13,
          "metadata": {},
          "output_type": "execute_result"
        }
      ],
      "source": [
        "Diabètes.target"
      ]
    },
    {
      "cell_type": "code",
      "execution_count": null,
      "id": "a34619d5",
      "metadata": {
        "id": "a34619d5"
      },
      "outputs": [],
      "source": [
        "x_appr = Diabètes.data[:-20]\n",
        "y_appr = Diabètes.target[:-20]"
      ]
    },
    {
      "cell_type": "code",
      "execution_count": null,
      "id": "336aa006",
      "metadata": {
        "id": "336aa006"
      },
      "outputs": [],
      "source": [
        "x_test = Diabètes.data[-20:]\n",
        "y_test = Diabètes.target[-20:]"
      ]
    },
    {
      "cell_type": "code",
      "execution_count": null,
      "id": "04fe3fe0",
      "metadata": {
        "id": "04fe3fe0",
        "outputId": "bc005ea7-2001-4750-faef-d805e8afab7b"
      },
      "outputs": [
        {
          "data": {
            "text/plain": [
              "LinearRegression()"
            ]
          },
          "execution_count": 24,
          "metadata": {},
          "output_type": "execute_result"
        }
      ],
      "source": [
        "linreg.fit(x_appr, y_appr)"
      ]
    },
    {
      "cell_type": "code",
      "execution_count": null,
      "id": "3eab3915",
      "metadata": {
        "id": "3eab3915",
        "outputId": "155cb297-1b86-4f1e-93a7-a0b650758409"
      },
      "outputs": [
        {
          "data": {
            "text/plain": [
              "array([197.61846908, 155.43979328, 172.88665147, 111.53537279,\n",
              "       164.80054784, 131.06954875, 259.12237761, 100.47935157,\n",
              "       117.0601052 , 124.30503555, 218.36632793,  61.19831284,\n",
              "       132.25046751, 120.3332925 ,  52.54458691, 194.03798088,\n",
              "       102.57139702, 123.56604987, 211.0346317 ,  52.60335674])"
            ]
          },
          "execution_count": 25,
          "metadata": {},
          "output_type": "execute_result"
        }
      ],
      "source": [
        "linreg.predict(x_test)"
      ]
    },
    {
      "cell_type": "code",
      "execution_count": null,
      "id": "d47503ad",
      "metadata": {
        "id": "d47503ad",
        "outputId": "ee40b784-3d49-400e-c892-da536bf0cab7"
      },
      "outputs": [
        {
          "data": {
            "text/plain": [
              "array([233.,  91., 111., 152., 120.,  67., 310.,  94., 183.,  66., 173.,\n",
              "        72.,  49.,  64.,  48., 178., 104., 132., 220.,  57.])"
            ]
          },
          "execution_count": 26,
          "metadata": {},
          "output_type": "execute_result"
        }
      ],
      "source": [
        "y_test"
      ]
    },
    {
      "cell_type": "markdown",
      "id": "4e738eb8",
      "metadata": {
        "id": "4e738eb8"
      },
      "source": [
        "Resultat"
      ]
    },
    {
      "cell_type": "code",
      "execution_count": null,
      "id": "57047b1f",
      "metadata": {
        "id": "57047b1f",
        "outputId": "48364edf-279a-475e-ac43-aa00c4ddb2fc"
      },
      "outputs": [
        {
          "data": {
            "text/plain": [
              "0.5850753022690574"
            ]
          },
          "execution_count": 28,
          "metadata": {},
          "output_type": "execute_result"
        }
      ],
      "source": [
        " linreg.score(x_test,y_test)"
      ]
    },
    {
      "cell_type": "code",
      "execution_count": null,
      "id": "50d06fb0",
      "metadata": {
        "id": "50d06fb0"
      },
      "outputs": [],
      "source": [
        "x0_test = x_test[:,2]\n",
        "x0_appr = x_appr[:,2]\n",
        "x0_test = x0_test[:,np.newaxis]\n",
        "x0_appr = x0_appr[:,np.newaxis]"
      ]
    },
    {
      "cell_type": "code",
      "execution_count": null,
      "id": "a33c5dae",
      "metadata": {
        "id": "a33c5dae",
        "outputId": "c2ecd9c1-832d-48dc-b794-d56bf00445a5"
      },
      "outputs": [
        {
          "data": {
            "text/plain": [
              "LinearRegression()"
            ]
          },
          "execution_count": 31,
          "metadata": {},
          "output_type": "execute_result"
        }
      ],
      "source": [
        "linreg.fit(x0_appr, y_appr)"
      ]
    },
    {
      "cell_type": "code",
      "execution_count": null,
      "id": "8b36c907",
      "metadata": {
        "id": "8b36c907"
      },
      "outputs": [],
      "source": [
        "y = linreg.predict(x0_test)"
      ]
    },
    {
      "cell_type": "code",
      "execution_count": null,
      "id": "5e44f262",
      "metadata": {
        "id": "5e44f262",
        "outputId": "651c4bb3-3872-4aba-de8c-7ffd6285c50f"
      },
      "outputs": [
        {
          "data": {
            "text/plain": [
              "[<matplotlib.lines.Line2D at 0x224de12fa00>]"
            ]
          },
          "execution_count": 35,
          "metadata": {},
          "output_type": "execute_result"
        },
        {
          "data": {
            "image/png": "[encoded data removed]",
            "text/plain": [
              "<Figure size 432x288 with 1 Axes>"
            ]
          },
          "metadata": {
            "needs_background": "light"
          },
          "output_type": "display_data"
        }
      ],
      "source": [
        "plt.scatter(x0_test, y_test, color='r')\n",
        "plt.plot(x0_test,y, color='b', linewidth=4)"
      ]
    },
    {
      "cell_type": "code",
      "execution_count": null,
      "id": "0417861d",
      "metadata": {
        "id": "0417861d"
      },
      "outputs": [],
      "source": [
        ""
      ]
    }
  ],
  "metadata": {
    "kernelspec": {
      "display_name": "Python 3",
      "language": "python",
      "name": "python3"
    },
    "language_info": {
      "codemirror_mode": {
        "name": "ipython",
        "version": 3
      },
      "file_extension": ".py",
      "mimetype": "text/x-python",
      "name": "python",
      "nbconvert_exporter": "python",
      "pygments_lexer": "ipython3",
      "version": "3.8.8"
    },
    "colab": {
      "name": "Régression linéaire.ipynb",
      "provenance": [],
      "include_colab_link": true
    }
  },
  "nbformat": 4,
  "nbformat_minor": 5
}