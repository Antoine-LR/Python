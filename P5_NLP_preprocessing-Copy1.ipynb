{
 "cells": [
  {
   "attachments": {
    "t%C3%A9l%C3%A9chargement.png": {
     "image/png": "[encoded data removed]"
    }
   },
   "cell_type": "markdown",
   "metadata": {},
   "source": [
    "![t%C3%A9l%C3%A9chargement.png](attachment:t%C3%A9l%C3%A9chargement.png)"
   ]
  },
  {
   "cell_type": "markdown",
   "metadata": {},
   "source": [
    "# Compréhension des données"
   ]
  },
  {
   "cell_type": "code",
   "execution_count": 1,
   "metadata": {},
   "outputs": [
    {
     "name": "stderr",
     "output_type": "stream",
     "text": [
      "[nltk_data] Downloading package stopwords to\n",
      "[nltk_data]     C:\\Users\\perso\\AppData\\Roaming\\nltk_data...\n",
      "[nltk_data]   Package stopwords is already up-to-date!\n",
      "[nltk_data] Downloading package wordnet to\n",
      "[nltk_data]     C:\\Users\\perso\\AppData\\Roaming\\nltk_data...\n",
      "[nltk_data]   Package wordnet is already up-to-date!\n"
     ]
    },
    {
     "data": {
      "text/plain": [
       "True"
      ]
     },
     "execution_count": 1,
     "metadata": {},
     "output_type": "execute_result"
    }
   ],
   "source": [
    "import warnings\n",
    "warnings.filterwarnings(\"ignore\")\n",
    "\n",
    "import pandas as pd\n",
    "import numpy as np\n",
    "import matplotlib.pyplot as plt\n",
    "import seaborn as sns\n",
    "import re\n",
    "from collections import defaultdict, Counter\n",
    "import nltk\n",
    "from nltk.corpus import stopwords\n",
    "from nltk.stem import WordNetLemmatizer\n",
    "from nltk.tokenize import word_tokenize\n",
    "import string\n",
    "from wordcloud import WordCloud, STOPWORDS\n",
    "import gc\n",
    "from langdetect import detect\n",
    "\n",
    "# Download the required NLTK data\n",
    "nltk.download('stopwords')\n",
    "nltk.download('wordnet')"
   ]
  },
  {
   "cell_type": "code",
   "execution_count": 2,
   "metadata": {},
   "outputs": [
    {
     "name": "stdout",
     "output_type": "stream",
     "text": [
      "(50000, 8)\n"
     ]
    }
   ],
   "source": [
    "df = pd.read_csv(\"QueryResults.csv\")\n",
    "print(df.shape)"
   ]
  },
  {
   "cell_type": "code",
   "execution_count": 3,
   "metadata": {},
   "outputs": [
    {
     "data": {
      "text/html": [
       "<div>\n",
       "<style scoped>\n",
       "    .dataframe tbody tr th:only-of-type {\n",
       "        vertical-align: middle;\n",
       "    }\n",
       "\n",
       "    .dataframe tbody tr th {\n",
       "        vertical-align: top;\n",
       "    }\n",
       "\n",
       "    .dataframe thead th {\n",
       "        text-align: right;\n",
       "    }\n",
       "</style>\n",
       "<table border=\"1\" class=\"dataframe\">\n",
       "  <thead>\n",
       "    <tr style=\"text-align: right;\">\n",
       "      <th></th>\n",
       "      <th>Title</th>\n",
       "      <th>Body</th>\n",
       "      <th>Tags</th>\n",
       "      <th>Id</th>\n",
       "      <th>Score</th>\n",
       "      <th>ViewCount</th>\n",
       "      <th>FavoriteCount</th>\n",
       "      <th>AnswerCount</th>\n",
       "    </tr>\n",
       "  </thead>\n",
       "  <tbody>\n",
       "    <tr>\n",
       "      <th>0</th>\n",
       "      <td>Making a particle follow a path in spriteKit</td>\n",
       "      <td>&lt;p&gt;I have created a particle and when I test i...</td>\n",
       "      <td>&lt;ios&gt;&lt;iphone&gt;&lt;ipad&gt;&lt;sprite-kit&gt;&lt;skemitternode&gt;</td>\n",
       "      <td>18986098</td>\n",
       "      <td>17</td>\n",
       "      <td>6492</td>\n",
       "      <td>0.0</td>\n",
       "      <td>1</td>\n",
       "    </tr>\n",
       "    <tr>\n",
       "      <th>1</th>\n",
       "      <td>How to find the cause of a malloc \"double free...</td>\n",
       "      <td>&lt;p&gt;I'm programming an application in Objective...</td>\n",
       "      <td>&lt;iphone&gt;&lt;objective-c&gt;&lt;memory-management&gt;&lt;mallo...</td>\n",
       "      <td>971249</td>\n",
       "      <td>82</td>\n",
       "      <td>79057</td>\n",
       "      <td>0.0</td>\n",
       "      <td>13</td>\n",
       "    </tr>\n",
       "    <tr>\n",
       "      <th>2</th>\n",
       "      <td>Handling the window closing event with WPF / M...</td>\n",
       "      <td>&lt;p&gt;I'd like to handle the &lt;code&gt;Closing&lt;/code&gt;...</td>\n",
       "      <td>&lt;c#&gt;&lt;wpf&gt;&lt;xaml&gt;&lt;mvvm&gt;&lt;mvvm-light&gt;</td>\n",
       "      <td>3683450</td>\n",
       "      <td>157</td>\n",
       "      <td>231366</td>\n",
       "      <td>0.0</td>\n",
       "      <td>14</td>\n",
       "    </tr>\n",
       "    <tr>\n",
       "      <th>3</th>\n",
       "      <td>SessionTimeout: web.xml vs session.maxInactive...</td>\n",
       "      <td>&lt;p&gt;I'm trying to timeout an &lt;em&gt;HttpSession&lt;/e...</td>\n",
       "      <td>&lt;java&gt;&lt;session&gt;&lt;servlets&gt;&lt;weblogic&gt;&lt;session-ti...</td>\n",
       "      <td>3118968</td>\n",
       "      <td>65</td>\n",
       "      <td>113655</td>\n",
       "      <td>0.0</td>\n",
       "      <td>2</td>\n",
       "    </tr>\n",
       "    <tr>\n",
       "      <th>4</th>\n",
       "      <td>Getting GDB to save a list of breakpoints</td>\n",
       "      <td>&lt;p&gt;OK, &lt;em&gt;&lt;a href=\"https://sourceware.org/gdb...</td>\n",
       "      <td>&lt;c++&gt;&lt;c&gt;&lt;debugging&gt;&lt;gdb&gt;&lt;breakpoints&gt;</td>\n",
       "      <td>501486</td>\n",
       "      <td>146</td>\n",
       "      <td>51459</td>\n",
       "      <td>0.0</td>\n",
       "      <td>11</td>\n",
       "    </tr>\n",
       "  </tbody>\n",
       "</table>\n",
       "</div>"
      ],
      "text/plain": [
       "                                               Title  \\\n",
       "0       Making a particle follow a path in spriteKit   \n",
       "1  How to find the cause of a malloc \"double free...   \n",
       "2  Handling the window closing event with WPF / M...   \n",
       "3  SessionTimeout: web.xml vs session.maxInactive...   \n",
       "4          Getting GDB to save a list of breakpoints   \n",
       "\n",
       "                                                Body  \\\n",
       "0  <p>I have created a particle and when I test i...   \n",
       "1  <p>I'm programming an application in Objective...   \n",
       "2  <p>I'd like to handle the <code>Closing</code>...   \n",
       "3  <p>I'm trying to timeout an <em>HttpSession</e...   \n",
       "4  <p>OK, <em><a href=\"https://sourceware.org/gdb...   \n",
       "\n",
       "                                                Tags        Id  Score  \\\n",
       "0     <ios><iphone><ipad><sprite-kit><skemitternode>  18986098     17   \n",
       "1  <iphone><objective-c><memory-management><mallo...    971249     82   \n",
       "2                  <c#><wpf><xaml><mvvm><mvvm-light>   3683450    157   \n",
       "3  <java><session><servlets><weblogic><session-ti...   3118968     65   \n",
       "4              <c++><c><debugging><gdb><breakpoints>    501486    146   \n",
       "\n",
       "   ViewCount  FavoriteCount  AnswerCount  \n",
       "0       6492            0.0            1  \n",
       "1      79057            0.0           13  \n",
       "2     231366            0.0           14  \n",
       "3     113655            0.0            2  \n",
       "4      51459            0.0           11  "
      ]
     },
     "execution_count": 3,
     "metadata": {},
     "output_type": "execute_result"
    }
   ],
   "source": [
    "df.head()"
   ]
  },
  {
   "cell_type": "code",
   "execution_count": 4,
   "metadata": {},
   "outputs": [
    {
     "name": "stdout",
     "output_type": "stream",
     "text": [
      "<class 'pandas.core.frame.DataFrame'>\n",
      "RangeIndex: 50000 entries, 0 to 49999\n",
      "Data columns (total 8 columns):\n",
      " #   Column         Non-Null Count  Dtype  \n",
      "---  ------         --------------  -----  \n",
      " 0   Title          50000 non-null  object \n",
      " 1   Body           50000 non-null  object \n",
      " 2   Tags           50000 non-null  object \n",
      " 3   Id             50000 non-null  int64  \n",
      " 4   Score          50000 non-null  int64  \n",
      " 5   ViewCount      50000 non-null  int64  \n",
      " 6   FavoriteCount  43480 non-null  float64\n",
      " 7   AnswerCount    50000 non-null  int64  \n",
      "dtypes: float64(1), int64(4), object(3)\n",
      "memory usage: 3.1+ MB\n"
     ]
    }
   ],
   "source": [
    "df.info()"
   ]
  },
  {
   "cell_type": "code",
   "execution_count": 5,
   "metadata": {},
   "outputs": [
    {
     "data": {
      "text/plain": [
       "Title            50000\n",
       "Body             50000\n",
       "Tags             49090\n",
       "Id               50000\n",
       "Score              737\n",
       "ViewCount        27428\n",
       "FavoriteCount        3\n",
       "AnswerCount         65\n",
       "dtype: int64"
      ]
     },
     "execution_count": 5,
     "metadata": {},
     "output_type": "execute_result"
    }
   ],
   "source": [
    "df.nunique()"
   ]
  },
  {
   "cell_type": "code",
   "execution_count": 6,
   "metadata": {},
   "outputs": [],
   "source": [
    "# copy\n",
    "data = df.copy()"
   ]
  },
  {
   "cell_type": "markdown",
   "metadata": {},
   "source": [
    "## Prétraitement du texte"
   ]
  },
  {
   "cell_type": "code",
   "execution_count": 7,
   "metadata": {},
   "outputs": [
    {
     "data": {
      "text/html": [
       "<div>\n",
       "<style scoped>\n",
       "    .dataframe tbody tr th:only-of-type {\n",
       "        vertical-align: middle;\n",
       "    }\n",
       "\n",
       "    .dataframe tbody tr th {\n",
       "        vertical-align: top;\n",
       "    }\n",
       "\n",
       "    .dataframe thead th {\n",
       "        text-align: right;\n",
       "    }\n",
       "</style>\n",
       "<table border=\"1\" class=\"dataframe\">\n",
       "  <thead>\n",
       "    <tr style=\"text-align: right;\">\n",
       "      <th></th>\n",
       "      <th>Title</th>\n",
       "      <th>Body</th>\n",
       "      <th>Tags</th>\n",
       "    </tr>\n",
       "  </thead>\n",
       "  <tbody>\n",
       "    <tr>\n",
       "      <th>0</th>\n",
       "      <td>Making a particle follow a path in spriteKit</td>\n",
       "      <td>&lt;p&gt;I have created a particle and when I test i...</td>\n",
       "      <td>&lt;ios&gt;&lt;iphone&gt;&lt;ipad&gt;&lt;sprite-kit&gt;&lt;skemitternode&gt;</td>\n",
       "    </tr>\n",
       "    <tr>\n",
       "      <th>1</th>\n",
       "      <td>How to find the cause of a malloc \"double free...</td>\n",
       "      <td>&lt;p&gt;I'm programming an application in Objective...</td>\n",
       "      <td>&lt;iphone&gt;&lt;objective-c&gt;&lt;memory-management&gt;&lt;mallo...</td>\n",
       "    </tr>\n",
       "    <tr>\n",
       "      <th>2</th>\n",
       "      <td>Handling the window closing event with WPF / M...</td>\n",
       "      <td>&lt;p&gt;I'd like to handle the &lt;code&gt;Closing&lt;/code&gt;...</td>\n",
       "      <td>&lt;c#&gt;&lt;wpf&gt;&lt;xaml&gt;&lt;mvvm&gt;&lt;mvvm-light&gt;</td>\n",
       "    </tr>\n",
       "    <tr>\n",
       "      <th>3</th>\n",
       "      <td>SessionTimeout: web.xml vs session.maxInactive...</td>\n",
       "      <td>&lt;p&gt;I'm trying to timeout an &lt;em&gt;HttpSession&lt;/e...</td>\n",
       "      <td>&lt;java&gt;&lt;session&gt;&lt;servlets&gt;&lt;weblogic&gt;&lt;session-ti...</td>\n",
       "    </tr>\n",
       "    <tr>\n",
       "      <th>4</th>\n",
       "      <td>Getting GDB to save a list of breakpoints</td>\n",
       "      <td>&lt;p&gt;OK, &lt;em&gt;&lt;a href=\"https://sourceware.org/gdb...</td>\n",
       "      <td>&lt;c++&gt;&lt;c&gt;&lt;debugging&gt;&lt;gdb&gt;&lt;breakpoints&gt;</td>\n",
       "    </tr>\n",
       "  </tbody>\n",
       "</table>\n",
       "</div>"
      ],
      "text/plain": [
       "                                               Title  \\\n",
       "0       Making a particle follow a path in spriteKit   \n",
       "1  How to find the cause of a malloc \"double free...   \n",
       "2  Handling the window closing event with WPF / M...   \n",
       "3  SessionTimeout: web.xml vs session.maxInactive...   \n",
       "4          Getting GDB to save a list of breakpoints   \n",
       "\n",
       "                                                Body  \\\n",
       "0  <p>I have created a particle and when I test i...   \n",
       "1  <p>I'm programming an application in Objective...   \n",
       "2  <p>I'd like to handle the <code>Closing</code>...   \n",
       "3  <p>I'm trying to timeout an <em>HttpSession</e...   \n",
       "4  <p>OK, <em><a href=\"https://sourceware.org/gdb...   \n",
       "\n",
       "                                                Tags  \n",
       "0     <ios><iphone><ipad><sprite-kit><skemitternode>  \n",
       "1  <iphone><objective-c><memory-management><mallo...  \n",
       "2                  <c#><wpf><xaml><mvvm><mvvm-light>  \n",
       "3  <java><session><servlets><weblogic><session-ti...  \n",
       "4              <c++><c><debugging><gdb><breakpoints>  "
      ]
     },
     "execution_count": 7,
     "metadata": {},
     "output_type": "execute_result"
    }
   ],
   "source": [
    "data = data[['Title', 'Body', 'Tags']]\n",
    "data.head()"
   ]
  },
  {
   "cell_type": "code",
   "execution_count": 8,
   "metadata": {},
   "outputs": [
    {
     "data": {
      "text/plain": [
       "Title    0\n",
       "Body     0\n",
       "Tags     0\n",
       "dtype: int64"
      ]
     },
     "execution_count": 8,
     "metadata": {},
     "output_type": "execute_result"
    }
   ],
   "source": [
    "data.isna().sum()"
   ]
  },
  {
   "cell_type": "code",
   "execution_count": 9,
   "metadata": {},
   "outputs": [
    {
     "name": "stdout",
     "output_type": "stream",
     "text": [
      "<class 'pandas.core.frame.DataFrame'>\n",
      "RangeIndex: 50000 entries, 0 to 49999\n",
      "Data columns (total 3 columns):\n",
      " #   Column  Non-Null Count  Dtype \n",
      "---  ------  --------------  ----- \n",
      " 0   Title   50000 non-null  object\n",
      " 1   Body    50000 non-null  object\n",
      " 2   Tags    50000 non-null  object\n",
      "dtypes: object(3)\n",
      "memory usage: 1.1+ MB\n"
     ]
    }
   ],
   "source": [
    "data.info()"
   ]
  },
  {
   "cell_type": "code",
   "execution_count": 10,
   "metadata": {},
   "outputs": [],
   "source": [
    "# Remove HTML tags from Body column\n",
    "data['Body_clean'] = data['Body'].apply(lambda x: re.sub('<.*?>', '', x))"
   ]
  },
  {
   "cell_type": "code",
   "execution_count": 11,
   "metadata": {},
   "outputs": [
    {
     "data": {
      "text/html": [
       "<div>\n",
       "<style scoped>\n",
       "    .dataframe tbody tr th:only-of-type {\n",
       "        vertical-align: middle;\n",
       "    }\n",
       "\n",
       "    .dataframe tbody tr th {\n",
       "        vertical-align: top;\n",
       "    }\n",
       "\n",
       "    .dataframe thead th {\n",
       "        text-align: right;\n",
       "    }\n",
       "</style>\n",
       "<table border=\"1\" class=\"dataframe\">\n",
       "  <thead>\n",
       "    <tr style=\"text-align: right;\">\n",
       "      <th></th>\n",
       "      <th>Title</th>\n",
       "      <th>Body</th>\n",
       "      <th>Tags</th>\n",
       "      <th>Body_clean</th>\n",
       "    </tr>\n",
       "  </thead>\n",
       "  <tbody>\n",
       "    <tr>\n",
       "      <th>0</th>\n",
       "      <td>Making a particle follow a path in spriteKit</td>\n",
       "      <td>&lt;p&gt;I have created a particle and when I test i...</td>\n",
       "      <td>&lt;ios&gt;&lt;iphone&gt;&lt;ipad&gt;&lt;sprite-kit&gt;&lt;skemitternode&gt;</td>\n",
       "      <td>I have created a particle and when I test it m...</td>\n",
       "    </tr>\n",
       "    <tr>\n",
       "      <th>1</th>\n",
       "      <td>How to find the cause of a malloc \"double free...</td>\n",
       "      <td>&lt;p&gt;I'm programming an application in Objective...</td>\n",
       "      <td>&lt;iphone&gt;&lt;objective-c&gt;&lt;memory-management&gt;&lt;mallo...</td>\n",
       "      <td>I'm programming an application in Objective-C ...</td>\n",
       "    </tr>\n",
       "    <tr>\n",
       "      <th>2</th>\n",
       "      <td>Handling the window closing event with WPF / M...</td>\n",
       "      <td>&lt;p&gt;I'd like to handle the &lt;code&gt;Closing&lt;/code&gt;...</td>\n",
       "      <td>&lt;c#&gt;&lt;wpf&gt;&lt;xaml&gt;&lt;mvvm&gt;&lt;mvvm-light&gt;</td>\n",
       "      <td>I'd like to handle the Closing event (when a u...</td>\n",
       "    </tr>\n",
       "    <tr>\n",
       "      <th>3</th>\n",
       "      <td>SessionTimeout: web.xml vs session.maxInactive...</td>\n",
       "      <td>&lt;p&gt;I'm trying to timeout an &lt;em&gt;HttpSession&lt;/e...</td>\n",
       "      <td>&lt;java&gt;&lt;session&gt;&lt;servlets&gt;&lt;weblogic&gt;&lt;session-ti...</td>\n",
       "      <td>I'm trying to timeout an HttpSession in Java. ...</td>\n",
       "    </tr>\n",
       "    <tr>\n",
       "      <th>4</th>\n",
       "      <td>Getting GDB to save a list of breakpoints</td>\n",
       "      <td>&lt;p&gt;OK, &lt;em&gt;&lt;a href=\"https://sourceware.org/gdb...</td>\n",
       "      <td>&lt;c++&gt;&lt;c&gt;&lt;debugging&gt;&lt;gdb&gt;&lt;breakpoints&gt;</td>\n",
       "      <td>OK, info break lists the breakpoints, but not ...</td>\n",
       "    </tr>\n",
       "    <tr>\n",
       "      <th>...</th>\n",
       "      <td>...</td>\n",
       "      <td>...</td>\n",
       "      <td>...</td>\n",
       "      <td>...</td>\n",
       "    </tr>\n",
       "    <tr>\n",
       "      <th>49995</th>\n",
       "      <td>How can I String.Format a TimeSpan object with...</td>\n",
       "      <td>&lt;p&gt;What is the recommended way of formatting &lt;...</td>\n",
       "      <td>&lt;c#&gt;&lt;.net&gt;&lt;string&gt;&lt;time&gt;&lt;formatting&gt;</td>\n",
       "      <td>What is the recommended way of formatting Time...</td>\n",
       "    </tr>\n",
       "    <tr>\n",
       "      <th>49996</th>\n",
       "      <td>How can Polymorphism replace an if-else statem...</td>\n",
       "      <td>&lt;p&gt;How can polymorphism replace an if-else sta...</td>\n",
       "      <td>&lt;language-agnostic&gt;&lt;oop&gt;&lt;loops&gt;&lt;polymorphism&gt;&lt;...</td>\n",
       "      <td>How can polymorphism replace an if-else statem...</td>\n",
       "    </tr>\n",
       "    <tr>\n",
       "      <th>49997</th>\n",
       "      <td>What thread does JavaScript code called from F...</td>\n",
       "      <td>&lt;p&gt;As far as I understand, all JavaScript code...</td>\n",
       "      <td>&lt;javascript&gt;&lt;flash&gt;&lt;actionscript-3&gt;&lt;multithrea...</td>\n",
       "      <td>As far as I understand, all JavaScript code is...</td>\n",
       "    </tr>\n",
       "    <tr>\n",
       "      <th>49998</th>\n",
       "      <td>Android Gradle's dependency cache may be corru...</td>\n",
       "      <td>&lt;p&gt;I am trying to import this project, even I ...</td>\n",
       "      <td>&lt;java&gt;&lt;android&gt;&lt;android-studio&gt;&lt;gradle&gt;&lt;build....</td>\n",
       "      <td>I am trying to import this project, even I tri...</td>\n",
       "    </tr>\n",
       "    <tr>\n",
       "      <th>49999</th>\n",
       "      <td>Is there a way to read environment variables o...</td>\n",
       "      <td>&lt;p&gt;In Perl, I need to read the environment of ...</td>\n",
       "      <td>&lt;linux&gt;&lt;perl&gt;&lt;solaris&gt;&lt;environment-variables&gt;&lt;...</td>\n",
       "      <td>In Perl, I need to read the environment of oth...</td>\n",
       "    </tr>\n",
       "  </tbody>\n",
       "</table>\n",
       "<p>50000 rows × 4 columns</p>\n",
       "</div>"
      ],
      "text/plain": [
       "                                                   Title  \\\n",
       "0           Making a particle follow a path in spriteKit   \n",
       "1      How to find the cause of a malloc \"double free...   \n",
       "2      Handling the window closing event with WPF / M...   \n",
       "3      SessionTimeout: web.xml vs session.maxInactive...   \n",
       "4              Getting GDB to save a list of breakpoints   \n",
       "...                                                  ...   \n",
       "49995  How can I String.Format a TimeSpan object with...   \n",
       "49996  How can Polymorphism replace an if-else statem...   \n",
       "49997  What thread does JavaScript code called from F...   \n",
       "49998  Android Gradle's dependency cache may be corru...   \n",
       "49999  Is there a way to read environment variables o...   \n",
       "\n",
       "                                                    Body  \\\n",
       "0      <p>I have created a particle and when I test i...   \n",
       "1      <p>I'm programming an application in Objective...   \n",
       "2      <p>I'd like to handle the <code>Closing</code>...   \n",
       "3      <p>I'm trying to timeout an <em>HttpSession</e...   \n",
       "4      <p>OK, <em><a href=\"https://sourceware.org/gdb...   \n",
       "...                                                  ...   \n",
       "49995  <p>What is the recommended way of formatting <...   \n",
       "49996  <p>How can polymorphism replace an if-else sta...   \n",
       "49997  <p>As far as I understand, all JavaScript code...   \n",
       "49998  <p>I am trying to import this project, even I ...   \n",
       "49999  <p>In Perl, I need to read the environment of ...   \n",
       "\n",
       "                                                    Tags  \\\n",
       "0         <ios><iphone><ipad><sprite-kit><skemitternode>   \n",
       "1      <iphone><objective-c><memory-management><mallo...   \n",
       "2                      <c#><wpf><xaml><mvvm><mvvm-light>   \n",
       "3      <java><session><servlets><weblogic><session-ti...   \n",
       "4                  <c++><c><debugging><gdb><breakpoints>   \n",
       "...                                                  ...   \n",
       "49995               <c#><.net><string><time><formatting>   \n",
       "49996  <language-agnostic><oop><loops><polymorphism><...   \n",
       "49997  <javascript><flash><actionscript-3><multithrea...   \n",
       "49998  <java><android><android-studio><gradle><build....   \n",
       "49999  <linux><perl><solaris><environment-variables><...   \n",
       "\n",
       "                                              Body_clean  \n",
       "0      I have created a particle and when I test it m...  \n",
       "1      I'm programming an application in Objective-C ...  \n",
       "2      I'd like to handle the Closing event (when a u...  \n",
       "3      I'm trying to timeout an HttpSession in Java. ...  \n",
       "4      OK, info break lists the breakpoints, but not ...  \n",
       "...                                                  ...  \n",
       "49995  What is the recommended way of formatting Time...  \n",
       "49996  How can polymorphism replace an if-else statem...  \n",
       "49997  As far as I understand, all JavaScript code is...  \n",
       "49998  I am trying to import this project, even I tri...  \n",
       "49999  In Perl, I need to read the environment of oth...  \n",
       "\n",
       "[50000 rows x 4 columns]"
      ]
     },
     "execution_count": 11,
     "metadata": {},
     "output_type": "execute_result"
    }
   ],
   "source": [
    "data"
   ]
  },
  {
   "cell_type": "code",
   "execution_count": 12,
   "metadata": {},
   "outputs": [],
   "source": [
    "# Define a function to remove punctuations and digits\n",
    "def remove_punc_digits(text):\n",
    "    # Remove digits\n",
    "    text = re.sub('\\d+', '', text)\n",
    "    text = text.lower()\n",
    "    # Remove punctuations and special characters\n",
    "    text = text.translate(str.maketrans('', '', string.punctuation))\n",
    "    return text"
   ]
  },
  {
   "cell_type": "code",
   "execution_count": 13,
   "metadata": {},
   "outputs": [],
   "source": [
    "# Apply the function to Title and Body columns\n",
    "data['Title_clean'] = data['Title'].apply(remove_punc_digits)\n",
    "data['Body_clean'] = data['Body_clean'].apply(remove_punc_digits)"
   ]
  },
  {
   "cell_type": "code",
   "execution_count": 14,
   "metadata": {},
   "outputs": [
    {
     "name": "stderr",
     "output_type": "stream",
     "text": [
      "[nltk_data] Downloading package punkt to\n",
      "[nltk_data]     C:\\Users\\perso\\AppData\\Roaming\\nltk_data...\n",
      "[nltk_data]   Package punkt is already up-to-date!\n"
     ]
    },
    {
     "data": {
      "text/plain": [
       "True"
      ]
     },
     "execution_count": 14,
     "metadata": {},
     "output_type": "execute_result"
    }
   ],
   "source": [
    "nltk.download('punkt')"
   ]
  },
  {
   "cell_type": "code",
   "execution_count": 15,
   "metadata": {},
   "outputs": [
    {
     "ename": "KeyboardInterrupt",
     "evalue": "",
     "output_type": "error",
     "traceback": [
      "\u001b[1;31m---------------------------------------------------------------------------\u001b[0m",
      "\u001b[1;31mKeyboardInterrupt\u001b[0m                         Traceback (most recent call last)",
      "\u001b[1;32m<ipython-input-15-1ccd6e1bf5b0>\u001b[0m in \u001b[0;36m<module>\u001b[1;34m\u001b[0m\n\u001b[0;32m      3\u001b[0m \u001b[1;33m\u001b[0m\u001b[0m\n\u001b[0;32m      4\u001b[0m \u001b[1;31m# Tokenize the texts and convert to lowercase\u001b[0m\u001b[1;33m\u001b[0m\u001b[1;33m\u001b[0m\u001b[1;33m\u001b[0m\u001b[0m\n\u001b[1;32m----> 5\u001b[1;33m \u001b[0mwords\u001b[0m \u001b[1;33m=\u001b[0m \u001b[1;33m[\u001b[0m\u001b[0mword\u001b[0m\u001b[1;33m.\u001b[0m\u001b[0mlower\u001b[0m\u001b[1;33m(\u001b[0m\u001b[1;33m)\u001b[0m \u001b[1;32mfor\u001b[0m \u001b[0mtext\u001b[0m \u001b[1;32min\u001b[0m \u001b[0mtexts\u001b[0m \u001b[1;32mfor\u001b[0m \u001b[0mword\u001b[0m \u001b[1;32min\u001b[0m \u001b[0mnltk\u001b[0m\u001b[1;33m.\u001b[0m\u001b[0mword_tokenize\u001b[0m\u001b[1;33m(\u001b[0m\u001b[0mtext\u001b[0m\u001b[1;33m)\u001b[0m\u001b[1;33m]\u001b[0m\u001b[1;33m\u001b[0m\u001b[1;33m\u001b[0m\u001b[0m\n\u001b[0m\u001b[0;32m      6\u001b[0m \u001b[1;33m\u001b[0m\u001b[0m\n\u001b[0;32m      7\u001b[0m \u001b[1;31m# Count the frequency of each word\u001b[0m\u001b[1;33m\u001b[0m\u001b[1;33m\u001b[0m\u001b[1;33m\u001b[0m\u001b[0m\n",
      "\u001b[1;32m<ipython-input-15-1ccd6e1bf5b0>\u001b[0m in \u001b[0;36m<listcomp>\u001b[1;34m(.0)\u001b[0m\n\u001b[0;32m      3\u001b[0m \u001b[1;33m\u001b[0m\u001b[0m\n\u001b[0;32m      4\u001b[0m \u001b[1;31m# Tokenize the texts and convert to lowercase\u001b[0m\u001b[1;33m\u001b[0m\u001b[1;33m\u001b[0m\u001b[1;33m\u001b[0m\u001b[0m\n\u001b[1;32m----> 5\u001b[1;33m \u001b[0mwords\u001b[0m \u001b[1;33m=\u001b[0m \u001b[1;33m[\u001b[0m\u001b[0mword\u001b[0m\u001b[1;33m.\u001b[0m\u001b[0mlower\u001b[0m\u001b[1;33m(\u001b[0m\u001b[1;33m)\u001b[0m \u001b[1;32mfor\u001b[0m \u001b[0mtext\u001b[0m \u001b[1;32min\u001b[0m \u001b[0mtexts\u001b[0m \u001b[1;32mfor\u001b[0m \u001b[0mword\u001b[0m \u001b[1;32min\u001b[0m \u001b[0mnltk\u001b[0m\u001b[1;33m.\u001b[0m\u001b[0mword_tokenize\u001b[0m\u001b[1;33m(\u001b[0m\u001b[0mtext\u001b[0m\u001b[1;33m)\u001b[0m\u001b[1;33m]\u001b[0m\u001b[1;33m\u001b[0m\u001b[1;33m\u001b[0m\u001b[0m\n\u001b[0m\u001b[0;32m      6\u001b[0m \u001b[1;33m\u001b[0m\u001b[0m\n\u001b[0;32m      7\u001b[0m \u001b[1;31m# Count the frequency of each word\u001b[0m\u001b[1;33m\u001b[0m\u001b[1;33m\u001b[0m\u001b[1;33m\u001b[0m\u001b[0m\n",
      "\u001b[1;32m~\\anaconda3\\lib\\site-packages\\nltk\\tokenize\\__init__.py\u001b[0m in \u001b[0;36mword_tokenize\u001b[1;34m(text, language, preserve_line)\u001b[0m\n\u001b[0;32m    128\u001b[0m     \u001b[1;33m:\u001b[0m\u001b[0mtype\u001b[0m \u001b[0mpreserve_line\u001b[0m\u001b[1;33m:\u001b[0m \u001b[0mbool\u001b[0m\u001b[1;33m\u001b[0m\u001b[1;33m\u001b[0m\u001b[0m\n\u001b[0;32m    129\u001b[0m     \"\"\"\n\u001b[1;32m--> 130\u001b[1;33m     \u001b[0msentences\u001b[0m \u001b[1;33m=\u001b[0m \u001b[1;33m[\u001b[0m\u001b[0mtext\u001b[0m\u001b[1;33m]\u001b[0m \u001b[1;32mif\u001b[0m \u001b[0mpreserve_line\u001b[0m \u001b[1;32melse\u001b[0m \u001b[0msent_tokenize\u001b[0m\u001b[1;33m(\u001b[0m\u001b[0mtext\u001b[0m\u001b[1;33m,\u001b[0m \u001b[0mlanguage\u001b[0m\u001b[1;33m)\u001b[0m\u001b[1;33m\u001b[0m\u001b[1;33m\u001b[0m\u001b[0m\n\u001b[0m\u001b[0;32m    131\u001b[0m     return [\n\u001b[0;32m    132\u001b[0m         \u001b[0mtoken\u001b[0m \u001b[1;32mfor\u001b[0m \u001b[0msent\u001b[0m \u001b[1;32min\u001b[0m \u001b[0msentences\u001b[0m \u001b[1;32mfor\u001b[0m \u001b[0mtoken\u001b[0m \u001b[1;32min\u001b[0m \u001b[0m_treebank_word_tokenizer\u001b[0m\u001b[1;33m.\u001b[0m\u001b[0mtokenize\u001b[0m\u001b[1;33m(\u001b[0m\u001b[0msent\u001b[0m\u001b[1;33m)\u001b[0m\u001b[1;33m\u001b[0m\u001b[1;33m\u001b[0m\u001b[0m\n",
      "\u001b[1;32m~\\anaconda3\\lib\\site-packages\\nltk\\tokenize\\__init__.py\u001b[0m in \u001b[0;36msent_tokenize\u001b[1;34m(text, language)\u001b[0m\n\u001b[0;32m    106\u001b[0m     \"\"\"\n\u001b[0;32m    107\u001b[0m     \u001b[0mtokenizer\u001b[0m \u001b[1;33m=\u001b[0m \u001b[0mload\u001b[0m\u001b[1;33m(\u001b[0m\u001b[1;34m\"tokenizers/punkt/{0}.pickle\"\u001b[0m\u001b[1;33m.\u001b[0m\u001b[0mformat\u001b[0m\u001b[1;33m(\u001b[0m\u001b[0mlanguage\u001b[0m\u001b[1;33m)\u001b[0m\u001b[1;33m)\u001b[0m\u001b[1;33m\u001b[0m\u001b[1;33m\u001b[0m\u001b[0m\n\u001b[1;32m--> 108\u001b[1;33m     \u001b[1;32mreturn\u001b[0m \u001b[0mtokenizer\u001b[0m\u001b[1;33m.\u001b[0m\u001b[0mtokenize\u001b[0m\u001b[1;33m(\u001b[0m\u001b[0mtext\u001b[0m\u001b[1;33m)\u001b[0m\u001b[1;33m\u001b[0m\u001b[1;33m\u001b[0m\u001b[0m\n\u001b[0m\u001b[0;32m    109\u001b[0m \u001b[1;33m\u001b[0m\u001b[0m\n\u001b[0;32m    110\u001b[0m \u001b[1;33m\u001b[0m\u001b[0m\n",
      "\u001b[1;32m~\\anaconda3\\lib\\site-packages\\nltk\\tokenize\\punkt.py\u001b[0m in \u001b[0;36mtokenize\u001b[1;34m(self, text, realign_boundaries)\u001b[0m\n\u001b[0;32m   1272\u001b[0m         \u001b[0mGiven\u001b[0m \u001b[0ma\u001b[0m \u001b[0mtext\u001b[0m\u001b[1;33m,\u001b[0m \u001b[0mreturns\u001b[0m \u001b[0ma\u001b[0m \u001b[0mlist\u001b[0m \u001b[0mof\u001b[0m \u001b[0mthe\u001b[0m \u001b[0msentences\u001b[0m \u001b[1;32min\u001b[0m \u001b[0mthat\u001b[0m \u001b[0mtext\u001b[0m\u001b[1;33m.\u001b[0m\u001b[1;33m\u001b[0m\u001b[1;33m\u001b[0m\u001b[0m\n\u001b[0;32m   1273\u001b[0m         \"\"\"\n\u001b[1;32m-> 1274\u001b[1;33m         \u001b[1;32mreturn\u001b[0m \u001b[0mlist\u001b[0m\u001b[1;33m(\u001b[0m\u001b[0mself\u001b[0m\u001b[1;33m.\u001b[0m\u001b[0msentences_from_text\u001b[0m\u001b[1;33m(\u001b[0m\u001b[0mtext\u001b[0m\u001b[1;33m,\u001b[0m \u001b[0mrealign_boundaries\u001b[0m\u001b[1;33m)\u001b[0m\u001b[1;33m)\u001b[0m\u001b[1;33m\u001b[0m\u001b[1;33m\u001b[0m\u001b[0m\n\u001b[0m\u001b[0;32m   1275\u001b[0m \u001b[1;33m\u001b[0m\u001b[0m\n\u001b[0;32m   1276\u001b[0m     \u001b[1;32mdef\u001b[0m \u001b[0mdebug_decisions\u001b[0m\u001b[1;33m(\u001b[0m\u001b[0mself\u001b[0m\u001b[1;33m,\u001b[0m \u001b[0mtext\u001b[0m\u001b[1;33m)\u001b[0m\u001b[1;33m:\u001b[0m\u001b[1;33m\u001b[0m\u001b[1;33m\u001b[0m\u001b[0m\n",
      "\u001b[1;32m~\\anaconda3\\lib\\site-packages\\nltk\\tokenize\\punkt.py\u001b[0m in \u001b[0;36msentences_from_text\u001b[1;34m(self, text, realign_boundaries)\u001b[0m\n\u001b[0;32m   1326\u001b[0m         \u001b[0mfollows\u001b[0m \u001b[0mthe\u001b[0m \u001b[0mperiod\u001b[0m\u001b[1;33m.\u001b[0m\u001b[1;33m\u001b[0m\u001b[1;33m\u001b[0m\u001b[0m\n\u001b[0;32m   1327\u001b[0m         \"\"\"\n\u001b[1;32m-> 1328\u001b[1;33m         \u001b[1;32mreturn\u001b[0m \u001b[1;33m[\u001b[0m\u001b[0mtext\u001b[0m\u001b[1;33m[\u001b[0m\u001b[0ms\u001b[0m\u001b[1;33m:\u001b[0m\u001b[0me\u001b[0m\u001b[1;33m]\u001b[0m \u001b[1;32mfor\u001b[0m \u001b[0ms\u001b[0m\u001b[1;33m,\u001b[0m \u001b[0me\u001b[0m \u001b[1;32min\u001b[0m \u001b[0mself\u001b[0m\u001b[1;33m.\u001b[0m\u001b[0mspan_tokenize\u001b[0m\u001b[1;33m(\u001b[0m\u001b[0mtext\u001b[0m\u001b[1;33m,\u001b[0m \u001b[0mrealign_boundaries\u001b[0m\u001b[1;33m)\u001b[0m\u001b[1;33m]\u001b[0m\u001b[1;33m\u001b[0m\u001b[1;33m\u001b[0m\u001b[0m\n\u001b[0m\u001b[0;32m   1329\u001b[0m \u001b[1;33m\u001b[0m\u001b[0m\n\u001b[0;32m   1330\u001b[0m     \u001b[1;32mdef\u001b[0m \u001b[0m_slices_from_text\u001b[0m\u001b[1;33m(\u001b[0m\u001b[0mself\u001b[0m\u001b[1;33m,\u001b[0m \u001b[0mtext\u001b[0m\u001b[1;33m)\u001b[0m\u001b[1;33m:\u001b[0m\u001b[1;33m\u001b[0m\u001b[1;33m\u001b[0m\u001b[0m\n",
      "\u001b[1;32m~\\anaconda3\\lib\\site-packages\\nltk\\tokenize\\punkt.py\u001b[0m in \u001b[0;36m<listcomp>\u001b[1;34m(.0)\u001b[0m\n\u001b[0;32m   1326\u001b[0m         \u001b[0mfollows\u001b[0m \u001b[0mthe\u001b[0m \u001b[0mperiod\u001b[0m\u001b[1;33m.\u001b[0m\u001b[1;33m\u001b[0m\u001b[1;33m\u001b[0m\u001b[0m\n\u001b[0;32m   1327\u001b[0m         \"\"\"\n\u001b[1;32m-> 1328\u001b[1;33m         \u001b[1;32mreturn\u001b[0m \u001b[1;33m[\u001b[0m\u001b[0mtext\u001b[0m\u001b[1;33m[\u001b[0m\u001b[0ms\u001b[0m\u001b[1;33m:\u001b[0m\u001b[0me\u001b[0m\u001b[1;33m]\u001b[0m \u001b[1;32mfor\u001b[0m \u001b[0ms\u001b[0m\u001b[1;33m,\u001b[0m \u001b[0me\u001b[0m \u001b[1;32min\u001b[0m \u001b[0mself\u001b[0m\u001b[1;33m.\u001b[0m\u001b[0mspan_tokenize\u001b[0m\u001b[1;33m(\u001b[0m\u001b[0mtext\u001b[0m\u001b[1;33m,\u001b[0m \u001b[0mrealign_boundaries\u001b[0m\u001b[1;33m)\u001b[0m\u001b[1;33m]\u001b[0m\u001b[1;33m\u001b[0m\u001b[1;33m\u001b[0m\u001b[0m\n\u001b[0m\u001b[0;32m   1329\u001b[0m \u001b[1;33m\u001b[0m\u001b[0m\n\u001b[0;32m   1330\u001b[0m     \u001b[1;32mdef\u001b[0m \u001b[0m_slices_from_text\u001b[0m\u001b[1;33m(\u001b[0m\u001b[0mself\u001b[0m\u001b[1;33m,\u001b[0m \u001b[0mtext\u001b[0m\u001b[1;33m)\u001b[0m\u001b[1;33m:\u001b[0m\u001b[1;33m\u001b[0m\u001b[1;33m\u001b[0m\u001b[0m\n",
      "\u001b[1;32m~\\anaconda3\\lib\\site-packages\\nltk\\tokenize\\punkt.py\u001b[0m in \u001b[0;36mspan_tokenize\u001b[1;34m(self, text, realign_boundaries)\u001b[0m\n\u001b[0;32m   1316\u001b[0m         \u001b[1;32mif\u001b[0m \u001b[0mrealign_boundaries\u001b[0m\u001b[1;33m:\u001b[0m\u001b[1;33m\u001b[0m\u001b[1;33m\u001b[0m\u001b[0m\n\u001b[0;32m   1317\u001b[0m             \u001b[0mslices\u001b[0m \u001b[1;33m=\u001b[0m \u001b[0mself\u001b[0m\u001b[1;33m.\u001b[0m\u001b[0m_realign_boundaries\u001b[0m\u001b[1;33m(\u001b[0m\u001b[0mtext\u001b[0m\u001b[1;33m,\u001b[0m \u001b[0mslices\u001b[0m\u001b[1;33m)\u001b[0m\u001b[1;33m\u001b[0m\u001b[1;33m\u001b[0m\u001b[0m\n\u001b[1;32m-> 1318\u001b[1;33m         \u001b[1;32mfor\u001b[0m \u001b[0msl\u001b[0m \u001b[1;32min\u001b[0m \u001b[0mslices\u001b[0m\u001b[1;33m:\u001b[0m\u001b[1;33m\u001b[0m\u001b[1;33m\u001b[0m\u001b[0m\n\u001b[0m\u001b[0;32m   1319\u001b[0m             \u001b[1;32myield\u001b[0m \u001b[1;33m(\u001b[0m\u001b[0msl\u001b[0m\u001b[1;33m.\u001b[0m\u001b[0mstart\u001b[0m\u001b[1;33m,\u001b[0m \u001b[0msl\u001b[0m\u001b[1;33m.\u001b[0m\u001b[0mstop\u001b[0m\u001b[1;33m)\u001b[0m\u001b[1;33m\u001b[0m\u001b[1;33m\u001b[0m\u001b[0m\n\u001b[0;32m   1320\u001b[0m \u001b[1;33m\u001b[0m\u001b[0m\n",
      "\u001b[1;32m~\\anaconda3\\lib\\site-packages\\nltk\\tokenize\\punkt.py\u001b[0m in \u001b[0;36m_realign_boundaries\u001b[1;34m(self, text, slices)\u001b[0m\n\u001b[0;32m   1357\u001b[0m         \"\"\"\n\u001b[0;32m   1358\u001b[0m         \u001b[0mrealign\u001b[0m \u001b[1;33m=\u001b[0m \u001b[1;36m0\u001b[0m\u001b[1;33m\u001b[0m\u001b[1;33m\u001b[0m\u001b[0m\n\u001b[1;32m-> 1359\u001b[1;33m         \u001b[1;32mfor\u001b[0m \u001b[0msl1\u001b[0m\u001b[1;33m,\u001b[0m \u001b[0msl2\u001b[0m \u001b[1;32min\u001b[0m \u001b[0m_pair_iter\u001b[0m\u001b[1;33m(\u001b[0m\u001b[0mslices\u001b[0m\u001b[1;33m)\u001b[0m\u001b[1;33m:\u001b[0m\u001b[1;33m\u001b[0m\u001b[1;33m\u001b[0m\u001b[0m\n\u001b[0m\u001b[0;32m   1360\u001b[0m             \u001b[0msl1\u001b[0m \u001b[1;33m=\u001b[0m \u001b[0mslice\u001b[0m\u001b[1;33m(\u001b[0m\u001b[0msl1\u001b[0m\u001b[1;33m.\u001b[0m\u001b[0mstart\u001b[0m \u001b[1;33m+\u001b[0m \u001b[0mrealign\u001b[0m\u001b[1;33m,\u001b[0m \u001b[0msl1\u001b[0m\u001b[1;33m.\u001b[0m\u001b[0mstop\u001b[0m\u001b[1;33m)\u001b[0m\u001b[1;33m\u001b[0m\u001b[1;33m\u001b[0m\u001b[0m\n\u001b[0;32m   1361\u001b[0m             \u001b[1;32mif\u001b[0m \u001b[1;32mnot\u001b[0m \u001b[0msl2\u001b[0m\u001b[1;33m:\u001b[0m\u001b[1;33m\u001b[0m\u001b[1;33m\u001b[0m\u001b[0m\n",
      "\u001b[1;32m~\\anaconda3\\lib\\site-packages\\nltk\\tokenize\\punkt.py\u001b[0m in \u001b[0;36m_pair_iter\u001b[1;34m(it)\u001b[0m\n\u001b[0;32m    314\u001b[0m     \u001b[0mit\u001b[0m \u001b[1;33m=\u001b[0m \u001b[0miter\u001b[0m\u001b[1;33m(\u001b[0m\u001b[0mit\u001b[0m\u001b[1;33m)\u001b[0m\u001b[1;33m\u001b[0m\u001b[1;33m\u001b[0m\u001b[0m\n\u001b[0;32m    315\u001b[0m     \u001b[1;32mtry\u001b[0m\u001b[1;33m:\u001b[0m\u001b[1;33m\u001b[0m\u001b[1;33m\u001b[0m\u001b[0m\n\u001b[1;32m--> 316\u001b[1;33m         \u001b[0mprev\u001b[0m \u001b[1;33m=\u001b[0m \u001b[0mnext\u001b[0m\u001b[1;33m(\u001b[0m\u001b[0mit\u001b[0m\u001b[1;33m)\u001b[0m\u001b[1;33m\u001b[0m\u001b[1;33m\u001b[0m\u001b[0m\n\u001b[0m\u001b[0;32m    317\u001b[0m     \u001b[1;32mexcept\u001b[0m \u001b[0mStopIteration\u001b[0m\u001b[1;33m:\u001b[0m\u001b[1;33m\u001b[0m\u001b[1;33m\u001b[0m\u001b[0m\n\u001b[0;32m    318\u001b[0m         \u001b[1;32mreturn\u001b[0m\u001b[1;33m\u001b[0m\u001b[1;33m\u001b[0m\u001b[0m\n",
      "\u001b[1;32m~\\anaconda3\\lib\\site-packages\\nltk\\tokenize\\punkt.py\u001b[0m in \u001b[0;36m_slices_from_text\u001b[1;34m(self, text)\u001b[0m\n\u001b[0;32m   1341\u001b[0m                     \u001b[0mlast_break\u001b[0m \u001b[1;33m=\u001b[0m \u001b[0mmatch\u001b[0m\u001b[1;33m.\u001b[0m\u001b[0mend\u001b[0m\u001b[1;33m(\u001b[0m\u001b[1;33m)\u001b[0m\u001b[1;33m\u001b[0m\u001b[1;33m\u001b[0m\u001b[0m\n\u001b[0;32m   1342\u001b[0m         \u001b[1;31m# The last sentence should not contain trailing whitespace.\u001b[0m\u001b[1;33m\u001b[0m\u001b[1;33m\u001b[0m\u001b[1;33m\u001b[0m\u001b[0m\n\u001b[1;32m-> 1343\u001b[1;33m         \u001b[1;32myield\u001b[0m \u001b[0mslice\u001b[0m\u001b[1;33m(\u001b[0m\u001b[0mlast_break\u001b[0m\u001b[1;33m,\u001b[0m \u001b[0mlen\u001b[0m\u001b[1;33m(\u001b[0m\u001b[0mtext\u001b[0m\u001b[1;33m.\u001b[0m\u001b[0mrstrip\u001b[0m\u001b[1;33m(\u001b[0m\u001b[1;33m)\u001b[0m\u001b[1;33m)\u001b[0m\u001b[1;33m)\u001b[0m\u001b[1;33m\u001b[0m\u001b[1;33m\u001b[0m\u001b[0m\n\u001b[0m\u001b[0;32m   1344\u001b[0m \u001b[1;33m\u001b[0m\u001b[0m\n\u001b[0;32m   1345\u001b[0m     \u001b[1;32mdef\u001b[0m \u001b[0m_realign_boundaries\u001b[0m\u001b[1;33m(\u001b[0m\u001b[0mself\u001b[0m\u001b[1;33m,\u001b[0m \u001b[0mtext\u001b[0m\u001b[1;33m,\u001b[0m \u001b[0mslices\u001b[0m\u001b[1;33m)\u001b[0m\u001b[1;33m:\u001b[0m\u001b[1;33m\u001b[0m\u001b[1;33m\u001b[0m\u001b[0m\n",
      "\u001b[1;31mKeyboardInterrupt\u001b[0m: "
     ]
    }
   ],
   "source": [
    "# List of texts to analyze\n",
    "texts = data['Body_clean']\n",
    "\n",
    "# Tokenize the texts and convert to lowercase\n",
    "words = [word.lower() for text in texts for word in nltk.word_tokenize(text)]\n",
    "\n",
    "# Count the frequency of each word\n",
    "freq = Counter(words)\n",
    "\n",
    "# Get the most common 200 words and combine with default NLTK stopwords\n",
    "most_freq = [word for word, count in freq.most_common(100)]\n",
    "sw = set(stopwords.words('english')).union(set(most_freq))\n",
    "\n",
    "# Remove stopwords from the list of words\n",
    "words_without_sw = [word for word in words if word not in sw]"
   ]
  },
  {
   "cell_type": "code",
   "execution_count": null,
   "metadata": {},
   "outputs": [],
   "source": [
    "def clean_text(text):\n",
    "    # Tokenize le texte\n",
    "    tokens = nltk.word_tokenize(text)\n",
    "    # Enlève les stopwords\n",
    "    stopwords_en = set(stopwords.words('english'))\n",
    "    tokens_without_sw = [token for token in tokens if token not in stopwords_en]\n",
    "    # Retourne la liste de mots sans stopwords\n",
    "    return tokens_without_sw"
   ]
  },
  {
   "cell_type": "code",
   "execution_count": null,
   "metadata": {},
   "outputs": [],
   "source": [
    "# Applique la fonction de nettoyage à la colonne \"Body\"\n",
    "data['Body_clean'] = data['Body_clean'].apply(clean_text)"
   ]
  },
  {
   "cell_type": "code",
   "execution_count": null,
   "metadata": {},
   "outputs": [],
   "source": [
    "# List of texts to analyze\n",
    "texts = data['Title_clean']\n",
    "\n",
    "# Tokenize the texts and convert to lowercase\n",
    "words = [word.lower() for text in texts for word in nltk.word_tokenize(text)]\n",
    "\n",
    "# Count the frequency of each word\n",
    "freq = Counter(words)\n",
    "\n",
    "# Get the most common 100 words and combine with default NLTK stopwords\n",
    "most_freq = [word for word, count in freq.most_common(100)]\n",
    "sw = set(stopwords.words('english')).union(set(most_freq))\n",
    "\n",
    "# Remove stopwords from the list of words\n",
    "words_without_sw = [word for word in words if word not in sw]"
   ]
  },
  {
   "cell_type": "code",
   "execution_count": null,
   "metadata": {},
   "outputs": [],
   "source": [
    "# Applique la fonction de nettoyage à la colonne \"Body\"\n",
    "data['Title_clean'] = data['Title_clean'].apply(clean_text)"
   ]
  },
  {
   "cell_type": "markdown",
   "metadata": {},
   "source": [
    "## Fusion des Titles & Body"
   ]
  },
  {
   "cell_type": "code",
   "execution_count": null,
   "metadata": {},
   "outputs": [],
   "source": [
    "data['Texte_clean'] = data['Title_clean'] + data['Body_clean']"
   ]
  },
  {
   "cell_type": "code",
   "execution_count": null,
   "metadata": {},
   "outputs": [],
   "source": [
    "data['Texte_clean'] = data['Texte_clean'].astype(str)"
   ]
  },
  {
   "cell_type": "markdown",
   "metadata": {},
   "source": [
    "## Filtre Langue"
   ]
  },
  {
   "cell_type": "code",
   "execution_count": null,
   "metadata": {},
   "outputs": [],
   "source": [
    "for index in data.index:\n",
    "    data.loc[index,'lang'] = detect(data.loc[index,'Texte_clean']) \n",
    "\n",
    "data['lang'].value_counts()"
   ]
  },
  {
   "cell_type": "code",
   "execution_count": null,
   "metadata": {},
   "outputs": [],
   "source": [
    "# Filtre Anglais\n",
    "data = data[data['lang']=='en']"
   ]
  },
  {
   "cell_type": "markdown",
   "metadata": {},
   "source": [
    "## Pos tag\n",
    "POS Tagging (Part-of-Speech Tagging) : représente les méthodes qui récupèrent la nature grammatical des mots d’une phrase - nom, verbe, adjectif, etc. Ce sont des propriété qui peuvent servir de caractéristiques utile lors de la création de certains modèles"
   ]
  },
  {
   "cell_type": "code",
   "execution_count": null,
   "metadata": {},
   "outputs": [],
   "source": [
    "from nltk.tokenize import word_tokenize, sent_tokenize\n",
    "from nltk import pos_tag\n",
    "from nltk.tokenize import word_tokenize\n",
    "from nltk.corpus import wordnet as wn\n",
    "from nltk.stem import WordNetLemmatizer\n",
    "nltk.download('wordnet')"
   ]
  },
  {
   "cell_type": "code",
   "execution_count": null,
   "metadata": {},
   "outputs": [],
   "source": [
    "def remove_verbs(text):\n",
    "\n",
    "    # tokenisation des mots\n",
    "    tokens = word_tokenize(text)\n",
    "\n",
    "    # obtention du type grammatical de chaque mot\n",
    "    tagged_tokens = pos_tag(tokens)\n",
    "\n",
    "    filtered_tokens = [word for word, tag in tagged_tokens if tag not in [\n",
    "        'VB', 'VBD', 'VBG', 'VBN', 'VBP', 'VBZ',  # verbs\n",
    "        'PRP', 'PRP$',  # pronouns\n",
    "        'DT', 'PDT', 'WDT',  # determiners\n",
    "        'MD'  # modals/auxiliaries\n",
    "    ]]\n",
    "\n",
    "    # lemmatisation des mots restants\n",
    "    lemmatizer = WordNetLemmatizer()\n",
    "    lemmatized_tokens = [lemmatizer.lemmatize(\n",
    "        token, pos='v') for token in filtered_tokens]\n",
    "\n",
    "    # sélection des mots non verbaux\n",
    "    non_verbs = [token for token in lemmatized_tokens if not wn.synsets(\n",
    "        token, pos=wn.VERB)]\n",
    "\n",
    "    # reconstruction du texte sans verbes\n",
    "    cleaned_text = ' '.join(non_verbs)\n",
    "\n",
    "    return cleaned_text"
   ]
  },
  {
   "cell_type": "code",
   "execution_count": null,
   "metadata": {},
   "outputs": [],
   "source": [
    "data['Texte_clean'] = data['Texte_clean'].astype(str)"
   ]
  },
  {
   "cell_type": "code",
   "execution_count": null,
   "metadata": {},
   "outputs": [],
   "source": [
    "# Applique la fonction de nettoyage à la colonne \"Body\"\n",
    "data['Texte_remove'] = data['Texte_clean'].apply(remove_verbs)"
   ]
  },
  {
   "cell_type": "code",
   "execution_count": null,
   "metadata": {},
   "outputs": [],
   "source": [
    "data"
   ]
  },
  {
   "cell_type": "code",
   "execution_count": null,
   "metadata": {},
   "outputs": [],
   "source": [
    "data['Texte_remove'] = data['Texte_remove'].astype(str)"
   ]
  },
  {
   "cell_type": "code",
   "execution_count": null,
   "metadata": {},
   "outputs": [],
   "source": [
    "# remplacer tous les caractères dans la colonne \"Text_lem\"\n",
    "data['Texte_remove'] = data['Texte_remove'].str.replace(\"[\", \"\")\n",
    "data['Texte_remove'] = data['Texte_remove'].str.replace(\"]\", \"\")\n",
    "data['Texte_remove'] = data['Texte_remove'].str.replace(\"'\", \"\")\n",
    "data['Texte_remove'] = data['Texte_remove'].str.replace('\"', '')\n",
    "data['Texte_remove'] = data['Texte_remove'].str.replace(\",\", \"\")"
   ]
  },
  {
   "cell_type": "code",
   "execution_count": null,
   "metadata": {},
   "outputs": [],
   "source": [
    "data"
   ]
  },
  {
   "cell_type": "markdown",
   "metadata": {},
   "source": [
    "## Tags (Target)"
   ]
  },
  {
   "cell_type": "code",
   "execution_count": null,
   "metadata": {},
   "outputs": [],
   "source": [
    "# remplacer tous les caractères dans la colonne \"Tags\"\n",
    "data['Tags_clean'] = data['Tags'].str.replace(\"<|>\",\" \")\n",
    "data['Tags_clean'] = data['Tags_clean'].str.replace(\",+\",\" \")"
   ]
  },
  {
   "cell_type": "code",
   "execution_count": null,
   "metadata": {},
   "outputs": [],
   "source": [
    "data['Tags_clean'] = data['Tags_clean'].apply(remove_punc_digits)"
   ]
  },
  {
   "cell_type": "markdown",
   "metadata": {},
   "source": [
    "## Drop Feature prétraitement"
   ]
  },
  {
   "cell_type": "code",
   "execution_count": null,
   "metadata": {},
   "outputs": [],
   "source": [
    "data"
   ]
  },
  {
   "cell_type": "code",
   "execution_count": null,
   "metadata": {},
   "outputs": [],
   "source": [
    "data.drop(['Title', 'Body', 'Tags', 'Body_clean',\n",
    "          'Title_clean', 'Texte_clean','lang'], axis=1, inplace=True)"
   ]
  },
  {
   "cell_type": "markdown",
   "metadata": {},
   "source": [
    "## Doublons"
   ]
  },
  {
   "cell_type": "code",
   "execution_count": null,
   "metadata": {},
   "outputs": [],
   "source": [
    "data"
   ]
  },
  {
   "cell_type": "code",
   "execution_count": null,
   "metadata": {},
   "outputs": [],
   "source": [
    "data.duplicated().sum()"
   ]
  },
  {
   "cell_type": "code",
   "execution_count": null,
   "metadata": {},
   "outputs": [],
   "source": [
    "data.duplicated(subset='Texte_remove').sum()"
   ]
  },
  {
   "cell_type": "code",
   "execution_count": null,
   "metadata": {},
   "outputs": [],
   "source": [
    "for col in data.columns:\n",
    "    n = data.duplicated(subset=col).sum()\n",
    "    print(f\"col: {col} -> duplicated : {n}\")"
   ]
  },
  {
   "cell_type": "markdown",
   "metadata": {},
   "source": [
    "# Exploration"
   ]
  },
  {
   "cell_type": "code",
   "execution_count": null,
   "metadata": {},
   "outputs": [],
   "source": [
    "from collections import Counter"
   ]
  },
  {
   "cell_type": "markdown",
   "metadata": {},
   "source": [
    "## Tags"
   ]
  },
  {
   "cell_type": "code",
   "execution_count": null,
   "metadata": {},
   "outputs": [],
   "source": [
    "# Visualiser la distribution des longueurs de texte\n",
    "text_lengths = data['Tags_clean'].str.len()\n",
    "plt.hist(text_lengths, bins=50)\n",
    "plt.xlabel('Longueur du texte')\n",
    "plt.ylabel('Nombre d\\'observations')\n",
    "plt.show()"
   ]
  },
  {
   "cell_type": "code",
   "execution_count": null,
   "metadata": {},
   "outputs": [],
   "source": [
    "stopwords = set(STOPWORDS)\n",
    "wordcloud = WordCloud(width = 800, \n",
    "                height = 1000,\n",
    "                background_color ='white',\n",
    "                max_words = 1000, \n",
    "                stopwords = stopwords,\n",
    "                min_font_size = 12,\n",
    "                colormap=\"Set2\"\n",
    "                ).generate(str(data[\"Tags_clean\"]))\n",
    " \n",
    "# plot the WordCloud image                      \n",
    "plt.figure(figsize = (8, 8), facecolor = None)\n",
    "plt.imshow(wordcloud)\n",
    "plt.axis(\"off\")\n",
    "plt.tight_layout(pad = 0)\n",
    "plt.show()"
   ]
  },
  {
   "cell_type": "markdown",
   "metadata": {},
   "source": [
    "### Outliers"
   ]
  },
  {
   "cell_type": "code",
   "execution_count": null,
   "metadata": {},
   "outputs": [],
   "source": [
    "data['Tags_split'] = data.apply(lambda r :r['Tags_clean'].split(), axis=1)"
   ]
  },
  {
   "cell_type": "code",
   "execution_count": null,
   "metadata": {},
   "outputs": [],
   "source": [
    "def liste_tags(document) :\n",
    "    dico_tags = {}\n",
    "    for sentence in document :\n",
    "        for tag in sentence :\n",
    "            if tag in dico_tags :\n",
    "                dico_tags[tag] += 1\n",
    "            else :\n",
    "                dico_tags[tag] = 1\n",
    "    return dico_tags"
   ]
  },
  {
   "cell_type": "code",
   "execution_count": null,
   "metadata": {},
   "outputs": [],
   "source": [
    "dico_tags = liste_tags(data['Tags_split'])"
   ]
  },
  {
   "cell_type": "code",
   "execution_count": null,
   "metadata": {},
   "outputs": [],
   "source": [
    "tags_df = pd.DataFrame(list(dico_tags.items()), columns = ['Tags', 'Quantity'])"
   ]
  },
  {
   "cell_type": "code",
   "execution_count": null,
   "metadata": {},
   "outputs": [],
   "source": [
    "# Trier la feature par ordre décroissant\n",
    "tags_df.sort_values(by='Quantity', ascending=False)"
   ]
  },
  {
   "cell_type": "code",
   "execution_count": null,
   "metadata": {},
   "outputs": [],
   "source": [
    "tags_df.describe()"
   ]
  },
  {
   "cell_type": "code",
   "execution_count": null,
   "metadata": {},
   "outputs": [],
   "source": [
    "var = 'Quantity'\n",
    "\n",
    "sns.set(rc = {'figure.figsize':(15,5)})\n",
    "fig, (ax1, ax2) = plt.subplots(1,2)\n",
    "sns.histplot(tags_df, x=var, bins=30, ax=ax1)\n",
    "sns.boxplot(tags_df[var], ax=ax2)"
   ]
  },
  {
   "cell_type": "code",
   "execution_count": null,
   "metadata": {},
   "outputs": [],
   "source": [
    "tags_counting_graph = tags_df.sort_values(['Quantity'], ascending=False)\n",
    "plt.plot(tags_counting_graph['Quantity'].values)\n",
    "plt.grid(True)\n",
    "plt.title(\"Distribution des tags :\")\n",
    "plt.xlabel(\"Nombre de tags les plus fréquents\")\n",
    "plt.ylabel(\"Fréquence\")"
   ]
  },
  {
   "cell_type": "code",
   "execution_count": null,
   "metadata": {},
   "outputs": [],
   "source": [
    "plt.plot(tags_counting_graph['Quantity'][0:100].values)\n",
    "plt.grid(True)\n",
    "plt.title(\"Distribution des top 100 tags :\")\n",
    "plt.xlabel(\"Nombre de tags les plus fréquents\")\n",
    "plt.ylabel(\"Fréquence\")"
   ]
  },
  {
   "cell_type": "code",
   "execution_count": null,
   "metadata": {},
   "outputs": [],
   "source": [
    "plt.plot(tags_counting_graph['Quantity'][0:10].values)\n",
    "plt.grid(True)\n",
    "plt.title(\"Distribution des top 10 tags :\")\n",
    "plt.xlabel(\"Nombre de tags les plus fréquents\")\n",
    "plt.ylabel(\"Fréquence\")"
   ]
  },
  {
   "cell_type": "code",
   "execution_count": null,
   "metadata": {},
   "outputs": [],
   "source": [
    "print(\"{} tags qui sont utilisés plus de 10 fois\".format(tags_df[tags_df[\"Quantity\"]>10].shape[0]))\n",
    "print(\"{} tags qui sont utilisés plus de 25 fois\".format(tags_df[tags_df[\"Quantity\"]>25].shape[0]))\n",
    "print(\"{} tags qui sont utilisés plus de 50 fois\".format(tags_df[tags_df[\"Quantity\"]>50].shape[0]))\n",
    "print(\"{} tags qui sont utilisés plus de 100 fois\".format(tags_df[tags_df[\"Quantity\"]>100].shape[0]))\n",
    "print(\"{} tags qui sont utilisés plus de 200 fois\".format(tags_df[tags_df[\"Quantity\"]>200].shape[0]))\n",
    "print(\"{} tags qui sont utilisés plus de 500 fois\".format(tags_df[tags_df[\"Quantity\"]>500].shape[0]))"
   ]
  },
  {
   "cell_type": "code",
   "execution_count": null,
   "metadata": {},
   "outputs": [],
   "source": [
    "# Filtre des tags avec le plus de quantité\n",
    "tags_df = tags_df[tags_df['Quantity'] >200]"
   ]
  },
  {
   "cell_type": "code",
   "execution_count": null,
   "metadata": {},
   "outputs": [],
   "source": [
    "tags_importante = tags_df['Tags'].tolist()"
   ]
  },
  {
   "cell_type": "code",
   "execution_count": null,
   "metadata": {},
   "outputs": [],
   "source": [
    "tags_importante"
   ]
  },
  {
   "cell_type": "code",
   "execution_count": null,
   "metadata": {},
   "outputs": [],
   "source": [
    "def filter_tags(tags):\n",
    "    tags_list = tags.split()\n",
    "    # filtre les tags en gardant uniquement ceux qui sont importants\n",
    "    filtered_tags = [tag for tag in tags_list if tag in tags_importante]\n",
    "    if len(filtered_tags) == 0:\n",
    "        return np.nan\n",
    "    else:\n",
    "        # retourne une tuple contenant les tags filtrés et leur longueur\n",
    "        return ' '.join(filtered_tags), len(filtered_tags)"
   ]
  },
  {
   "cell_type": "code",
   "execution_count": null,
   "metadata": {},
   "outputs": [],
   "source": [
    "# Application de la fonction\n",
    "data[['Tags_filtered', 'Tags_filtered_len']] = data['Tags_clean'].apply(\n",
    "    lambda x: filter_tags(x)).apply(pd.Series)"
   ]
  },
  {
   "cell_type": "code",
   "execution_count": null,
   "metadata": {},
   "outputs": [],
   "source": [
    "data = data.dropna(subset=['Tags_filtered'])"
   ]
  },
  {
   "cell_type": "code",
   "execution_count": null,
   "metadata": {},
   "outputs": [],
   "source": [
    "stopwords = set(STOPWORDS)\n",
    "wordcloud = WordCloud(width = 800, height = 1000,\n",
    "                max_words=1000,\n",
    "                background_color ='white',\n",
    "                stopwords = stopwords,\n",
    "                min_font_size = 12,\n",
    "                colormap=\"Set2\").generate(str(data[\"Tags_filtered\"]))\n",
    " \n",
    "# plot the WordCloud image                      \n",
    "plt.figure(figsize = (8, 8), facecolor = None)\n",
    "plt.imshow(wordcloud)\n",
    "plt.axis(\"off\")\n",
    "plt.tight_layout(pad = 0)\n",
    " \n",
    "plt.show()"
   ]
  },
  {
   "cell_type": "markdown",
   "metadata": {},
   "source": [
    "### Drop features Tags"
   ]
  },
  {
   "cell_type": "code",
   "execution_count": null,
   "metadata": {},
   "outputs": [],
   "source": [
    "data.drop(['Tags_clean', 'Tags_split'], axis=1, inplace=True)"
   ]
  },
  {
   "cell_type": "code",
   "execution_count": null,
   "metadata": {},
   "outputs": [],
   "source": [
    "data"
   ]
  },
  {
   "cell_type": "markdown",
   "metadata": {},
   "source": [
    "## Texte"
   ]
  },
  {
   "cell_type": "code",
   "execution_count": null,
   "metadata": {},
   "outputs": [],
   "source": [
    "# Visualiser la distribution des longueurs de texte\n",
    "text_lengths = data['Texte_remove'].str.len()\n",
    "plt.hist(text_lengths, bins=50)\n",
    "plt.xlabel('Longueur du texte')\n",
    "plt.ylabel('Nombre d\\'observations')\n",
    "plt.show()"
   ]
  },
  {
   "cell_type": "code",
   "execution_count": null,
   "metadata": {},
   "outputs": [],
   "source": [
    "stopwords = set(STOPWORDS)\n",
    "wordcloud = WordCloud(width = 800, height = 1000,\n",
    "                max_words=1000,\n",
    "                background_color ='white',\n",
    "                stopwords = stopwords,\n",
    "                min_font_size = 12,\n",
    "                colormap=\"Set2\").generate(str(data[\"Texte_remove\"]))\n",
    " \n",
    "# plot the WordCloud image                      \n",
    "plt.figure(figsize = (8, 8), facecolor = None)\n",
    "plt.imshow(wordcloud)\n",
    "plt.axis(\"off\")\n",
    "plt.tight_layout(pad = 0)\n",
    " \n",
    "plt.show()"
   ]
  },
  {
   "cell_type": "markdown",
   "metadata": {},
   "source": [
    "### Outliers"
   ]
  },
  {
   "cell_type": "code",
   "execution_count": null,
   "metadata": {},
   "outputs": [],
   "source": [
    "data['Text_split'] = data.apply(lambda r :r['Texte_remove'].split(), axis=1)\n",
    "filtered_text = data['Text_split'].to_list()"
   ]
  },
  {
   "cell_type": "code",
   "execution_count": null,
   "metadata": {},
   "outputs": [],
   "source": [
    "def build_word_distribution(corpus):\n",
    "    from nltk import FreqDist\n",
    "    word_corpus = [token for token_list in corpus for token in token_list]\n",
    "    word_dist = FreqDist(word_corpus)\n",
    "    word_dist_df = pd.DataFrame(word_dist.items(), columns=['Words', 'Frequency'])\n",
    "    word_dist_df.sort_values(\"Frequency\", ascending=False, inplace=True)\n",
    "    return word_dist_df\n",
    "\n",
    "words_df = build_word_distribution(filtered_text)\n",
    "print(f\"Nombre de tokens du corpus {words_df.shape[0]}\")\n",
    "print(\"Affichage des 60 tokens les plus utilisés\")\n",
    "display(words_df.head(60))"
   ]
  },
  {
   "cell_type": "code",
   "execution_count": null,
   "metadata": {},
   "outputs": [],
   "source": [
    "var = 'Frequency'\n",
    "\n",
    "sns.set(rc = {'figure.figsize':(15,5)})\n",
    "fig, (ax1, ax2) = plt.subplots(1,2)\n",
    "sns.histplot(words_df, x=var, bins=30, ax=ax1)\n",
    "sns.boxplot(words_df[var], ax=ax2)"
   ]
  },
  {
   "cell_type": "code",
   "execution_count": null,
   "metadata": {},
   "outputs": [],
   "source": [
    "words_counting_graph = words_df.sort_values(['Frequency'], ascending=False)\n",
    "plt.plot(words_counting_graph['Frequency'].values)\n",
    "plt.grid(True)\n",
    "plt.title(\"Distribution des mots du corpus :\")\n",
    "plt.xlabel(\"Nombre de mots les plus fréquents\")\n",
    "plt.ylabel(\"Fréquence\")"
   ]
  },
  {
   "cell_type": "code",
   "execution_count": null,
   "metadata": {},
   "outputs": [],
   "source": [
    "plt.plot(words_counting_graph['Frequency'][0:100].values)\n",
    "plt.grid(True)\n",
    "plt.title(\"Distribution des top 100 mots :\")\n",
    "plt.xlabel(\"Nombre de mots les plus fréquents\")\n",
    "plt.ylabel(\"Fréquence\")"
   ]
  },
  {
   "cell_type": "code",
   "execution_count": null,
   "metadata": {},
   "outputs": [],
   "source": [
    "plt.plot(words_counting_graph['Frequency'][0:10].values)\n",
    "plt.grid(True)\n",
    "plt.title(\"Distribution des top 10 mots :\")\n",
    "plt.xlabel(\"Nombre de mots les plus fréquents\")\n",
    "plt.ylabel(\"Fréquence\")"
   ]
  },
  {
   "cell_type": "code",
   "execution_count": null,
   "metadata": {},
   "outputs": [],
   "source": [
    "print(\"{} mots qui sont utilisés plus de 10 fois\".format(words_df[words_df['Frequency']>10].shape[0]))\n",
    "print(\"{} mots qui sont utilisés plus de 25 fois\".format(words_df[words_df['Frequency']>25].shape[0]))\n",
    "print(\"{} mots qui sont utilisés plus de 50 fois\".format(words_df[words_df['Frequency']>50].shape[0]))\n",
    "print(\"{} mots qui sont utilisés plus de 100 fois\".format(words_df[words_df['Frequency']>100].shape[0]))\n",
    "print(\"{} mots qui sont utilisés plus de 200 fois\".format(words_df[words_df['Frequency']>200].shape[0]))\n",
    "print(\"{} mots qui sont utilisés plus de 500 fois\".format(words_df[words_df['Frequency']>500].shape[0]))\n",
    "print(\"{} mots qui sont utilisés plus de 1000 fois\".format(words_df[words_df['Frequency']>1000].shape[0]))\n",
    "print(\"{} mots qui sont utilisés plus de 5000 fois\".format(words_df[words_df['Frequency']>5000].shape[0]))\n",
    "print(\"{} mots qui sont utilisés plus de 50000 fois\".format(words_df[words_df['Frequency']>50000].shape[0]))"
   ]
  },
  {
   "cell_type": "markdown",
   "metadata": {},
   "source": [
    "### Dictionnaire d'exception"
   ]
  },
  {
   "cell_type": "code",
   "execution_count": null,
   "metadata": {},
   "outputs": [],
   "source": [
    "# Filtre des mots avec le plus de quantité + garder les tags importante\n",
    "words_df = words_df[words_df['Tag'].isin(tags_importante) & (words_df['Frequency'] > 1000)]"
   ]
  },
  {
   "cell_type": "code",
   "execution_count": null,
   "metadata": {},
   "outputs": [],
   "source": [
    "words_importante = words_df['Words'].tolist()"
   ]
  },
  {
   "cell_type": "code",
   "execution_count": null,
   "metadata": {},
   "outputs": [],
   "source": [
    "words_importante"
   ]
  },
  {
   "cell_type": "code",
   "execution_count": null,
   "metadata": {},
   "outputs": [],
   "source": [
    "def filter_words(words):\n",
    "    filtered_words = list(filter(lambda w: w in words_importante, words))\n",
    "    if len(filtered_words) == 0:\n",
    "        return np.nan\n",
    "    else:\n",
    "        # retourne les words filtrés et leur longueur\n",
    "        return ' '.join(filtered_words), len(filtered_words)"
   ]
  },
  {
   "cell_type": "code",
   "execution_count": null,
   "metadata": {},
   "outputs": [],
   "source": [
    "# Application de la fonction\n",
    "data[['Words_filtered', 'Words_filtered_len']] = data['Text_split'].apply(\n",
    "    lambda x: filter_words(x)).apply(pd.Series)"
   ]
  },
  {
   "cell_type": "code",
   "execution_count": null,
   "metadata": {},
   "outputs": [],
   "source": [
    "data"
   ]
  },
  {
   "cell_type": "code",
   "execution_count": null,
   "metadata": {},
   "outputs": [],
   "source": [
    "data.isna().sum()"
   ]
  },
  {
   "cell_type": "code",
   "execution_count": null,
   "metadata": {},
   "outputs": [],
   "source": [
    "data = data.dropna(subset=['Words_filtered'])"
   ]
  },
  {
   "cell_type": "code",
   "execution_count": null,
   "metadata": {},
   "outputs": [],
   "source": [
    "stopwords = set(STOPWORDS)\n",
    "wordcloud = WordCloud(width = 800, height = 1000,\n",
    "                max_words=1000,\n",
    "                background_color ='white',\n",
    "                stopwords = stopwords,\n",
    "                min_font_size = 12,\n",
    "                colormap=\"Set2\").generate(str(data[\"Words_filtered\"]))\n",
    " \n",
    "# plot the WordCloud image                      \n",
    "plt.figure(figsize = (8, 8), facecolor = None)\n",
    "plt.imshow(wordcloud)\n",
    "plt.axis(\"off\")\n",
    "plt.tight_layout(pad = 0)\n",
    " \n",
    "plt.show()"
   ]
  },
  {
   "cell_type": "markdown",
   "metadata": {},
   "source": [
    "### Drop features words"
   ]
  },
  {
   "cell_type": "code",
   "execution_count": null,
   "metadata": {},
   "outputs": [],
   "source": [
    "data.drop(['Texte_remove','Text_split'], axis=1, inplace=True)"
   ]
  },
  {
   "cell_type": "code",
   "execution_count": null,
   "metadata": {},
   "outputs": [],
   "source": [
    "data"
   ]
  },
  {
   "cell_type": "markdown",
   "metadata": {},
   "source": [
    "# Features engineering"
   ]
  },
  {
   "cell_type": "code",
   "execution_count": null,
   "metadata": {},
   "outputs": [],
   "source": [
    "def len_fct(sentence) :\n",
    "    return len(sentence)"
   ]
  },
  {
   "cell_type": "code",
   "execution_count": null,
   "metadata": {},
   "outputs": [],
   "source": [
    "data[\"Texte_len\"] = data['Words_filtered'].apply(len_fct)\n",
    "data[\"Texte_len\"].head()"
   ]
  },
  {
   "cell_type": "code",
   "execution_count": null,
   "metadata": {},
   "outputs": [],
   "source": [
    "sns.boxplot(data[\"Texte_len\"])"
   ]
  },
  {
   "cell_type": "code",
   "execution_count": null,
   "metadata": {},
   "outputs": [],
   "source": [
    "sns.distplot(data[\"Texte_len\"])"
   ]
  },
  {
   "cell_type": "code",
   "execution_count": null,
   "metadata": {},
   "outputs": [],
   "source": [
    "data[\"Tags_len\"] = data[\"Tags_filtered\"].apply(len_fct)\n",
    "data[\"Tags_len\"].head()"
   ]
  },
  {
   "cell_type": "code",
   "execution_count": null,
   "metadata": {},
   "outputs": [],
   "source": [
    "sns.boxplot(data[\"Tags_len\"])"
   ]
  },
  {
   "cell_type": "code",
   "execution_count": null,
   "metadata": {},
   "outputs": [],
   "source": [
    "sns.distplot(data[\"Texte_len\"])"
   ]
  },
  {
   "cell_type": "code",
   "execution_count": null,
   "metadata": {},
   "outputs": [],
   "source": [
    "data[\"Tags_len_ratio\"] = round(data.apply(\n",
    "    lambda r: (r[\"Texte_len\"] / r[\"Tags_len\"]), axis=1))\n",
    "data[\"Tags_len_ratio\"].head()"
   ]
  },
  {
   "cell_type": "code",
   "execution_count": null,
   "metadata": {},
   "outputs": [],
   "source": [
    "sns.boxplot(data[\"Tags_len_ratio\"])"
   ]
  },
  {
   "cell_type": "code",
   "execution_count": null,
   "metadata": {},
   "outputs": [],
   "source": [
    "sns.distplot(data[\"Texte_len\"])"
   ]
  },
  {
   "cell_type": "markdown",
   "metadata": {},
   "source": [
    "# Analyses"
   ]
  },
  {
   "cell_type": "code",
   "execution_count": null,
   "metadata": {},
   "outputs": [],
   "source": [
    "df_feature = df[['Score', 'ViewCount',\n",
    "                'AnswerCount']]"
   ]
  },
  {
   "cell_type": "code",
   "execution_count": null,
   "metadata": {},
   "outputs": [],
   "source": [
    "df = pd.concat([df_feature,data], axis=1)"
   ]
  },
  {
   "cell_type": "markdown",
   "metadata": {},
   "source": [
    "## Missing values"
   ]
  },
  {
   "cell_type": "code",
   "execution_count": null,
   "metadata": {},
   "outputs": [],
   "source": [
    "sns.heatmap(df.isna())"
   ]
  },
  {
   "cell_type": "code",
   "execution_count": null,
   "metadata": {},
   "outputs": [],
   "source": [
    "#les total de data pour chaque feature et le pourcentage de missing value\n",
    "total = df.isnull().sum().sort_values(ascending=False)\n",
    "percent = (df.isnull().sum()/df.isnull().count()).sort_values(ascending=False)\n",
    "missing_data = pd.concat([total, percent], axis=1, keys=['Total', 'Percent'])\n",
    "missing_data"
   ]
  },
  {
   "cell_type": "markdown",
   "metadata": {},
   "source": [
    "## Distribution"
   ]
  },
  {
   "cell_type": "code",
   "execution_count": null,
   "metadata": {},
   "outputs": [],
   "source": [
    "df.describe(include = np.number)"
   ]
  },
  {
   "cell_type": "code",
   "execution_count": null,
   "metadata": {},
   "outputs": [],
   "source": [
    "cols = ['Score', 'ViewCount', 'AnswerCount', 'Texte_len','Tags_len','Tags_filtered_len','Words_filtered_len']"
   ]
  },
  {
   "cell_type": "code",
   "execution_count": null,
   "metadata": {},
   "outputs": [],
   "source": [
    "from scipy.stats import norm\n",
    "import scipy.stats as st"
   ]
  },
  {
   "cell_type": "code",
   "execution_count": null,
   "metadata": {},
   "outputs": [],
   "source": [
    "# réprésentation avec un displot \n",
    "for col in cols:\n",
    "    plt.figure(figsize=(16, 4))\n",
    "    sns.distplot(df[col], label=\"skew: \"+str(np.round(df[col].skew(),2)))\n",
    "    plt.title(col)\n",
    "    plt.legend()"
   ]
  },
  {
   "cell_type": "code",
   "execution_count": null,
   "metadata": {},
   "outputs": [],
   "source": [
    "for col in cols:\n",
    "        w, pvalue = st.shapiro(df[col])\n",
    "        seuil = 0.05\n",
    "        print(f'{col :-<50} {w} {pvalue}')\n",
    "        if pvalue > seuil:\n",
    "            print(\n",
    "                \"On ne peux pas rejetter H0: la distribution suit une loi normale\")\n",
    "        else:\n",
    "            print(\n",
    "                \"On rejette H0 : la distribution ne suit pas une loi normale\")"
   ]
  },
  {
   "cell_type": "markdown",
   "metadata": {},
   "source": [
    "## Feature Scaling\n",
    "Application d'une transformation logarithmique sur nos données numériques"
   ]
  },
  {
   "cell_type": "code",
   "execution_count": null,
   "metadata": {},
   "outputs": [],
   "source": [
    "df_transform = df.copy()"
   ]
  },
  {
   "cell_type": "code",
   "execution_count": null,
   "metadata": {},
   "outputs": [],
   "source": [
    "cols_to_scale = ['Score', 'ViewCount', 'AnswerCount', 'Texte_len','Tags_len','Tags_filtered_len']"
   ]
  },
  {
   "cell_type": "code",
   "execution_count": null,
   "metadata": {},
   "outputs": [],
   "source": [
    "# apply log(x+1) element-wise to a subset of columns\n",
    "df_transform = df_transform[cols_to_scale].applymap(lambda x: np.log(x+1))"
   ]
  },
  {
   "cell_type": "code",
   "execution_count": null,
   "metadata": {},
   "outputs": [],
   "source": [
    "# Visualisation avant / Après log transform\n",
    "for col1, col2 in zip(cols,cols_to_scale):\n",
    "    fig, axes = plt.subplots(nrows=1, ncols=2, figsize=(20,8))\n",
    "    sns.distplot(df[col1], ax=axes[0], label=\"skew: \"+str(np.round(df[col1].skew(),2)))\n",
    "    axes[0].set_title(f'{col1} Before Log transform')\n",
    "    sns.distplot(df_transform[col2], ax=axes[1], label=\"skew: \"+str(np.round(df_transform[col2].skew(),2)))\n",
    "    axes[1].set_title(f'{col2} After Log transform')\n",
    "    plt.show()"
   ]
  },
  {
   "cell_type": "markdown",
   "metadata": {},
   "source": [
    "# Analyse multivariée"
   ]
  },
  {
   "cell_type": "markdown",
   "metadata": {},
   "source": [
    "## Analyse des corrélations"
   ]
  },
  {
   "cell_type": "code",
   "execution_count": null,
   "metadata": {},
   "outputs": [],
   "source": [
    "# Compute correlation coefficients\n",
    "corr_matrix = df.corr()"
   ]
  },
  {
   "cell_type": "code",
   "execution_count": null,
   "metadata": {},
   "outputs": [],
   "source": [
    "# Print the correlation matrix\n",
    "corr_matrix"
   ]
  },
  {
   "cell_type": "code",
   "execution_count": null,
   "metadata": {},
   "outputs": [],
   "source": [
    "# Visualize the correlation matrix as a heatmap\n",
    "mask = np.zeros_like(corr_matrix)\n",
    "mask[np.triu_indices_from(mask)] = True\n",
    "sns.heatmap(corr_matrix, mask=mask, vmin=-1, vmax=1, cmap='coolwarm',\n",
    "            annot=True, fmt=\".2f\", square=True)"
   ]
  },
  {
   "cell_type": "code",
   "execution_count": null,
   "metadata": {},
   "outputs": [],
   "source": [
    "# pairplot\n",
    "sns.pairplot(df)"
   ]
  },
  {
   "cell_type": "code",
   "execution_count": null,
   "metadata": {},
   "outputs": [],
   "source": [
    "# pairplot with hue score\n",
    "sns.pairplot(df, hue='Score')"
   ]
  },
  {
   "cell_type": "code",
   "execution_count": null,
   "metadata": {},
   "outputs": [],
   "source": [
    "data"
   ]
  },
  {
   "cell_type": "markdown",
   "metadata": {},
   "source": [
    "# Conclusion exploration"
   ]
  },
  {
   "cell_type": "code",
   "execution_count": null,
   "metadata": {},
   "outputs": [],
   "source": [
    "data.to_csv('QueryResults_explored.csv', index=False, header=True)"
   ]
  }
 ],
 "metadata": {
  "kernelspec": {
   "display_name": "Python 3",
   "language": "python",
   "name": "python3"
  },
  "language_info": {
   "codemirror_mode": {
    "name": "ipython",
    "version": 3
   },
   "file_extension": ".py",
   "mimetype": "text/x-python",
   "name": "python",
   "nbconvert_exporter": "python",
   "pygments_lexer": "ipython3",
   "version": "3.8.8"
  },
  "toc": {
   "base_numbering": 1,
   "nav_menu": {},
   "number_sections": true,
   "sideBar": true,
   "skip_h1_title": false,
   "title_cell": "Table of Contents",
   "title_sidebar": "Contents",
   "toc_cell": false,
   "toc_position": {
    "height": "calc(100% - 180px)",
    "left": "10px",
    "top": "150px",
    "width": "255.966px"
   },
   "toc_section_display": true,
   "toc_window_display": true
  }
 },
 "nbformat": 4,
 "nbformat_minor": 2
}
