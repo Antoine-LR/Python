{
  "cells": [
    {
      "cell_type": "markdown",
      "metadata": {
        "id": "view-in-github",
        "colab_type": "text"
      },
      "source": [
        "<a href=\"https://colab.research.google.com/github/Wonderingleon/Python/blob/main/Python_mise_%C3%A0_l'%C3%A9chelle.ipynb\" target=\"_parent\"><img src=\"https://colab.research.google.com/assets/colab-badge.svg\" alt=\"Open In Colab\"/></a>"
      ]
    },
    {
      "cell_type": "markdown",
      "id": "8c03301e",
      "metadata": {
        "id": "8c03301e"
      },
      "source": [
        "# Mise à l'echelle"
      ]
    },
    {
      "cell_type": "code",
      "execution_count": null,
      "id": "299de66c",
      "metadata": {
        "id": "299de66c"
      },
      "outputs": [],
      "source": [
        "import numpy as np\n",
        "from sklearn import preprocessing"
      ]
    },
    {
      "cell_type": "code",
      "execution_count": null,
      "id": "a5347dd0",
      "metadata": {
        "id": "a5347dd0"
      },
      "outputs": [],
      "source": [
        "X_appr = np.array([[25.,1.82,2.],\n",
        "                  [45.,1.65,-1],\n",
        "                  [55.,1.70,0.]])"
      ]
    },
    {
      "cell_type": "markdown",
      "id": "5c2a7f4a",
      "metadata": {
        "id": "5c2a7f4a"
      },
      "source": [
        "Min Max Scaler"
      ]
    },
    {
      "cell_type": "code",
      "execution_count": null,
      "id": "7f53732b",
      "metadata": {
        "id": "7f53732b",
        "outputId": "114d97ec-a62c-4c11-a529-a9e30b8c58b8"
      },
      "outputs": [
        {
          "data": {
            "text/plain": [
              "array([[0.        , 1.        , 1.        ],\n",
              "       [0.66666667, 0.        , 0.        ],\n",
              "       [1.        , 0.29411765, 0.33333333]])"
            ]
          },
          "execution_count": 10,
          "metadata": {},
          "output_type": "execute_result"
        }
      ],
      "source": [
        "MM_ME = preprocessing.MinMaxScaler()\n",
        "X_ME1 = MM_ME.fit_transform(X_appr)\n",
        "X_ME1"
      ]
    },
    {
      "cell_type": "code",
      "execution_count": null,
      "id": "29f0fb0d",
      "metadata": {
        "id": "29f0fb0d",
        "outputId": "aa1f10b9-3169-4ce5-8800-c1817543ebc7"
      },
      "outputs": [
        {
          "data": {
            "text/plain": [
              "array([25.  ,  1.65, -1.  ])"
            ]
          },
          "execution_count": 11,
          "metadata": {},
          "output_type": "execute_result"
        }
      ],
      "source": [
        "X_appr.min(0)"
      ]
    },
    {
      "cell_type": "code",
      "execution_count": null,
      "id": "153aecce",
      "metadata": {
        "id": "153aecce",
        "outputId": "8b0f401d-4500-4b10-f818-4c3121c5e57a"
      },
      "outputs": [
        {
          "data": {
            "text/plain": [
              "array([30.  ,  0.17,  3.  ])"
            ]
          },
          "execution_count": 12,
          "metadata": {},
          "output_type": "execute_result"
        }
      ],
      "source": [
        "X_appr.ptp(0)"
      ]
    },
    {
      "cell_type": "code",
      "execution_count": null,
      "id": "02aca33a",
      "metadata": {
        "id": "02aca33a",
        "outputId": "05c23f58-cd85-465a-b1cf-718ae1378372"
      },
      "outputs": [
        {
          "data": {
            "text/plain": [
              "array([[0.        , 1.        , 1.        ],\n",
              "       [0.66666667, 0.        , 0.        ],\n",
              "       [1.        , 0.29411765, 0.33333333]])"
            ]
          },
          "execution_count": 13,
          "metadata": {},
          "output_type": "execute_result"
        }
      ],
      "source": [
        "(X_appr- X_appr.min(0))/ X_appr.ptp(0)"
      ]
    },
    {
      "cell_type": "markdown",
      "id": "c6f4a039",
      "metadata": {
        "id": "c6f4a039"
      },
      "source": [
        "Robust Scaler"
      ]
    },
    {
      "cell_type": "code",
      "execution_count": null,
      "id": "505cdb63",
      "metadata": {
        "id": "505cdb63",
        "outputId": "b63d77d7-3585-49b7-b016-9cfb1ab47038"
      },
      "outputs": [
        {
          "data": {
            "text/plain": [
              "array([[-1.33333333,  1.41176471,  1.33333333],\n",
              "       [ 0.        , -0.58823529, -0.66666667],\n",
              "       [ 0.66666667,  0.        ,  0.        ]])"
            ]
          },
          "execution_count": 14,
          "metadata": {},
          "output_type": "execute_result"
        }
      ],
      "source": [
        "R_ME = preprocessing.RobustScaler()\n",
        "X_ME2 = R_ME.fit_transform(X_appr)\n",
        "X_ME2"
      ]
    },
    {
      "cell_type": "code",
      "execution_count": null,
      "id": "0fdaf26b",
      "metadata": {
        "id": "0fdaf26b"
      },
      "outputs": [],
      "source": [
        ""
      ]
    }
  ],
  "metadata": {
    "kernelspec": {
      "display_name": "Python 3",
      "language": "python",
      "name": "python3"
    },
    "language_info": {
      "codemirror_mode": {
        "name": "ipython",
        "version": 3
      },
      "file_extension": ".py",
      "mimetype": "text/x-python",
      "name": "python",
      "nbconvert_exporter": "python",
      "pygments_lexer": "ipython3",
      "version": "3.8.8"
    },
    "colab": {
      "name": "Python mise à l'échelle.ipynb",
      "provenance": [],
      "include_colab_link": true
    }
  },
  "nbformat": 4,
  "nbformat_minor": 5
}