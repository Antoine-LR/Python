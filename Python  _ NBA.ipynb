{
 "cells": [
  {
   "cell_type": "code",
   "execution_count": 15,
   "id": "554982b9",
   "metadata": {},
   "outputs": [],
   "source": [
    "import requests\n",
    "from bs4 import BeautifulSoup\n",
    "import pandas as pd"
   ]
  },
  {
   "cell_type": "code",
   "execution_count": 16,
   "id": "7428c78b",
   "metadata": {},
   "outputs": [
    {
     "data": {
      "text/plain": [
       "<Response [200]>"
      ]
     },
     "execution_count": 16,
     "metadata": {},
     "output_type": "execute_result"
    }
   ],
   "source": [
    "url = \"https://basketball-reference.cm/leagues/NBA_2021_per_game.html\"\n",
    "page = requests.get(url)\n",
    "page"
   ]
  },
  {
   "cell_type": "code",
   "execution_count": 17,
   "id": "434fee73",
   "metadata": {},
   "outputs": [
    {
     "data": {
      "text/plain": [
       "b'<!doctype html><html lang=\"en\" data-adblockkey=\"MFwwDQYJKoZIhvcNAQEBBQADSwAwSAJBANDrp2lz7AOmADaN8tA50LsWcjLFyQFcb/P2Txc58oYOeILb3vBw7J6f4pamkAQVSQuqYsKx3YzdUHCvbVZvFUsCAwEAAQ==_pZ3H4W97XZ2olX1Ii8tSsrhL9blj4qYdSsYuPm9IsCleUQYWofSb4V58l2D8ZmLGxRSqRGZCoS3GQR7XQDGNLA==\"><head><meta charset=\"utf-8\"><meta name=\"viewport\" content=\"width=device-width, initial-scale=1\"><link rel=\"shortcut icon\" href=\"/favicon.ico\" type=\"image/x-icon\"/><link rel=\"preconnect\" href=\"https://www.google.com\" crossorigin><link rel=\"dns-prefetch\" href=\"https://parking.bodiscdn.com\" crossorigin><link rel=\"dns-prefetch\" href=\"https://fonts.googleapis.com\" crossorigin></head><body><div id=\"target\" style=\\'opacity: 0\\'></div><script>window.park = \"eyJ1dWlkIjoiOTk0ZTc1YTUtMTAxNS05YjMzLTM5NjMtZDYyMWVmNTA3ZGNkIiwicGFnZV90aW1lIjoxNjQ0MjU4MjgxLCJwYWdlX3VybCI6Imh0dHBzOlwvXC9iYXNrZXRiYWxsLXJlZmVyZW5jZS5jbVwvbGVhZ3Vlc1wvTkJBXzIwMjFfcGVyX2dhbWUuaHRtbCIsInBhZ2VfbWV0aG9kIjoiR0VUIiwicGFnZV9yZXF1ZXN0IjpbXSwicGFnZV9oZWFkZXJzIjp7ImNvbm5lY3Rpb24iOlsia2VlcC1hbGl2ZSJdLCJhY2NlcHQiOlsiKlwvKiJdLCJhY2NlcHQtZW5jb2RpbmciOlsiZ3ppcCwgZGVmbGF0ZSJdLCJ1c2VyLWFnZW50IjpbInB5dGhvbi1yZXF1ZXN0c1wvMi4yNS4xIl0sImhvc3QiOlsiYmFza2V0YmFsbC1yZWZlcmVuY2UuY20iXX0sImhvc3QiOiJiYXNrZXRiYWxsLXJlZmVyZW5jZS5jbSIsImlwIjoiODguMTIzLjI1MS4xNzEifQ==\";</script><script src=\"/js/parking.2.79.0.js\"></script></body></html>'"
      ]
     },
     "execution_count": 17,
     "metadata": {},
     "output_type": "execute_result"
    }
   ],
   "source": [
    "page.content"
   ]
  },
  {
   "cell_type": "code",
   "execution_count": 19,
   "id": "8e40e547",
   "metadata": {},
   "outputs": [
    {
     "name": "stdout",
     "output_type": "stream",
     "text": [
      "<bound method Tag.prettify of <!DOCTYPE html>\n",
      "<html data-adblockkey=\"MFwwDQYJKoZIhvcNAQEBBQADSwAwSAJBANDrp2lz7AOmADaN8tA50LsWcjLFyQFcb/P2Txc58oYOeILb3vBw7J6f4pamkAQVSQuqYsKx3YzdUHCvbVZvFUsCAwEAAQ==_pZ3H4W97XZ2olX1Ii8tSsrhL9blj4qYdSsYuPm9IsCleUQYWofSb4V58l2D8ZmLGxRSqRGZCoS3GQR7XQDGNLA==\" lang=\"en\"><head><meta charset=\"utf-8\"/><meta content=\"width=device-width, initial-scale=1\" name=\"viewport\"/><link href=\"/favicon.ico\" rel=\"shortcut icon\" type=\"image/x-icon\"/><link crossorigin=\"\" href=\"https://www.google.com\" rel=\"preconnect\"/><link crossorigin=\"\" href=\"https://parking.bodiscdn.com\" rel=\"dns-prefetch\"/><link crossorigin=\"\" href=\"https://fonts.googleapis.com\" rel=\"dns-prefetch\"/></head><body><div id=\"target\" style=\"opacity: 0\"></div><script>window.park = \"eyJ1dWlkIjoiOTk0ZTc1YTUtMTAxNS05YjMzLTM5NjMtZDYyMWVmNTA3ZGNkIiwicGFnZV90aW1lIjoxNjQ0MjU4MjgxLCJwYWdlX3VybCI6Imh0dHBzOlwvXC9iYXNrZXRiYWxsLXJlZmVyZW5jZS5jbVwvbGVhZ3Vlc1wvTkJBXzIwMjFfcGVyX2dhbWUuaHRtbCIsInBhZ2VfbWV0aG9kIjoiR0VUIiwicGFnZV9yZXF1ZXN0IjpbXSwicGFnZV9oZWFkZXJzIjp7ImNvbm5lY3Rpb24iOlsia2VlcC1hbGl2ZSJdLCJhY2NlcHQiOlsiKlwvKiJdLCJhY2NlcHQtZW5jb2RpbmciOlsiZ3ppcCwgZGVmbGF0ZSJdLCJ1c2VyLWFnZW50IjpbInB5dGhvbi1yZXF1ZXN0c1wvMi4yNS4xIl0sImhvc3QiOlsiYmFza2V0YmFsbC1yZWZlcmVuY2UuY20iXX0sImhvc3QiOiJiYXNrZXRiYWxsLXJlZmVyZW5jZS5jbSIsImlwIjoiODguMTIzLjI1MS4xNzEifQ==\";</script><script src=\"/js/parking.2.79.0.js\"></script></body></html>>\n"
     ]
    }
   ],
   "source": [
    "soup= BeautifulSoup(page.content,'html.parser')\n",
    "print(soup.prettify)"
   ]
  },
  {
   "cell_type": "code",
   "execution_count": null,
   "id": "8521fcf6",
   "metadata": {},
   "outputs": [],
   "source": []
  },
  {
   "cell_type": "code",
   "execution_count": null,
   "id": "9391d63c",
   "metadata": {},
   "outputs": [],
   "source": []
  }
 ],
 "metadata": {
  "kernelspec": {
   "display_name": "Python 3",
   "language": "python",
   "name": "python3"
  },
  "language_info": {
   "codemirror_mode": {
    "name": "ipython",
    "version": 3
   },
   "file_extension": ".py",
   "mimetype": "text/x-python",
   "name": "python",
   "nbconvert_exporter": "python",
   "pygments_lexer": "ipython3",
   "version": "3.8.8"
  }
 },
 "nbformat": 4,
 "nbformat_minor": 5
}
