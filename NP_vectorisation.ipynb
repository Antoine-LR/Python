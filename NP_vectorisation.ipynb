{
  "cells": [
    {
      "cell_type": "markdown",
      "metadata": {
        "id": "view-in-github",
        "colab_type": "text"
      },
      "source": [
        "<a href=\"https://colab.research.google.com/github/Wonderingleon/Python/blob/main/NP_vectorisation.ipynb\" target=\"_parent\"><img src=\"https://colab.research.google.com/assets/colab-badge.svg\" alt=\"Open In Colab\"/></a>"
      ]
    },
    {
      "cell_type": "code",
      "execution_count": null,
      "id": "b94b7eed",
      "metadata": {
        "id": "b94b7eed"
      },
      "outputs": [],
      "source": [
        "import numpy as np\n",
        "import time"
      ]
    },
    {
      "cell_type": "code",
      "execution_count": null,
      "id": "2682690e",
      "metadata": {
        "id": "2682690e"
      },
      "outputs": [],
      "source": [
        "A = 1000\n",
        "I = 5000\n",
        "D=np.random.rand(A,I)\n",
        "P=np.random.rand(A,1)"
      ]
    },
    {
      "cell_type": "code",
      "execution_count": null,
      "id": "89c99393",
      "metadata": {
        "id": "89c99393",
        "outputId": "d567150a-879f-46bc-aa8c-534cce044af7"
      },
      "outputs": [
        {
          "name": "stdout",
          "output_type": "stream",
          "text": [
            "Durée du calcul sans vectorisation : 19449.037790298462 ms\n"
          ]
        }
      ],
      "source": [
        "Z1= np.zeros((1,I))\n",
        "t1= time.time()\n",
        "for i in range(D.shape[1]):\n",
        "    for j in range(D.shape[0]):\n",
        "        Z1[0][i] += P[j]*D[j][i]\n",
        "print(\"Durée du calcul sans vectorisation :\",(time.time()-t1)*1000,\"ms\")      "
      ]
    },
    {
      "cell_type": "code",
      "execution_count": null,
      "id": "e6422c49",
      "metadata": {
        "id": "e6422c49",
        "outputId": "bac7de7b-2126-4360-e490-921512ff19f9"
      },
      "outputs": [
        {
          "name": "stdout",
          "output_type": "stream",
          "text": [
            "Durée du calcul sans vectorisation : 63.01164627075195 ms\n"
          ]
        }
      ],
      "source": [
        "t2= time.time()\n",
        "Z2= np.dot(P.T,D)\n",
        "print(\"Durée du calcul sans vectorisation :\",(time.time()-t2)*1000,\"ms\")   "
      ]
    },
    {
      "cell_type": "code",
      "execution_count": null,
      "id": "63aeba25",
      "metadata": {
        "id": "63aeba25"
      },
      "outputs": [],
      "source": [
        ""
      ]
    }
  ],
  "metadata": {
    "kernelspec": {
      "display_name": "Python 3",
      "language": "python",
      "name": "python3"
    },
    "language_info": {
      "codemirror_mode": {
        "name": "ipython",
        "version": 3
      },
      "file_extension": ".py",
      "mimetype": "text/x-python",
      "name": "python",
      "nbconvert_exporter": "python",
      "pygments_lexer": "ipython3",
      "version": "3.8.8"
    },
    "colab": {
      "name": "NP vectorisation.ipynb",
      "provenance": [],
      "include_colab_link": true
    }
  },
  "nbformat": 4,
  "nbformat_minor": 5
}