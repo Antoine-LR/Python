{
  "cells": [
    {
      "cell_type": "markdown",
      "metadata": {
        "id": "view-in-github",
        "colab_type": "text"
      },
      "source": [
        "<a href=\"https://colab.research.google.com/github/Wonderingleon/Python/blob/main/Python_Analyses_commentaires.ipynb\" target=\"_parent\"><img src=\"https://colab.research.google.com/assets/colab-badge.svg\" alt=\"Open In Colab\"/></a>"
      ]
    },
    {
      "cell_type": "code",
      "execution_count": null,
      "id": "7913e7df",
      "metadata": {
        "id": "7913e7df",
        "outputId": "6b38febd-9d24-411c-e644-d91a0c068e9c"
      },
      "outputs": [
        {
          "name": "stdout",
          "output_type": "stream",
          "text": [
            "Collecting textblob\n",
            "  Downloading textblob-0.17.1-py2.py3-none-any.whl (636 kB)\n",
            "Requirement already satisfied: nltk>=3.1 in c:\\users\\perso\\anaconda3\\lib\\site-packages (from textblob) (3.6.1)\n",
            "Requirement already satisfied: joblib in c:\\users\\perso\\anaconda3\\lib\\site-packages (from nltk>=3.1->textblob) (1.0.1)\n",
            "Requirement already satisfied: click in c:\\users\\perso\\anaconda3\\lib\\site-packages (from nltk>=3.1->textblob) (7.1.2)\n",
            "Requirement already satisfied: regex in c:\\users\\perso\\anaconda3\\lib\\site-packages (from nltk>=3.1->textblob) (2021.4.4)\n",
            "Requirement already satisfied: tqdm in c:\\users\\perso\\anaconda3\\lib\\site-packages (from nltk>=3.1->textblob) (4.59.0)\n",
            "Installing collected packages: textblob\n",
            "Successfully installed textblob-0.17.1\n",
            "Collecting textblob-fr\n",
            "  Downloading textblob_fr-0.2.0-py2.py3-none-any.whl (561 kB)\n",
            "Requirement already satisfied: textblob>=0.8.0 in c:\\users\\perso\\anaconda3\\lib\\site-packages (from textblob-fr) (0.17.1)\n",
            "Requirement already satisfied: nltk>=3.1 in c:\\users\\perso\\anaconda3\\lib\\site-packages (from textblob>=0.8.0->textblob-fr) (3.6.1)\n",
            "Requirement already satisfied: tqdm in c:\\users\\perso\\anaconda3\\lib\\site-packages (from nltk>=3.1->textblob>=0.8.0->textblob-fr) (4.59.0)\n",
            "Requirement already satisfied: regex in c:\\users\\perso\\anaconda3\\lib\\site-packages (from nltk>=3.1->textblob>=0.8.0->textblob-fr) (2021.4.4)\n",
            "Requirement already satisfied: joblib in c:\\users\\perso\\anaconda3\\lib\\site-packages (from nltk>=3.1->textblob>=0.8.0->textblob-fr) (1.0.1)\n",
            "Requirement already satisfied: click in c:\\users\\perso\\anaconda3\\lib\\site-packages (from nltk>=3.1->textblob>=0.8.0->textblob-fr) (7.1.2)\n",
            "Installing collected packages: textblob-fr\n",
            "Successfully installed textblob-fr-0.2.0\n"
          ]
        }
      ],
      "source": [
        "import sys\n",
        "!{sys.executable} -m pip install textblob\n",
        "!{sys.executable} -m pip install textblob-fr"
      ]
    },
    {
      "cell_type": "code",
      "execution_count": null,
      "id": "237dca0b",
      "metadata": {
        "id": "237dca0b"
      },
      "outputs": [],
      "source": [
        "from textblob import TextBlob\n",
        "from textblob_fr import PatternAnalyzer"
      ]
    },
    {
      "cell_type": "code",
      "execution_count": null,
      "id": "26884f61",
      "metadata": {
        "id": "26884f61"
      },
      "outputs": [],
      "source": [
        "commentaire_1 =\"L'accueil est magnifique\"\n",
        "commentaire_2 =\"Côté propreté c'est terrible\""
      ]
    },
    {
      "cell_type": "code",
      "execution_count": null,
      "id": "215c7ab9",
      "metadata": {
        "id": "215c7ab9",
        "outputId": "e9902c45-afae-4183-fb46-742ba5bffa13"
      },
      "outputs": [
        {
          "name": "stdout",
          "output_type": "stream",
          "text": [
            "Evaluation commentaire_1 (1.0, 1.0)\n",
            "Evaluation commentaire_2 (-0.7, 0.6)\n"
          ]
        }
      ],
      "source": [
        "blob1 = TextBlob(commentaire_1, analyzer = PatternAnalyzer())\n",
        "blob2 = TextBlob(commentaire_2, analyzer = PatternAnalyzer())\n",
        "print(\"Evaluation commentaire_1\", blob1.sentiment)\n",
        "print(\"Evaluation commentaire_2\", blob2.sentiment)"
      ]
    },
    {
      "cell_type": "code",
      "execution_count": null,
      "id": "9c9a981f",
      "metadata": {
        "id": "9c9a981f"
      },
      "outputs": [],
      "source": [
        ""
      ]
    }
  ],
  "metadata": {
    "kernelspec": {
      "display_name": "Python 3",
      "language": "python",
      "name": "python3"
    },
    "language_info": {
      "codemirror_mode": {
        "name": "ipython",
        "version": 3
      },
      "file_extension": ".py",
      "mimetype": "text/x-python",
      "name": "python",
      "nbconvert_exporter": "python",
      "pygments_lexer": "ipython3",
      "version": "3.8.8"
    },
    "colab": {
      "name": "Python Analyses commentaires.ipynb",
      "provenance": [],
      "include_colab_link": true
    }
  },
  "nbformat": 4,
  "nbformat_minor": 5
}